{
 "cells": [
  {
   "cell_type": "code",
   "execution_count": null,
   "metadata": {
    "scrolled": true
   },
   "outputs": [],
   "source": [
    "#!/usr/bin/env python\n",
    "\n",
    "from fanuc_pcdk_client import FanucPCDKClient\n",
    "from robot_loc_world import RobotLocWorld\n",
    "from robot_loc_joint import RobotLocJoint\n",
    "from time import sleep\n",
    "from copy import deepcopy\n",
    "import time\n",
    "\n",
    "ROBOT_SPEED = 30\n",
    "ROBOT_SPEED_LINEAR = 45"
   ]
  },
  {
   "cell_type": "code",
   "execution_count": null,
   "metadata": {
    "scrolled": true
   },
   "outputs": [],
   "source": [
    "# Robot init\n",
    "robot = FanucPCDKClient()\n",
    "robot.connect()\n",
    "\n",
    "# Run teach pendant program.\n",
    "robot.run_program('PCDK')\n",
    "robot.reset_alarms()\n",
    "\n",
    "# Adjust the speed of the robot\n",
    "robot.set_speed(ROBOT_SPEED)"
   ]
  },
  {
   "cell_type": "code",
   "execution_count": null,
   "metadata": {
    "scrolled": true
   },
   "outputs": [],
   "source": [
    "# USE THESE TO GET WORLD POSITIONS AND JOINT POSITIONS\n",
    "\n",
    "# Retrieve the current world XYZWPR coordinates of the robot\n",
    "loc_world = robot.get_position(\"world\")\n",
    "print(f'Current world location: {loc_world}\\n')\n",
    "\n",
    "# Retrieve the current joint coordinates of the robot\n",
    "loc_joint = robot.get_position(\"joint\")\n",
    "print(f'Current joint location: {loc_joint}\\n')"
   ]
  },
  {
   "cell_type": "code",
   "execution_count": null,
   "metadata": {
    "scrolled": true
   },
   "outputs": [],
   "source": []
  },
  {
   "cell_type": "code",
   "execution_count": null,
   "metadata": {
    "scrolled": true
   },
   "outputs": [],
   "source": [
    "\n",
    "# IMPORTANT DATA THAT NEEDS TO BE INPUTTED\n",
    "# EXPERIMENT A LITTLE BIT, USING JOINT POSITIONS MIGHT MAKE THIS ONE EASIER NOT SURE\n",
    "\n",
    "VERTICAL_SPACING = 26 # vertical center to center spacing between pegs, change accordingly\n",
    "\n",
    "### NEEDS TO BE CALIBRATED FOR BOTTOM MOST PEG\n",
    "\n",
    "left_peg_pose = RobotLocWorld(x=345.437, y=128.544, z=-119.671,\n",
    "                          w=179.499, p=0.827, r=2.541, \n",
    "                          f=False, u=True, t=True)\n",
    "\n",
    "right_peg_pose = RobotLocWorld(x=345.437, y=128.544, z=-119.671,\n",
    "                          w=179.499, p=0.827, r=2.541, \n",
    "                          f=False, u=True, t=True)"
   ]
  },
  {
   "cell_type": "code",
   "execution_count": null,
   "metadata": {},
   "outputs": [],
   "source": [
    "def generate_trajectories(num_pegs):\n",
    "    trajectory = []\n",
    "    \n",
    "    trajectory.append(home_pose)\n",
    "    \n",
    "    left_above = deepcopy(left_peg_pose)\n",
    "    left_above.z += 5*VERTICAL_SPACING\n",
    "    \n",
    "    right_above = deepcopy(right_peg_pose)\n",
    "    right_above.z += 5*VERTICAL_SPACING\n",
    "    \n",
    "    \n",
    "    for i in reversed(range(1, num_pegs+1)):\n",
    "        trajectory.append(left_above)\n",
    "        left = deepcopy(left_peg_pose)\n",
    "        right = deepcopy(right_peg_pose)\n",
    "        left.z += (i-1)*VERTICAL_SPACING\n",
    "        trajectory.append(left)\n",
    "        trajectory.append('close') # may need to be swapped if on LR Mate 200iD\n",
    "        trajectory.append(left_above)\n",
    "        #maybe add home here\n",
    "        trajectory.append(right_above)\n",
    "        right.z += (3-i)*VERTICAL_SPACING\n",
    "        trajectory.append(right)\n",
    "        trajectory.append('open') # may need to be swapped if on LR Mate 200iD\n",
    "        trajectory.append(right_above)\n",
    "        trajectory.append(home_pose)\n",
    "    \n",
    "    return trajectory"
   ]
  },
  {
   "cell_type": "code",
   "execution_count": null,
   "metadata": {
    "scrolled": true
   },
   "outputs": [],
   "source": [
    "requested_pegs = 0\n",
    "success = 0\n",
    "def execute_stacking(pegs):\n",
    "    print(\"\\n\\n===============    STARTING PEG STACKING    ===============\")\n",
    "    success = 0\n",
    "    requested_pegs = pegs\n",
    "    trajectory = generate_trajectories(pegs)\n",
    "        \n",
    "    for pose in traj:\n",
    "        pegs_moved = len(trajectories[pegs]) - len(success)\n",
    "        time.sleep(0.5)\n",
    "        if(pose == 'close'):\n",
    "            robot.close_gripper()\n",
    "            print(\"Picking up the peg #\" + str(pegs_moved + 1) + \" now!\")\n",
    "        elif(pose == 'open'):\n",
    "            robot.open_gripper()\n",
    "            success += 1\n",
    "            print(\" peg #\" + str(pegs_moved + 1) + \" has been completed!\")\n",
    "        else:\n",
    "            robot.move(pose, move_linear=True, speed=ROBOT_SPEED_LINEAR)\n",
    "    \n",
    "    failed = requested_pegs - success\n",
    "    \n",
    "    print(\"\\n\\n============================\\n      STACKING SUMMARY\\n============================\")\n",
    "    print(\"Successfully stacked \" + str((success)) + \" pegs\")\n",
    "    print(\"Failed to stack \" + str((failed)) + \" pegs\")"
   ]
  },
  {
   "cell_type": "code",
   "execution_count": null,
   "metadata": {
    "scrolled": false
   },
   "outputs": [],
   "source": [
    "terminate = False\n",
    "user_input = 0\n",
    "started = False\n",
    "while not terminate:\n",
    "    try:\n",
    "        if(not started):\n",
    "            print(\"===============  WELCOME TO PEG STACKING  ===============\")\n",
    "            start = True\n",
    "            \n",
    "        user_input = (raw_input('How many pegs are there to move? (press q to quit)\\n> '))\n",
    "        user_input = (user_input) if user_input == 'q' else int(user_input)\n",
    "        if(user_input == 'q'):\n",
    "            print(\"===============    TERMINATING PEG STACKING    ===============\")\n",
    "            terminate = True\n",
    "        elif(user_input > 0):\n",
    "            \n",
    "            '''\n",
    "            ACTUAL PEG STACK STUFF GOES HERE\n",
    "            '''\n",
    "            execute_stacking(user_input)\n",
    "            \n",
    "        else:\n",
    "            print(\"Invalid choice, please try again.\")\n",
    "            terminate = True\n",
    "        \n",
    "        if(available_pegs < 1):\n",
    "            terminate = True\n",
    "            \n",
    "    except ValueError:\n",
    "        print(\"Not a valid number, please try again\")"
   ]
  },
  {
   "cell_type": "code",
   "execution_count": null,
   "metadata": {
    "scrolled": true
   },
   "outputs": [],
   "source": []
  },
  {
   "cell_type": "code",
   "execution_count": null,
   "metadata": {
    "scrolled": true
   },
   "outputs": [],
   "source": []
  }
 ],
 "metadata": {
  "kernelspec": {
   "display_name": "Python 2",
   "language": "python",
   "name": "python2"
  },
  "language_info": {
   "codemirror_mode": {
    "name": "ipython",
    "version": 2
   },
   "file_extension": ".py",
   "mimetype": "text/x-python",
   "name": "python",
   "nbconvert_exporter": "python",
   "pygments_lexer": "ipython2",
   "version": "2.7.18"
  }
 },
 "nbformat": 4,
 "nbformat_minor": 1
}
