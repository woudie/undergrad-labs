{
 "cells": [
  {
   "cell_type": "code",
   "execution_count": 26,
   "metadata": {
    "scrolled": true
   },
   "outputs": [],
   "source": [
    "#!/usr/bin/env python\n",
    "\n",
    "from fanuc_pcdk_client import FanucPCDKClient\n",
    "from robot_loc_world import RobotLocWorld\n",
    "from robot_loc_joint import RobotLocJoint\n",
    "from time import sleep\n",
    "from copy import deepcopy\n",
    "import time\n",
    "\n",
    "ROBOT_SPEED = 30\n",
    "ROBOT_SPEED_LINEAR = 70"
   ]
  },
  {
   "cell_type": "code",
   "execution_count": 2,
   "metadata": {
    "scrolled": true
   },
   "outputs": [
    {
     "name": "stdout",
     "output_type": "stream",
     "text": [
      "Connecting to robot at 192.168.1.1\n",
      "Robot Status: \u001b[32mConnected\n",
      "\u001b[0m\n"
     ]
    }
   ],
   "source": [
    "# Robot init\n",
    "robot = FanucPCDKClient()\n",
    "robot.connect()\n",
    "\n",
    "# Run teach pendant program.\n",
    "robot.run_program('PCDK')\n",
    "robot.reset_alarms()\n",
    "\n",
    "# Adjust the speed of the robot\n",
    "robot.set_speed(ROBOT_SPEED)"
   ]
  },
  {
   "cell_type": "code",
   "execution_count": 12,
   "metadata": {
    "scrolled": true
   },
   "outputs": [
    {
     "name": "stdout",
     "output_type": "stream",
     "text": [
      "Current world location: x=399.492; y=2.950; z=-161.394; w=179.950; p=-5.962; r=-1.608; f=False; u=True; t=True\n",
      "\n",
      "Current joint location: j1=0.590; j2=28.926; j3=-35.070; j4=0.369; j5=-48.975; j6=-2.429\n",
      "\n"
     ]
    }
   ],
   "source": [
    "# USE THESE TO GET WORLD POSITIONS AND JOINT POSITIONS\n",
    "\n",
    "# Retrieve the current world XYZWPR coordinates of the robot\n",
    "loc_world = robot.get_position(\"world\")\n",
    "print(f'Current world location: {loc_world}\\n')\n",
    "\n",
    "# Retrieve the current joint coordinates of the robot\n",
    "loc_joint = robot.get_position(\"joint\")\n",
    "print(f'Current joint location: {loc_joint}\\n')"
   ]
  },
  {
   "cell_type": "code",
   "execution_count": null,
   "metadata": {
    "scrolled": true
   },
   "outputs": [],
   "source": []
  },
  {
   "cell_type": "markdown",
   "metadata": {},
   "source": [
    "====== LEFT\n",
    "Current world location: x=22.353, y=-407.048, z=-216.317, w=179.841, p=-2.785, r=-88.876, f=False, u=True, t=True\n",
    "\n",
    "Current joint location: j1=-86.701, j2=39.541, j3=-41.481, j4=0.369, j5=-45.743, j6=-2.430\n",
    "\n",
    "\n",
    "Current world location: x=22.350, y=-407.028, z=-220.447, w=179.826, p=-2.383, r=-88.875, f=False, u=True, t=True\n",
    "\n",
    "Current joint location: j1=-86.701, j2=40.379, j3=-41.883, j4=0.369, j5=-45.743, j6=-2.429\n",
    "\n",
    "====== RIGHT\n",
    "Current world location: x=6.208, y=399.484, z=-218.712, w=179.713, p=0.205, r=87.090, f=False, u=True, t=True\n",
    "\n",
    "Current joint location: j1=89.277, j2=40.596, j3=-41.241, j4=0.369, j5=-48.975, j6=-2.429\n"
   ]
  },
  {
   "cell_type": "code",
   "execution_count": 23,
   "metadata": {
    "scrolled": true
   },
   "outputs": [],
   "source": [
    "\n",
    "# IMPORTANT DATA THAT NEEDS TO BE INPUTTED\n",
    "# EXPERIMENT A LITTLE BIT, USING JOINT POSITIONS MIGHT MAKE THIS ONE EASIER NOT SURE\n",
    "\n",
    "VERTICAL_SPACING = 26 # vertical center to center spacing between pegs, change accordingly\n",
    "\n",
    "### NEEDS TO BE CALIBRATED FOR BOTTOM MOST PEG\n",
    "\n",
    "left_peg_pose = RobotLocWorld(x=22.350, y=-407.028, z=-220.447, w=179.826, p=-2.383, r=-88.875, f=False, u=True, t=True)\n",
    "\n",
    "left_peg_joints = RobotLocJoint(j1=-86.701, j2=40.379, j3=-41.883, j4=0.369, j5=-45.743, j6=-2.429)\n",
    "\n",
    "right_peg_pose = RobotLocWorld(x=6.208, y=399.484, z=-218.712, w=179.713, p=0.205, r=87.090, f=False, u=True, t=True)\n",
    "\n",
    "right_peg_joints = RobotLocJoint(j1=89.277, j2=40.596, j3=-41.241, j4=0.369, j5=-48.975, j6=-2.429)\n",
    "\n",
    "home_pose = RobotLocWorld(x=407.028, y=2.950, z=-161.394, w=179.950, p=-5.962, r=-1.608, f=False, u=True, t=True)"
   ]
  },
  {
   "cell_type": "code",
   "execution_count": 20,
   "metadata": {},
   "outputs": [],
   "source": [
    "def generate_trajectories(num_pegs):\n",
    "    trajectory = []\n",
    "    \n",
    "    trajectory.append(home_pose)\n",
    "    \n",
    "    left_above = deepcopy(left_peg_pose)\n",
    "    left_above.z += 5*VERTICAL_SPACING\n",
    "    \n",
    "    right_above = deepcopy(right_peg_pose)\n",
    "    right_above.z += 5*VERTICAL_SPACING\n",
    "    \n",
    "    \n",
    "    for i in reversed(range(1, num_pegs+1)):\n",
    "        trajectory.append(left_above)\n",
    "        left = deepcopy(left_peg_pose)\n",
    "        right = deepcopy(right_peg_pose)\n",
    "        left.z += (i-1)*VERTICAL_SPACING\n",
    "        trajectory.append(left)\n",
    "        trajectory.append('close') # may need to be swapped if on LR Mate 200iD\n",
    "        trajectory.append(left_above)\n",
    "        trajectory.append(home_pose)\n",
    "        trajectory.append(right_above)\n",
    "        right.z += (3-i)*VERTICAL_SPACING\n",
    "        trajectory.append(right)\n",
    "        trajectory.append('open') # may need to be swapped if on LR Mate 200iD\n",
    "        trajectory.append(right_above)\n",
    "        trajectory.append(home_pose)\n",
    "    \n",
    "    return trajectory"
   ]
  },
  {
   "cell_type": "code",
   "execution_count": 25,
   "metadata": {},
   "outputs": [],
   "source": [
    "robot.close_gripper()"
   ]
  },
  {
   "cell_type": "code",
   "execution_count": 24,
   "metadata": {
    "scrolled": true
   },
   "outputs": [],
   "source": [
    "requested_pegs = 0\n",
    "success = 0\n",
    "def execute_stacking(pegs):\n",
    "    print(\"\\n\\n===============    STARTING PEG STACKING    ===============\")\n",
    "    success = 0\n",
    "    requested_pegs = pegs\n",
    "    trajectory = generate_trajectories(pegs)\n",
    "        \n",
    "    for pose in trajectory:\n",
    "        pegs_moved = success\n",
    "        time.sleep(0.5)\n",
    "        if(pose == 'close'):\n",
    "            robot.open_gripper()\n",
    "            print(\"Picking up the peg #\" + str(pegs_moved + 1) + \" now!\")\n",
    "        elif(pose == 'open'):\n",
    "            robot.close_gripper()\n",
    "            success += 1\n",
    "            print(\" peg #\" + str(pegs_moved + 1) + \" has been completed!\")\n",
    "        else:\n",
    "            robot.move(pose, move_linear=True, speed=ROBOT_SPEED_LINEAR)\n",
    "    \n",
    "    failed = requested_pegs - success\n",
    "    \n",
    "    print(\"\\n\\n============================\\n      STACKING SUMMARY\\n============================\")\n",
    "    print(\"Successfully stacked \" + str((success)) + \" pegs\")\n",
    "    print(\"Failed to stack \" + str((failed)) + \" pegs\")"
   ]
  },
  {
   "cell_type": "code",
   "execution_count": 29,
   "metadata": {
    "scrolled": false
   },
   "outputs": [
    {
     "name": "stdout",
     "output_type": "stream",
     "text": [
      "===============  WELCOME TO PEG STACKING  ===============\n",
      "How many pegs are there to move? (press q to quit)\n",
      "> q\n",
      "===============    TERMINATING PEG STACKING    ===============\n"
     ]
    }
   ],
   "source": [
    "terminate = False\n",
    "user_input = 0\n",
    "started = False\n",
    "while not terminate:\n",
    "    try:\n",
    "        if(not started):\n",
    "            print(\"===============  WELCOME TO PEG STACKING  ===============\")\n",
    "            start = True\n",
    "            \n",
    "        user_input = (input('How many pegs are there to move? (press q to quit)\\n> '))\n",
    "        user_input = (user_input) if user_input == 'q' else int(user_input)\n",
    "        if(user_input == 'q'):\n",
    "            print(\"===============    TERMINATING PEG STACKING    ===============\")\n",
    "            terminate = True\n",
    "            break\n",
    "        elif(user_input > 0):\n",
    "            \n",
    "            '''\n",
    "            ACTUAL PEG STACK STUFF GOES HERE\n",
    "            '''\n",
    "            execute_stacking(user_input)\n",
    "            \n",
    "        else:\n",
    "            print(\"Invalid choice, please try again.\")\n",
    "            terminate = True\n",
    "        \n",
    "        if(user_input < 1):\n",
    "            terminate = True\n",
    "            \n",
    "    except ValueError:\n",
    "        print(\"Not a valid number, please try again\")"
   ]
  },
  {
   "cell_type": "code",
   "execution_count": null,
   "metadata": {
    "scrolled": true
   },
   "outputs": [],
   "source": []
  },
  {
   "cell_type": "code",
   "execution_count": null,
   "metadata": {
    "scrolled": true
   },
   "outputs": [],
   "source": []
  }
 ],
 "metadata": {
  "kernelspec": {
   "display_name": "Python 3",
   "language": "python",
   "name": "python3"
  },
  "language_info": {
   "codemirror_mode": {
    "name": "ipython",
    "version": 3
   },
   "file_extension": ".py",
   "mimetype": "text/x-python",
   "name": "python",
   "nbconvert_exporter": "python",
   "pygments_lexer": "ipython3",
   "version": "3.7.3"
  }
 },
 "nbformat": 4,
 "nbformat_minor": 1
}
