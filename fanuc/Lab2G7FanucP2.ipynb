{
 "cells": [
  {
   "cell_type": "code",
   "execution_count": null,
   "metadata": {},
   "outputs": [],
   "source": [
    "#!/usr/bin/env python\n",
    "\n",
    "from fanuc_pcdk_client import FanucPCDKClient\n",
    "from robot_loc_world import RobotLocWorld\n",
    "from robot_loc_joint import RobotLocJoint\n",
    "from time import sleep\n",
    "from copy import deepcopy\n",
    "\n",
    "ROBOT_SPEED = 30\n",
    "ROBOT_SPEED_LINEAR = 45"
   ]
  },
  {
   "cell_type": "code",
   "execution_count": null,
   "metadata": {},
   "outputs": [],
   "source": [
    "# Robot init\n",
    "robot = FanucPCDKClient()\n",
    "robot.connect()\n",
    "\n",
    "# Run teach pendant program.\n",
    "robot.run_program('PCDK')\n",
    "robot.reset_alarms()\n",
    "\n",
    "# Adjust the speed of the robot\n",
    "robot.set_speed(ROBOT_SPEED)"
   ]
  },
  {
   "cell_type": "code",
   "execution_count": null,
   "metadata": {},
   "outputs": [],
   "source": [
    "# Going to need to manually get the different poses\n",
    "# Maybe need 4 or 5 waypoints\n",
    "p1 = RobotLocWorld(x=345.437, y=128.544, z=-119.671,\n",
    "                          w=179.499, p=0.827, r=2.541, \n",
    "                          f=False, u=True, t=True)\n",
    "\n",
    "\n",
    "p2 = RobotLocWorld(x=345.437, y=128.544, z=-119.671,\n",
    "                          w=179.499, p=0.827, r=2.541, \n",
    "                          f=False, u=True, t=True)\n",
    "\n",
    "p3 = RobotLocWorld(x=345.437, y=128.544, z=-119.671,\n",
    "                          w=179.499, p=0.827, r=2.541, \n",
    "                          f=False, u=True, t=True)\n",
    "\n",
    "p4 = RobotLocWorld(x=345.437, y=128.544, z=-119.671,\n",
    "                          w=179.499, p=0.827, r=2.541, \n",
    "                          f=False, u=True, t=True)\n",
    "\n",
    "p5 = RobotLocWorld(x=345.437, y=128.544, z=-119.671,\n",
    "                          w=179.499, p=0.827, r=2.541, \n",
    "                          f=False, u=True, t=True)\n",
    "\n",
    "p6 = RobotLocWorld(x=345.437, y=128.544, z=-119.671,\n",
    "                          w=179.499, p=0.827, r=2.541, \n",
    "                          f=False, u=True, t=True)\n",
    "\n",
    "\n",
    "goal = RobotLocWorld(x=345.437, y=128.544, z=-119.671,\n",
    "                          w=179.499, p=0.827, r=2.541, \n",
    "                          f=False, u=True, t=True)"
   ]
  },
  {
   "cell_type": "code",
   "execution_count": null,
   "metadata": {},
   "outputs": [],
   "source": [
    "trajectory = [\"close\", \"open\"]"
   ]
  },
  {
   "cell_type": "code",
   "execution_count": null,
   "metadata": {},
   "outputs": [],
   "source": [
    "def execute_retrieval():\n",
    "    print(\"\\n\\n===============    STARTING RETRIEVAL OF SELECTED TOYS NOW    ===============\")\n",
    "    success = []\n",
    "    for choice in user_choices:\n",
    "        \n",
    "        selected = animals[choice]\n",
    "    \n",
    "        for pose in selected:\n",
    "            time.sleep(0.5)\n",
    "            if(pose == 'reached'):\n",
    "                fingers.close()\n",
    "                print(\"Picking up the \" + str(choice) + \" now!\")\n",
    "            elif(pose == 'end'):\n",
    "                fingers.open()\n",
    "                success.append(choice)\n",
    "                print(\"The retrieval of the \" + str(choice) + \" has been completed!\")\n",
    "            else:\n",
    "                solution = find_solution(pose)\n",
    "                if(solution):\n",
    "                    execute_trajectory(solution)\n",
    "                else:\n",
    "                    print(\"No valid pose was found, terminating retrieval of \" + str(choice) + \"....\")\n",
    "                    print(\"Try homing the arm and try the retrieval again!\")\n",
    "                    break;\n",
    "    to_start()\n",
    "    \n",
    "    failed = [choice for choice in user_choices if choice not in success]\n",
    "    \n",
    "    print(\"\\n\\n============================\\n      RETRIEVAL SUMMARY\\n============================\")\n",
    "    \n",
    "    for animal in success:\n",
    "        print(\"The retrieval of the \" + animal + \" was successful!\")\n",
    "    \n",
    "    for animal in failed:\n",
    "        print(\"The retrieval of the \" + animal + \" failed....\")"
   ]
  },
  {
   "cell_type": "code",
   "execution_count": null,
   "metadata": {
    "scrolled": true
   },
   "outputs": [],
   "source": [
    "user_choices = []\n",
    "choices = animals.keys()\n",
    "terminate = False\n",
    "\n",
    "while not terminate:\n",
    "    user_choices = []\n",
    "    print(\"Please select two animals of your choice\")\n",
    "    for i in range(2):\n",
    "        user_input = raw_input('Animal ' + str(i+1) + ' (enter q to quit): ').lower()\n",
    "    \n",
    "        if(user_input=='q'):\n",
    "            print(\"===============    TERMINATING RETRIEVAL    ===============\")\n",
    "            terminate=True\n",
    "            break\n",
    "        elif(user_input in choices and user_input not in user_choices):\n",
    "            user_choices.append(user_input)\n",
    "            print(str(user_input) + \" successfully selected!\")\n",
    "            if len(user_choices) == 2:\n",
    "                execute_retrieval()\n",
    "            if len(user_choices) == 2: \n",
    "                print('\\n\\n\\nWould you like to try retrieving other animals? (y/n)')\n",
    "                end_choice = raw_input().lower()\n",
    "                terminate = True if 'n' in end_choice else terminate\n",
    "\n",
    "        else:\n",
    "            print(\"Invalid choice, please try again.\")\n",
    "            break"
   ]
  },
  {
   "cell_type": "code",
   "execution_count": null,
   "metadata": {},
   "outputs": [],
   "source": []
  }
 ],
 "metadata": {
  "kernelspec": {
   "display_name": "Python 2",
   "language": "python",
   "name": "python2"
  },
  "language_info": {
   "codemirror_mode": {
    "name": "ipython",
    "version": 2
   },
   "file_extension": ".py",
   "mimetype": "text/x-python",
   "name": "python",
   "nbconvert_exporter": "python",
   "pygments_lexer": "ipython2",
   "version": "2.7.18"
  }
 },
 "nbformat": 4,
 "nbformat_minor": 1
}
