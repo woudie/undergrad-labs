{
 "cells": [
  {
   "cell_type": "code",
   "execution_count": null,
   "metadata": {
    "scrolled": true
   },
   "outputs": [],
   "source": [
    "#!/usr/bin/env python\n",
    "\n",
    "from fanuc_pcdk_client import FanucPCDKClient\n",
    "from robot_loc_world import RobotLocWorld\n",
    "from robot_loc_joint import RobotLocJoint\n",
    "from time import sleep\n",
    "from copy import deepcopy\n",
    "import sys\n",
    "\n",
    "ROBOT_SPEED = 30\n",
    "ROBOT_SPEED_LINEAR = 45"
   ]
  },
  {
   "cell_type": "code",
   "execution_count": null,
   "metadata": {
    "scrolled": true
   },
   "outputs": [],
   "source": [
    "import sys"
   ]
  },
  {
   "cell_type": "code",
   "execution_count": null,
   "metadata": {
    "scrolled": true
   },
   "outputs": [],
   "source": [
    "# Robot init\n",
    "robot = FanucPCDKClient()\n",
    "robot.connect()\n",
    "\n",
    "# Run teach pendant program.\n",
    "robot.run_program('PCDK')\n",
    "robot.reset_alarms()\n",
    "\n",
    "# Adjust the speed of the robot\n",
    "robot.set_speed(ROBOT_SPEED)"
   ]
  },
  {
   "cell_type": "markdown",
   "metadata": {},
   "source": [
    "==== right\n",
    "x=402.368, y=362.836, z=-302.223, w=-177.564, p=2.676, r=-132.382, f=False, u=True, t=True\n",
    "\n",
    "x=401.985, y=366.375, z=-295.562, w=179.699, p=0.962, r=47.409, f=False, u=True, t=True\n",
    "\n",
    "==== left\n",
    "x=425.330, y=-356.436, z=-180.083, w=-179.407, p=-4.169, r=-53.070, f=False, u=True, t=True"
   ]
  },
  {
   "cell_type": "code",
   "execution_count": null,
   "metadata": {
    "scrolled": true
   },
   "outputs": [],
   "source": [
    "loc_world = robot.get_position(\"world\")\n",
    "print(f'Current world location: {loc_world}\\n')"
   ]
  },
  {
   "cell_type": "code",
   "execution_count": null,
   "metadata": {
    "scrolled": true
   },
   "outputs": [],
   "source": [
    "world_loc = RobotLocWorld(x=401.985, y=366.375, z=-155.562, w=179.699, p=0.962, r=47.409, f=False, u=True, t=True)\n",
    "robot.move(world_loc, move_linear=True, speed=ROBOT_SPEED_LINEAR)"
   ]
  },
  {
   "cell_type": "code",
   "execution_count": null,
   "metadata": {
    "scrolled": true
   },
   "outputs": [],
   "source": [
    "# Going to need to manually get the different poses\n",
    "# Maybe need 4 or 5 waypoints\n",
    "\n",
    "### NEEDS TO BE CALIBRATED\n",
    "peg1_start = RobotLocWorld(x=345.437, y=128.544, z=-119.671,\n",
    "                          w=179.499, p=0.827, r=2.541, \n",
    "                          f=False, u=True, t=True)\n",
    "\n",
    "peg1_end = RobotLocWorld(x=345.437, y=128.544, z=-119.671,\n",
    "                          w=179.499, p=0.827, r=2.541, \n",
    "                          f=False, u=True, t=True)\n",
    "\n",
    "peg2_start = RobotLocWorld(x=345.437, y=128.544, z=-119.671,\n",
    "                          w=179.499, p=0.827, r=2.541, \n",
    "                          f=False, u=True, t=True)\n",
    "\n",
    "peg2_end = RobotLocWorld(x=345.437, y=128.544, z=-119.671,\n",
    "                          w=179.499, p=0.827, r=2.541, \n",
    "                          f=False, u=True, t=True)\n",
    "\n",
    "peg3_start = RobotLocWorld(x=345.437, y=128.544, z=-119.671,\n",
    "                          w=179.499, p=0.827, r=2.541, \n",
    "                          f=False, u=True, t=True)\n",
    "\n",
    "peg3_end = RobotLocWorld(x=345.437, y=128.544, z=-119.671,\n",
    "                          w=179.499, p=0.827, r=2.541, \n",
    "                          f=False, u=True, t=True)"
   ]
  },
  {
   "cell_type": "code",
   "execution_count": null,
   "metadata": {
    "scrolled": true
   },
   "outputs": [],
   "source": [
    "# \n",
    "peg1_traj = [home_pose, above_start, peg1_start, 'close', above_peg, home_pose, above_end, peg1_end, 'open', above_end, home_pose]\n",
    "peg2_traj = [home_pose, above_start, peg2_start, 'close', above_peg, home_pose, above_end, peg2_end, 'open', above_end, home_pose]\n",
    "peg3_traj = [home_pose, above_start, peg3_start, 'close', above_peg, home_pose, above_end, peg3_end, 'open', above_end, home_pose]\n",
    "\n",
    "trajectories = {1: [peg1_traj], 2: [peg2_traj, peg1_traj], 3: [peg3_traj, peg2_traj, peg1_traj]}"
   ]
  },
  {
   "cell_type": "code",
   "execution_count": 22,
   "metadata": {
    "scrolled": true
   },
   "outputs": [],
   "source": [
    "def execute_insertion(pegs):\n",
    "    print(\"\\n\\n===============    STARTING PEG STACKING    ===============\")\n",
    "    success = []\n",
    "    \n",
    "    for traj in trajectories[pegs]:\n",
    "        \n",
    "        for pose in traj:\n",
    "            pegs_moved = len(trajectories[pegs]) - len(success)\n",
    "            time.sleep(0.5)\n",
    "            if(pose == 'close'):\n",
    "                robot.close_gripper()\n",
    "                print(\"Picking up the peg #\" + str(pegs_moved + 1) + \" now!\")\n",
    "            elif(pose == 'open'):\n",
    "                robot.open_gripper()\n",
    "                success.append(traj)\n",
    "                print(\" peg #\" + str(pegs_moved + 1) + \" has been completed!\")\n",
    "            else:\n",
    "                robot.move(pose, move_linear=True, speed=ROBOT_SPEED_LINEAR)\n",
    "    \n",
    "    failed = [traj for traj in trajectories[pegs] if traj not in success]\n",
    "    \n",
    "    print(\"\\n\\n============================\\n      STACKING SUMMARY\\n============================\")\n",
    "    print(\"Successfully stacked \" + str(len(success)) + \" pegs\")\n",
    "    print(\"Failed to stack \" + str(len(failed)) + \" pegs\")"
   ]
  },
  {
   "cell_type": "code",
   "execution_count": 24,
   "metadata": {
    "scrolled": false
   },
   "outputs": [
    {
     "name": "stdout",
     "output_type": "stream",
     "text": [
      "===============  WELCOME TO PEG STACKING  ===============\n",
      "How many pegs are there to move? (press q to quit)\n",
      "> q\n",
      "===============    TERMINATING PEG STACKING    ===============\n"
     ]
    }
   ],
   "source": [
    "terminate = False\n",
    "user_input = 0\n",
    "started = False\n",
    "while not terminate:\n",
    "    try:\n",
    "        if(not started):\n",
    "            print(\"===============  WELCOME TO PEG STACKING  ===============\")\n",
    "            start = True\n",
    "            \n",
    "        user_input = (raw_input('How many pegs are there to move? (press q to quit)\\n> '))\n",
    "        user_input = (user_input) if user_input == 'q' else int(user_input)\n",
    "        if(user_input == 'q'):\n",
    "            print(\"===============    TERMINATING PEG STACKING    ===============\")\n",
    "            terminate = True\n",
    "        elif(user_input > 0):\n",
    "            \n",
    "            '''\n",
    "            ACTUAL PEG STACK STUFF GOES HERE\n",
    "            '''\n",
    "            execute_insertion(user_input)\n",
    "            \n",
    "        else:\n",
    "            print(\"Invalid choice, please try again.\")\n",
    "            terminate = True\n",
    "        \n",
    "        if(available_pegs < 1):\n",
    "            terminate = True\n",
    "            \n",
    "    except ValueError:\n",
    "        print(\"Not a valid number, please try again\")"
   ]
  },
  {
   "cell_type": "code",
   "execution_count": null,
   "metadata": {
    "scrolled": true
   },
   "outputs": [],
   "source": []
  },
  {
   "cell_type": "code",
   "execution_count": null,
   "metadata": {
    "scrolled": true
   },
   "outputs": [],
   "source": []
  }
 ],
 "metadata": {
  "kernelspec": {
   "display_name": "Python 2",
   "language": "python",
   "name": "python2"
  },
  "language_info": {
   "codemirror_mode": {
    "name": "ipython",
    "version": 2
   },
   "file_extension": ".py",
   "mimetype": "text/x-python",
   "name": "python",
   "nbconvert_exporter": "python",
   "pygments_lexer": "ipython2",
   "version": "2.7.18"
  }
 },
 "nbformat": 4,
 "nbformat_minor": 1
}
