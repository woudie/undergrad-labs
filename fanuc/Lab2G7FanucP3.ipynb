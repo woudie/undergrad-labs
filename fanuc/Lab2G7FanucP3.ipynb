{
 "cells": [
  {
   "cell_type": "code",
   "execution_count": null,
   "metadata": {},
   "outputs": [],
   "source": [
    "#!/usr/bin/env python\n",
    "\n",
    "from fanuc_pcdk_client import FanucPCDKClient\n",
    "from robot_loc_world import RobotLocWorld\n",
    "from robot_loc_joint import RobotLocJoint\n",
    "from time import sleep\n",
    "from copy import deepcopy\n",
    "import sys\n",
    "\n",
    "ROBOT_SPEED = 30\n",
    "ROBOT_SPEED_LINEAR = 45"
   ]
  },
  {
   "cell_type": "code",
   "execution_count": null,
   "metadata": {},
   "outputs": [],
   "source": [
    "# Robot init\n",
    "robot = FanucPCDKClient()\n",
    "robot.connect()\n",
    "\n",
    "# Run teach pendant program.\n",
    "robot.run_program('PCDK')\n",
    "robot.reset_alarms()\n",
    "\n",
    "# Adjust the speed of the robot\n",
    "robot.set_speed(ROBOT_SPEED)"
   ]
  },
  {
   "cell_type": "code",
   "execution_count": 10,
   "metadata": {},
   "outputs": [],
   "source": [
    "valid_letters = ['s', 'l', 'o', 'w', 'u', 'b']"
   ]
  },
  {
   "cell_type": "code",
   "execution_count": 22,
   "metadata": {},
   "outputs": [],
   "source": [
    "# Trajectories for each letter\n",
    "\n",
    "# Pen location\n",
    "\n",
    "# Pick up pen traj\n",
    "\n",
    "# Return pen traj - Not actually needed\n",
    "\n",
    "# S traj\n",
    "\n",
    "\n",
    "# L traj\n",
    "\n",
    "\n",
    "# O traj\n",
    "\n",
    "\n",
    "# W traj\n",
    "\n",
    "\n",
    "# U traj\n",
    "\n",
    "\n",
    "# B traj\n",
    "\n",
    "# trajectories\n",
    "trajectories = {'s': [], 'l': [], 'o': [], 'w': [], 'u': [], 'b': []}"
   ]
  },
  {
   "cell_type": "code",
   "execution_count": 23,
   "metadata": {},
   "outputs": [],
   "source": [
    "def adjust_traj(letter):\n",
    "    # Use function to adjust trajectory to shift\n",
    "    # Maybe use anchor point for writing each letter (top left or right or something)\n",
    "    pass"
   ]
  },
  {
   "cell_type": "code",
   "execution_count": 24,
   "metadata": {},
   "outputs": [],
   "source": [
    "def pickup_pen():\n",
    "    # Use to complete pen pick trajectory\n",
    "    pass"
   ]
  },
  {
   "cell_type": "code",
   "execution_count": 25,
   "metadata": {},
   "outputs": [],
   "source": [
    "def execute_writing(word):\n",
    "    print(\"\\n\\n===============    STARTING WRITING    ===============\")\n",
    "    \n",
    "    pickup_pen()\n",
    "    \n",
    "    for letter in word:\n",
    "        \n",
    "        traj = trajectories[letter]\n",
    "        \n",
    "        for pose in traj:\n",
    "            robot.move(pose, move_linear=True, speed=ROBOT_SPEED_LINEAR)\n",
    "    "
   ]
  },
  {
   "cell_type": "code",
   "execution_count": 26,
   "metadata": {
    "scrolled": true
   },
   "outputs": [
    {
     "name": "stdout",
     "output_type": "stream",
     "text": [
      "===============  WELCOME TO THE ROBOTIC (LIMTIED) TYPEWRITER  ===============\n",
      "\n",
      "What 3-letter word would you like to write? (press q to quit)                        \n",
      "Valid letters include S L O W U B                        \n",
      "> q\n",
      "\n",
      "===============    TERMINATING WRITING    ===============\n"
     ]
    }
   ],
   "source": [
    "terminate = False\n",
    "user_input = 0\n",
    "started = False\n",
    "while not terminate:\n",
    "    try:\n",
    "        if(not started):\n",
    "            print(\"===============  WELCOME TO THE ROBOTIC (LIMTIED) TYPEWRITER  ===============\\n\")\n",
    "            started = True\n",
    "            \n",
    "        user_input = (raw_input(\"What 3-letter word would you like to write? (press q to quit)\\\n",
    "                        \\nValid letters include S L O W U B\\\n",
    "                        \\n> \"))\n",
    "        \n",
    "        if(not (user_input == 'q')):\n",
    "            if (len(user_input) > 3):\n",
    "                raise ValueError\n",
    "                \n",
    "            for letter in user_input:\n",
    "                if(letter.lower() not in valid_letters):\n",
    "                    raise ValueError\n",
    "                \n",
    "        if(user_input == 'q'):\n",
    "            print(\"\\n===============    TERMINATING WRITING    ===============\")\n",
    "            terminate = True\n",
    "            break\n",
    "        else:\n",
    "            '''\n",
    "            ACTUAL WRITING STUFF GOES HERE\n",
    "            '''\n",
    "            execute_writing(user_input)\n",
    "            \n",
    "    except ValueError:\n",
    "        print(\"Invalid word, please try again\")"
   ]
  },
  {
   "cell_type": "code",
   "execution_count": null,
   "metadata": {},
   "outputs": [],
   "source": []
  },
  {
   "cell_type": "code",
   "execution_count": null,
   "metadata": {},
   "outputs": [],
   "source": []
  }
 ],
 "metadata": {
  "kernelspec": {
   "display_name": "Python 2",
   "language": "python",
   "name": "python2"
  },
  "language_info": {
   "codemirror_mode": {
    "name": "ipython",
    "version": 2
   },
   "file_extension": ".py",
   "mimetype": "text/x-python",
   "name": "python",
   "nbconvert_exporter": "python",
   "pygments_lexer": "ipython2",
   "version": "2.7.18"
  }
 },
 "nbformat": 4,
 "nbformat_minor": 2
}
