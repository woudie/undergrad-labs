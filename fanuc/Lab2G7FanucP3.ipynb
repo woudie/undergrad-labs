{
 "cells": [
  {
   "cell_type": "code",
   "execution_count": null,
   "metadata": {},
   "outputs": [],
   "source": [
    "#!/usr/bin/env python\n",
    "\n",
    "from fanuc_pcdk_client import FanucPCDKClient\n",
    "from robot_loc_world import RobotLocWorld\n",
    "from robot_loc_joint import RobotLocJoint\n",
    "from time import sleep\n",
    "from copy import deepcopy\n",
    "import sys\n",
    "\n",
    "ROBOT_SPEED = 30\n",
    "ROBOT_SPEED_LINEAR = 45"
   ]
  },
  {
   "cell_type": "code",
   "execution_count": null,
   "metadata": {},
   "outputs": [],
   "source": [
    "# Robot init\n",
    "robot = FanucPCDKClient()\n",
    "robot.connect()\n",
    "\n",
    "# Run teach pendant program.\n",
    "robot.run_program('PCDK')\n",
    "robot.reset_alarms()\n",
    "\n",
    "# Adjust the speed of the robot\n",
    "robot.set_speed(ROBOT_SPEED)"
   ]
  },
  {
   "cell_type": "code",
   "execution_count": 10,
   "metadata": {},
   "outputs": [],
   "source": [
    "valid_letters = ['s', 'l', 'o', 'w', 'u', 'b']"
   ]
  },
  {
   "cell_type": "code",
   "execution_count": null,
   "metadata": {},
   "outputs": [],
   "source": [
    "# MOVE ROBOT TO STARTING WRITING POSE (PEN TO PAPER POSE) AND RUN THIS CELL. \n",
    "# THEN USE THE INFORMATION TO FILL OUR THE 'write_start_pose' and 'write_start_pose_joints' \n",
    "# VARIABLES IN THE NEXT CELL \n",
    "\n",
    "# Retrieve the current world XYZWPR coordinates of the robot\n",
    "loc_world = robot.get_position(\"world\")\n",
    "print(f'Current world location: {loc_world}\\n')\n",
    "\n",
    "# Retrieve the current joint coordinates of the robot\n",
    "loc_joint = robot.get_position(\"joint\")\n",
    "print(f'Current joint location: {loc_joint}\\n')"
   ]
  },
  {
   "cell_type": "code",
   "execution_count": 1,
   "metadata": {},
   "outputs": [],
   "source": [
    "# Trajectories/offsets for each letter\n",
    "\n",
    "# write start location\n",
    "# SET POSE ACCORDINLY\n",
    "write_start_pose = RobotLocWorld(x=345.437, y=128.544, z=-119.671,\n",
    "                                 w=179.499, p=0.827, r=2.541, \n",
    "                                 f=False, u=True, t=True)\n",
    "# SET JOINT ANGLES ACCORDINGLY\n",
    "write_start_pose_joints = RobotLocJoint(j1=20, j2=0, j3=-15, j4=0, j5=-25, j6=0)\n",
    "\n",
    "# Pen location # maybe save the joint angles for this one\n",
    "pen_loc = None\n",
    "# Pick up pen traj\n",
    "pen_traj = [pen_loc, 'pick', pen_loc, write_start_pose]\n",
    "\n",
    "# Return pen traj - Not actually needed\n",
    "\n",
    "down_z = write_start_pose.z\n",
    "up_z = write_start_pose.z + 10 # rises 1cm\n",
    "\n",
    "letter_offset = (0, -50)\n",
    "\n",
    "# tuples in (+/- x, +/- y)\n",
    "# S traj\n",
    "s_offset = ['down', (0, -30), (0, 30), (30, 0), (0, -30), (30, 0), (0, 30), 'up', (-60, 0)]\n",
    "\n",
    "# L traj\n",
    "l_offset = ['down', (60, 0), (0, -30), 'up', (0, 30), (-60, 0)]\n",
    "\n",
    "# O traj\n",
    "o_offset = ['down', (60, 0), (0, -30), (-60, 0), (0, 30), 'up']\n",
    "\n",
    "# U traj\n",
    "u_offset = ['down', (60, 0), (0, -30), (-60, 0), 'up', (0, 30)]\n",
    "\n",
    "# W traj\n",
    "w_offset = ['down', (60, 0), (0, -15), (-30, 0), (30, 0), (0, -15), (-60, 0), 'up', (0, 30)]\n",
    "\n",
    "# W traj alt\n",
    "w_offset = ['down', (60, -7.5), (-30, -7.5), (30, -7.5), (60, -7.5), 'up', (0, 30)]\n",
    "\n",
    "# B traj\n",
    "b_offset = ['down', (60, 0), (0, -30), (-30, 0), (0, -15), (0, 15), (-30, 0), (0, 30), 'up']\n",
    "\n",
    "offsets = {'s': s_offset, 'l': l_offset, 'o': o_offset, 'w': w_offset, 'u': u_offset, 'b': b_offset}\n",
    "\n",
    "# trajectories\n",
    "trajectories = {'s': [], 'l': [], 'o': [], 'w': [], 'u': [], 'b': []}"
   ]
  },
  {
   "cell_type": "code",
   "execution_count": 8,
   "metadata": {},
   "outputs": [],
   "source": [
    "def compute_trajectory(pose, letter):\n",
    "    traj = []\n",
    "    target_offsets = offsets[letter.lower()]\n",
    "    curr_pose = deepcopy(pose)\n",
    "    for offset in target_offsets:\n",
    "        if(offset == 'down'):\n",
    "            curr_pose.z = down_z\n",
    "        elif(offset == 'up'):\n",
    "            curr_pose.z = up_z\n",
    "        elif(type(offset) == tuple):\n",
    "            curr_pose.x += offset[0]\n",
    "            curr_pose.y += offset[1]\n",
    "        goal = deepcopy(curr_pose)\n",
    "        traj.append(goal)\n",
    "    return traj"
   ]
  },
  {
   "cell_type": "code",
   "execution_count": 9,
   "metadata": {},
   "outputs": [],
   "source": [
    "def pickup_pen():\n",
    "    # Use to complete pen pick trajectory\n",
    "    for waypoint in pen_traj:\n",
    "        if(type(waypoint) == RobotLocJoint):\n",
    "            robot.move_joint(waypoint)\n",
    "        elif(type(waypoint) == RobotLocWorld):\n",
    "            robot.move(waypoint, move_linear=True, speed=ROBOT_SPEED_LINEAR)\n",
    "        elif(waypoint == 'pick'):\n",
    "            cur_pose = robot.get_position(\"world\")\n",
    "            curr_pose.z -= ABOVE_PEN_HEIGHT\n",
    "            robot.move(curr_pose, move_linear=True, speed=ROBOT_SPEED_LINEAR)\n",
    "            robot.close_gripper()\n",
    "            curr_pose.z += 2*ABOVE_PEN_HEIGHT # CHANGE ACCORDINLY\n",
    "            robot.move(curr_pose, move_linear=True, speed=ROBOT_SPEED_LINEAR)"
   ]
  },
  {
   "cell_type": "code",
   "execution_count": 25,
   "metadata": {},
   "outputs": [],
   "source": [
    "def execute_writing(word):\n",
    "    print(\"\\n\\n===============    STARTING WRITING    ===============\")\n",
    "    \n",
    "    pickup_pen()\n",
    "    \n",
    "    for letter in word:\n",
    "        curr_pose = robot.get_position(\"world\")\n",
    "        trajectory = compute_trajectory(robot.get_position(\"world\"), letter)\n",
    "        \n",
    "        for waypoint in trajectory:\n",
    "            robot.move(waypoint, move_linear=True, speed=ROBOT_SPEED_LINEAR)\n",
    "    "
   ]
  },
  {
   "cell_type": "code",
   "execution_count": 26,
   "metadata": {
    "scrolled": true
   },
   "outputs": [
    {
     "name": "stdout",
     "output_type": "stream",
     "text": [
      "===============  WELCOME TO THE ROBOTIC (LIMTIED) TYPEWRITER  ===============\n",
      "\n",
      "What 3-letter word would you like to write? (press q to quit)                        \n",
      "Valid letters include S L O W U B                        \n",
      "> q\n",
      "\n",
      "===============    TERMINATING WRITING    ===============\n"
     ]
    }
   ],
   "source": [
    "terminate = False\n",
    "user_input = 0\n",
    "started = False\n",
    "while not terminate:\n",
    "    try:\n",
    "        if(not started):\n",
    "            print(\"===============  WELCOME TO THE ROBOTIC (LIMTIED) TYPEWRITER  ===============\\n\")\n",
    "            started = True\n",
    "            \n",
    "        user_input = (raw_input(\"What 3-letter word would you like to write? (press q to quit)\\\n",
    "                        \\nValid letters include S L O W U B\\\n",
    "                        \\n> \"))\n",
    "        \n",
    "        if(not (user_input == 'q')):\n",
    "            if (len(user_input) > 3):\n",
    "                raise ValueError\n",
    "                \n",
    "            for letter in user_input:\n",
    "                if(letter.lower() not in valid_letters):\n",
    "                    raise ValueError\n",
    "                \n",
    "        if(user_input == 'q'):\n",
    "            print(\"\\n===============    TERMINATING WRITING    ===============\")\n",
    "            terminate = True\n",
    "            break\n",
    "        else:\n",
    "            '''\n",
    "            ACTUAL WRITING STUFF GOES HERE\n",
    "            '''\n",
    "            execute_writing(user_input)\n",
    "            \n",
    "    except ValueError:\n",
    "        print(\"Invalid word, please try again\")"
   ]
  },
  {
   "cell_type": "code",
   "execution_count": null,
   "metadata": {},
   "outputs": [],
   "source": []
  },
  {
   "cell_type": "code",
   "execution_count": null,
   "metadata": {},
   "outputs": [],
   "source": []
  }
 ],
 "metadata": {
  "kernelspec": {
   "display_name": "Python 2",
   "language": "python",
   "name": "python2"
  },
  "language_info": {
   "codemirror_mode": {
    "name": "ipython",
    "version": 2
   },
   "file_extension": ".py",
   "mimetype": "text/x-python",
   "name": "python",
   "nbconvert_exporter": "python",
   "pygments_lexer": "ipython2",
   "version": "2.7.18"
  }
 },
 "nbformat": 4,
 "nbformat_minor": 2
}
