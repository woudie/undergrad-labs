{
 "cells": [
  {
   "cell_type": "code",
   "execution_count": 1,
   "metadata": {},
   "outputs": [],
   "source": [
    "#!/usr/bin/env python\n",
    "\n",
    "from fanuc_pcdk_client import FanucPCDKClient\n",
    "from robot_loc_world import RobotLocWorld\n",
    "from robot_loc_joint import RobotLocJoint\n",
    "from time import sleep\n",
    "from copy import deepcopy\n",
    "import sys\n",
    "\n",
    "ROBOT_SPEED = 30\n",
    "ROBOT_SPEED_LINEAR = 45"
   ]
  },
  {
   "cell_type": "code",
   "execution_count": 61,
   "metadata": {},
   "outputs": [
    {
     "name": "stdout",
     "output_type": "stream",
     "text": [
      "Connecting to robot at 192.168.1.1\n",
      "Robot Status: \u001b[32mConnected\n",
      "\u001b[0m\n"
     ]
    }
   ],
   "source": [
    "# Robot init\n",
    "robot = FanucPCDKClient()\n",
    "robot.connect()\n",
    "\n",
    "# Run teach pendant program.\n",
    "robot.run_program('PCDK')\n",
    "robot.reset_alarms()\n",
    "\n",
    "# Adjust the speed of the robot\n",
    "robot.set_speed(ROBOT_SPEED)"
   ]
  },
  {
   "cell_type": "code",
   "execution_count": 3,
   "metadata": {},
   "outputs": [],
   "source": [
    "valid_letters = ['s', 'l', 'o', 'w', 'u', 'b']"
   ]
  },
  {
   "cell_type": "code",
   "execution_count": 31,
   "metadata": {
    "scrolled": false
   },
   "outputs": [
    {
     "name": "stdout",
     "output_type": "stream",
     "text": [
      "Current world location: x=268.136; y=-347.037; z=-222.553; w=179.976; p=2.054; r=0.943; f=False; u=True; t=True\n",
      "\n",
      "Current joint location: j1=-51.411; j2=49.091; j3=-35.697; j4=1.990; j5=-55.556; j6=51.211\n",
      "\n"
     ]
    }
   ],
   "source": [
    "# MOVE ROBOT TO STARTING WRITING POSE (PEN TO PAPER POSE) AND RUN THIS CELL. \n",
    "# THEN USE THE INFORMATION TO FILL OUR THE 'write_start_pose' and 'write_start_pose_joints' \n",
    "# VARIABLES IN THE NEXT CELL \n",
    "\n",
    "# Retrieve the current world XYZWPR coordinates of the robot\n",
    "loc_world = robot.get_position(\"world\")\n",
    "print(f'Current world location: {loc_world}\\n')\n",
    "\n",
    "# Retrieve the current joint coordinates of the robot\n",
    "loc_joint = robot.get_position(\"joint\")\n",
    "print(f'Current joint location: {loc_joint}\\n')"
   ]
  },
  {
   "cell_type": "markdown",
   "metadata": {},
   "source": [
    "====== #1\n",
    "Current world location: x=417.779, y=-97.121, z=-105.294, w=179.009, p=-16.645, r=-2.775, f=False, u=True, t=True\n",
    "\n",
    "Current joint location: j1=-14.393, j2=21.375, j3=-27.787, j4=-3.260, j5=-45.744, j6=13.410\n",
    "\n",
    "====== #2\n",
    "Current world location: x=272.799, y=-348.465, z=-102.341, w=-179.668, p=1.804, r=-38.450, f=False, u=True, t=True\n",
    "\n",
    "Current joint location: j1=-51.892, j2=39.761, j3=-16.327, j4=0.100, j5=-75.505, j6=13.410\n",
    "\n",
    "\n",
    "====== #3\n",
    "Current world location: x=268.136, y=-347.037, z=-222.553, w=179.976, p=2.054, r=0.943, f=False, u=True, t=True\n",
    "\n",
    "Current joint location: j1=-51.411, j2=49.091, j3=-35.697, j4=1.990, j5=-55.556, j6=51.211\n",
    "\n",
    "====== #4\n"
   ]
  },
  {
   "cell_type": "code",
   "execution_count": 35,
   "metadata": {},
   "outputs": [],
   "source": [
    "p1_w = RobotLocWorld(x=417.779, y=-97.121, z=-105.294, w=179.009, p=-16.645, r=-2.775, f=False, u=True, t=True)\n",
    "p1_j = RobotLocJoint(j1=-14.393, j2=21.375, j3=-27.787, j4=-3.260, j5=-45.744, j6=13.410\n",
    ")\n",
    "\n",
    "p2_w = RobotLocWorld(x=272.799, y=-348.465, z=-102.341, w=-179.668, p=1.804, r=-38.450, f=False, u=True, t=True)\n",
    "p2_j = RobotLocJoint(j1=-51.892, j2=39.761, j3=-16.327, j4=0.100, j5=-75.505, j6=13.410)\n",
    "\n",
    "p3_w = RobotLocWorld(x=268.136, y=-347.037, z=-222.553, w=179.976, p=2.054, r=0.943, f=False, u=True, t=True)\n",
    "p3_j = RobotLocJoint(j1=-51.411, j2=49.091, j3=-35.697, j4=1.990, j5=-55.556, j6=51.211)"
   ]
  },
  {
   "cell_type": "code",
   "execution_count": 56,
   "metadata": {},
   "outputs": [],
   "source": [
    "# Trajectories/offsets for each letter\n",
    "\n",
    "# write start location\n",
    "# SET POSE ACCORDINLY\n",
    "write_start_pose = RobotLocWorld(x=417.797, y=-97.137, z=-248.736, w=-178.712, p=-5.532, r=-3.217, f=False, u=True, t=True)\n",
    "# SET JOINT ANGLES ACCORDINGLY\n",
    "write_start_pose_joints = RobotLocJoint(j1=-14.395, j2=46.102, j3=-44.810, j4=-3.629, j5=-40.067, j6=13.913)\n",
    "\n",
    "# Pen location # maybe save the joint angles for this one\n",
    "pen_loc = None\n",
    "# Pick up pen traj\n",
    "pen_traj = [p1_w, p2_w, p3_w, 'close', p2_w, p1_w]\n",
    "\n",
    "# Return pen traj - Not actually needed\n",
    "\n",
    "down_z = write_start_pose.z\n",
    "up_z = write_start_pose.z + 10 # rises 1cm\n",
    "\n",
    "\n",
    "letter_offset = [(0, 50)]\n",
    "\n",
    "# tuples in (+/- x, +/- y)\n",
    "# S traj\n",
    "s_offset = ['down', (0, 30), (0, -30), (30, 0), (0, 30), (30, 0), (0, -30), 'up', (-60, 0)]\n",
    "\n",
    "# L traj\n",
    "l_offset = ['down', (60, 0), (0, 30), 'up', (0, -30), (-60, 0)]\n",
    "\n",
    "# O traj\n",
    "o_offset = ['down', (60, 0), (0, 30), (-60, 0), (0, -30), 'up']\n",
    "\n",
    "# U traj\n",
    "u_offset = ['down', (60, 0), (0, 30), (-60, 0), 'up', (0, -30)]\n",
    "\n",
    "# W traj\n",
    "w_offset = ['down', (60, 0), (0, 15), (-30, 0), (30, 0), (0, 15), (-60, 0), 'up', (0, -30)]\n",
    "\n",
    "# W traj alt\n",
    "w_offset = ['down', (60, 7.5), (-30, 7.5), (30, 7.5), (-60, 7.5), 'up', (0, -30)]\n",
    "\n",
    "# B traj\n",
    "b_offset = ['down', (60, 0), (0, 30), (-30, 0), (0, -15), (0, 15), (-30, 0), (0, -30), 'up']\n",
    "\n",
    "offsets = {'s': s_offset, 'l': l_offset, 'o': o_offset, 'w': w_offset, 'u': u_offset, 'b': b_offset}\n",
    "\n",
    "# trajectories\n",
    "trajectories = {'s': [], 'l': [], 'o': [], 'w': [], 'u': [], 'b': []}"
   ]
  },
  {
   "cell_type": "code",
   "execution_count": 23,
   "metadata": {},
   "outputs": [],
   "source": [
    "def home_routine():\n",
    "    home_pose = deepcopy(write_start_pose)\n",
    "    curr_pose = robot.get_position(\"world\")\n",
    "    # move up\n",
    "    curr_pose.z = -209.206\n",
    "    robot.move(curr_pose, move_linear=True, speed=ROBOT_SPEED_LINEAR)\n",
    "    home_pose.z = curr_pose.z\n",
    "    robot.move(home_pose, move_linear=True, speed=ROBOT_SPEED_LINEAR)"
   ]
  },
  {
   "cell_type": "code",
   "execution_count": 24,
   "metadata": {},
   "outputs": [
    {
     "name": "stdout",
     "output_type": "stream",
     "text": [
      "> Already at location; skipping move\n",
      "> Already at location; skipping move\n"
     ]
    }
   ],
   "source": []
  },
  {
   "cell_type": "code",
   "execution_count": 16,
   "metadata": {},
   "outputs": [],
   "source": [
    "def compute_trajectory(pose, letter):\n",
    "    traj = []\n",
    "    if(letter == 'offset'):\n",
    "        target_offsets = letter_offset\n",
    "    else:\n",
    "        target_offsets = offsets[letter.lower()]\n",
    "    curr_pose = deepcopy(pose)\n",
    "    for offset in target_offsets:\n",
    "        if(offset == 'down'):\n",
    "            curr_pose.z = down_z\n",
    "        elif(offset == 'up'):\n",
    "            curr_pose.z = up_z\n",
    "        elif(type(offset) == tuple):\n",
    "            curr_pose.x += offset[0]\n",
    "            curr_pose.y += offset[1]\n",
    "        goal = deepcopy(curr_pose)\n",
    "        traj.append(goal)\n",
    "    return traj"
   ]
  },
  {
   "cell_type": "code",
   "execution_count": 7,
   "metadata": {},
   "outputs": [],
   "source": [
    "def pickup_pen():\n",
    "    # Use to complete pen pick trajectory\n",
    "    for waypoint in pen_traj:\n",
    "        if(type(waypoint) == RobotLocJoint):\n",
    "            robot.move_joint(waypoint)\n",
    "        elif(type(waypoint) == RobotLocWorld):\n",
    "            robot.move(waypoint, move_linear=True, speed=ROBOT_SPEED_LINEAR)\n",
    "        elif(waypoint == 'pick'):\n",
    "            cur_pose = robot.get_position(\"world\")\n",
    "            curr_pose.z -= ABOVE_PEN_HEIGHT\n",
    "            robot.move(curr_pose, move_linear=True, speed=ROBOT_SPEED_LINEAR)\n",
    "            robot.close_gripper()\n",
    "            curr_pose.z += 2*ABOVE_PEN_HEIGHT # CHANGE ACCORDINLY\n",
    "            robot.move(curr_pose, move_linear=True, speed=ROBOT_SPEED_LINEAR)"
   ]
  },
  {
   "cell_type": "code",
   "execution_count": 50,
   "metadata": {},
   "outputs": [],
   "source": [
    "def get_pen():\n",
    "    # Use to complete pen pick trajectory\n",
    "    robot.close_gripper()\n",
    "    for waypoint in pen_traj:\n",
    "        if(type(waypoint) == RobotLocJoint):\n",
    "            robot.move_joint(waypoint)\n",
    "        elif(type(waypoint) == RobotLocWorld):\n",
    "            robot.move(waypoint, move_linear=True, speed=ROBOT_SPEED_LINEAR)\n",
    "        elif(waypoint == 'close'):\n",
    "            robot.open_gripper()\n"
   ]
  },
  {
   "cell_type": "code",
   "execution_count": 45,
   "metadata": {},
   "outputs": [],
   "source": [
    "home_routine()"
   ]
  },
  {
   "cell_type": "code",
   "execution_count": 52,
   "metadata": {},
   "outputs": [],
   "source": [
    "robot.close_gripper()"
   ]
  },
  {
   "cell_type": "code",
   "execution_count": 53,
   "metadata": {},
   "outputs": [],
   "source": [
    "def execute_writing(word):\n",
    "    print(\"\\n\\n===============    STARTING WRITING    ===============\")\n",
    "    home_routine()\n",
    "    get_pen()\n",
    "    for letter in word:\n",
    "        curr_pose = robot.get_position(\"world\")\n",
    "        trajectory = compute_trajectory(robot.get_position(\"world\"), letter)\n",
    "        \n",
    "        for waypoint in trajectory:\n",
    "            robot.move(waypoint, move_linear=True, speed=ROBOT_SPEED_LINEAR)\n",
    "        off_traj = compute_trajectory(robot.get_position(\"world\"), 'offset')\n",
    "        for waypoint in off_traj:\n",
    "            robot.move(waypoint, move_linear=True, speed=ROBOT_SPEED_LINEAR)\n",
    "    home_routine()\n",
    "    robot.close_gripper()"
   ]
  },
  {
   "cell_type": "code",
   "execution_count": 62,
   "metadata": {
    "scrolled": true
   },
   "outputs": [
    {
     "name": "stdout",
     "output_type": "stream",
     "text": [
      "===============  WELCOME TO THE ROBOTIC (LIMTIED) TYPEWRITER  ===============\n",
      "\n",
      "What 3-letter word would you like to write? (press q to quit)                        \n",
      "Valid letters include S L O W U B                        \n",
      "> LOW\n",
      "\n",
      "\n",
      "===============    STARTING WRITING    ===============\n",
      "What 3-letter word would you like to write? (press q to quit)                        \n",
      "Valid letters include S L O W U B                        \n",
      "> q\n",
      "\n",
      "===============    TERMINATING WRITING    ===============\n"
     ]
    }
   ],
   "source": [
    "terminate = False\n",
    "user_input = 0\n",
    "started = False\n",
    "while not terminate:\n",
    "    try:\n",
    "        if(not started):\n",
    "            print(\"===============  WELCOME TO THE ROBOTIC (LIMTIED) TYPEWRITER  ===============\\n\")\n",
    "            started = True\n",
    "            \n",
    "        user_input = (input(\"What 3-letter word would you like to write? (press q to quit)\\\n",
    "                        \\nValid letters include S L O W U B\\\n",
    "                        \\n> \"))\n",
    "        \n",
    "        if(not (user_input == 'q')):\n",
    "            if (len(user_input) > 3):\n",
    "                raise ValueError\n",
    "                \n",
    "            for letter in user_input:\n",
    "                if(letter.lower() not in valid_letters):\n",
    "                    raise ValueError\n",
    "                \n",
    "        if(user_input == 'q'):\n",
    "            print(\"\\n===============    TERMINATING WRITING    ===============\")\n",
    "            terminate = True\n",
    "            break\n",
    "        else:\n",
    "            '''\n",
    "            ACTUAL WRITING STUFF GOES HERE\n",
    "            '''\n",
    "            execute_writing(user_input)\n",
    "            \n",
    "    except ValueError:\n",
    "        print(\"Invalid word, please try again\")"
   ]
  },
  {
   "cell_type": "code",
   "execution_count": null,
   "metadata": {},
   "outputs": [],
   "source": []
  },
  {
   "cell_type": "code",
   "execution_count": null,
   "metadata": {},
   "outputs": [],
   "source": []
  }
 ],
 "metadata": {
  "kernelspec": {
   "display_name": "Python 3",
   "language": "python",
   "name": "python3"
  },
  "language_info": {
   "codemirror_mode": {
    "name": "ipython",
    "version": 3
   },
   "file_extension": ".py",
   "mimetype": "text/x-python",
   "name": "python",
   "nbconvert_exporter": "python",
   "pygments_lexer": "ipython3",
   "version": "3.7.3"
  }
 },
 "nbformat": 4,
 "nbformat_minor": 2
}
