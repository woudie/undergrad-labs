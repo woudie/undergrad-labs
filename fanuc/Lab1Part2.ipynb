{
 "cells": [
  {
   "cell_type": "code",
   "execution_count": 1,
   "metadata": {},
   "outputs": [],
   "source": [
    "import pprint\n",
    "import math\n",
    "import rospy\n",
    "import time\n",
    "\n",
    "from copy import deepcopy\n",
    "from baxter_interface import (RobotEnable, Gripper, Limb)\n",
    "\n",
    "from geometry_msgs.msg import (PoseStamped, Pose, Point, Quaternion)\n",
    "from std_msgs.msg import Header\n",
    "from baxter_core_msgs.srv import (SolvePositionIK, SolvePositionIKRequest)\n",
    "pp = pprint.PrettyPrinter(indent=4)\n"
   ]
  },
  {
   "cell_type": "code",
   "execution_count": 2,
   "metadata": {},
   "outputs": [],
   "source": [
    "rospy.init_node('Group7Baxter')"
   ]
  },
  {
   "cell_type": "code",
   "execution_count": 3,
   "metadata": {},
   "outputs": [
    {
     "name": "stdout",
     "output_type": "stream",
     "text": [
      "[INFO] [WallTime: 1633525846.421776] Robot Enabled\n"
     ]
    }
   ],
   "source": [
    "baxter = RobotEnable()\n",
    "baxter.enable()"
   ]
  },
  {
   "cell_type": "code",
   "execution_count": 4,
   "metadata": {},
   "outputs": [],
   "source": [
    "right_arm = Limb('right')"
   ]
  },
  {
   "cell_type": "code",
   "execution_count": 5,
   "metadata": {},
   "outputs": [
    {
     "data": {
      "text/plain": [
       "True"
      ]
     },
     "execution_count": 5,
     "metadata": {},
     "output_type": "execute_result"
    }
   ],
   "source": [
    "fingers = Gripper('right')\n",
    "fingers.calibrate()"
   ]
  },
  {
   "cell_type": "code",
   "execution_count": 6,
   "metadata": {},
   "outputs": [],
   "source": [
    "def get_pose():\n",
    "    right_angles = right_arm.joint_angles()\n",
    "    pp.pprint(right_arm.endpoint_pose())"
   ]
  },
  {
   "cell_type": "code",
   "execution_count": 7,
   "metadata": {},
   "outputs": [],
   "source": [
    "right_namespace = \"ExternalTools/right/PositionKinematicsNode/IKService\"\n",
    "\n",
    "right_ik_service = rospy.ServiceProxy(right_namespace, SolvePositionIK)\n",
    "\n",
    "right_ik_request = SolvePositionIKRequest()\n",
    "\n",
    "ik_header = Header(stamp=rospy.Time.now(), frame_id='base')"
   ]
  },
  {
   "cell_type": "code",
   "execution_count": 8,
   "metadata": {},
   "outputs": [],
   "source": [
    "def adjust_pose(target_pose):\n",
    "    adj_p1 = deepcopy(target_pose)\n",
    "    adj_p1.pose.position.x -= 0.15\n",
    "    adj_p1.pose.position.z += 0.05\n",
    "    return adj_p1"
   ]
  },
  {
   "cell_type": "code",
   "execution_count": 16,
   "metadata": {},
   "outputs": [],
   "source": [
    "zero_pose = PoseStamped(\n",
    "            header=ik_header,\n",
    "            pose=Pose(\n",
    "                position=Point(\n",
    "                    x=0.5,\n",
    "                    y=-0.5,\n",
    "                    z=0.6,\n",
    "                ),\n",
    "                orientation=Quaternion(\n",
    "                    x=0.0,\n",
    "                    y=0.0,\n",
    "                    z=0.0,\n",
    "                    w=1.0,\n",
    "                )\n",
    "            )\n",
    "        )\n",
    "\n",
    "starting_pose = PoseStamped(\n",
    "                header=ik_header,\n",
    "                pose=Pose(\n",
    "                    position=Point(\n",
    "                        x=0.575814771825969, y=-0.6921240261798756, z=0.132303617877802\n",
    "                    ),\n",
    "                orientation=Quaternion(\n",
    "                    x=-0.035401679659970944, y=0.7351025065602724, z=-0.011401826130588908, w=0.6769350222044543\n",
    "                )\n",
    "            )\n",
    "        )\n",
    "\n",
    "\n",
    "top_left = PoseStamped(\n",
    "            header=ik_header,\n",
    "            pose=Pose(\n",
    "                position=Point(\n",
    "                    x=0.7157861729277576, y=-0.5944180233461482, z=0.14073098504048154-0.007\n",
    "                ),\n",
    "                orientation=Quaternion(\n",
    "                    x=-0.035401679659970944, y=0.7351025065602724, z=-0.011401826130588908, w=0.6769350222044543\n",
    "                )\n",
    "            )\n",
    "        )\n",
    "\n",
    "top_right = PoseStamped(\n",
    "            header=ik_header,\n",
    "            pose=Pose(\n",
    "                position=Point(\n",
    "                    x=0.7282098926508587, y=-0.8043508833787663, z=0.1451601697469714\n",
    "                ),\n",
    "                orientation=Quaternion(\n",
    "                    x=-0.035401679659970944, y=0.7351025065602724, z=-0.011401826130588908, w=0.6769350222044543\n",
    "                )\n",
    "            )\n",
    "        )\n",
    "\n",
    "bottom_left = PoseStamped(\n",
    "            header=ik_header,\n",
    "            pose=Pose(\n",
    "                position=Point(\n",
    "                    x=0.7134527406891848, y=-0.5891747770147832, z=-0.04405738045318162\n",
    "                ),\n",
    "                orientation=Quaternion(\n",
    "                    x=-0.051997633390138645, y=0.8097438412456411, z=-0.025234618335036367, w=0.5839301085952527\n",
    "                )\n",
    "            )\n",
    "        )\n",
    "\n",
    "bottom_right = PoseStamped(\n",
    "            header=ik_header,\n",
    "            pose=Pose(\n",
    "                position=Point(\n",
    "                    x=0.7249046758051918, y=-0.7983831869923568+0.03, z=-0.042637299029533254\n",
    "                ),\n",
    "                orientation=Quaternion(\n",
    "                    x=-0.051997633390138645, y=0.8097438412456411, z=-0.025234618335036367, w=0.5839301085952527\n",
    "                )\n",
    "            )\n",
    "        )\n",
    "\n",
    "basket_pose = PoseStamped(\n",
    "            header=ik_header,\n",
    "            pose=Pose(\n",
    "                position=Point(\n",
    "                    x=-0.18960557257166022, y=-0.8013329235692273, z=0.07650624118442936\n",
    "                ),\n",
    "                orientation=Quaternion(\n",
    "                    x=0.40813023278127375, y=1.9362437364362493, z=-0.2597175943373065, w=0.47320359766165804\n",
    "                ),\n",
    "            ),\n",
    "        )\n",
    "\n",
    "adj_pose = adjust_pose(top_left)\n",
    "kangaroo = [starting_pose, adj_pose, top_left, 'reached', adj_pose, starting_pose, basket_pose, 'end']\n",
    "\n",
    "adj_pose = adjust_pose(top_right)\n",
    "hippo = [starting_pose, adj_pose, top_right, 'reached', adj_pose, starting_pose, basket_pose, 'end']\n",
    "\n",
    "adj_pose = adjust_pose(bottom_left)\n",
    "ostrich = [starting_pose, adj_pose, bottom_left, 'reached', adj_pose, starting_pose, basket_pose, 'end']\n",
    "\n",
    "adj_pose = adjust_pose(bottom_right)\n",
    "camel = [starting_pose, adj_pose, bottom_right, 'reached', adj_pose, starting_pose, basket_pose, 'end']\n",
    "\n",
    "animals = {'kangaroo': kangaroo, 'hippo': hippo, 'ostrich': ostrich, 'camel': camel}\n"
   ]
  },
  {
   "cell_type": "code",
   "execution_count": 10,
   "metadata": {},
   "outputs": [],
   "source": [
    "def to_start():\n",
    "    start_joints = find_solution(starting_pose)\n",
    "    if(start_joints):\n",
    "        execute_trajectory(start_joints)\n",
    "    else:\n",
    "        print(\"Could not move to start position, check orientation of arm\")"
   ]
  },
  {
   "cell_type": "code",
   "execution_count": 11,
   "metadata": {},
   "outputs": [],
   "source": [
    "def find_solution(target_pose):\n",
    "    right_ik_request.pose_stamp[:] = []\n",
    "    right_ik_request.pose_stamp.append(target_pose)\n",
    "    \n",
    "    try:\n",
    "        rospy.wait_for_service(right_namespace, 5.0)\n",
    "        right_ik_response = right_ik_service(right_ik_request)\n",
    "        if (right_ik_response.isValid[0]):\n",
    "            right_limb_joints = dict(zip(right_ik_response.joints[0].name, right_ik_response.joints[0].position))\n",
    "            return right_limb_joints\n",
    "        else:\n",
    "            print(\"INVALID POSE - No Valid Joint Solution Found.\")\n",
    "    except (rospy.ServiceException, rospy.ROSException), e:\n",
    "        rospy.logerr(\"Service call failed: %s\" % (e,))"
   ]
  },
  {
   "cell_type": "code",
   "execution_count": 12,
   "metadata": {},
   "outputs": [],
   "source": [
    "def execute_trajectory(target_joints):\n",
    "    right_arm.move_to_joint_positions(target_joints)"
   ]
  },
  {
   "cell_type": "code",
   "execution_count": 13,
   "metadata": {},
   "outputs": [],
   "source": [
    "def execute_retrieval():\n",
    "    print(\"\\n\\n===============    STARTING RETRIEVAL OF SELECTED TOYS NOW    ===============\")\n",
    "    success = []\n",
    "    for choice in user_choices:\n",
    "        \n",
    "        selected = animals[choice]\n",
    "    \n",
    "        for pose in selected:\n",
    "            time.sleep(0.5)\n",
    "            if(pose == 'reached'):\n",
    "                fingers.close()\n",
    "                print(\"Picking up the \" + str(choice) + \" now!\")\n",
    "            elif(pose == 'end'):\n",
    "                fingers.open()\n",
    "                success.append(choice)\n",
    "                print(\"The retrieval of the \" + str(choice) + \" has been completed!\")\n",
    "            else:\n",
    "                solution = find_solution(pose)\n",
    "                if(solution):\n",
    "                    execute_trajectory(solution)\n",
    "                else:\n",
    "                    print(\"No valid pose was found, terminating retrieval of \" + str(choice) + \"....\")\n",
    "                    print(\"Try homing the arm and try the retrieval again!\")\n",
    "                    break;\n",
    "    to_start()\n",
    "    \n",
    "    failed = [choice for choice in user_choices if choice not in success]\n",
    "    \n",
    "    print(\"\\n\\n============================\\n      RETRIEVAL SUMMARY\\n============================\")\n",
    "    \n",
    "    for animal in success:\n",
    "        print(\"The retrieval of the \" + animal + \" was successful!\")\n",
    "    \n",
    "    for animal in failed:\n",
    "        print(\"The retrieval of the \" + animal + \" failed....\")"
   ]
  },
  {
   "cell_type": "code",
   "execution_count": 14,
   "metadata": {},
   "outputs": [
    {
     "name": "stdout",
     "output_type": "stream",
     "text": [
      "Getting arm into starting position\n"
     ]
    }
   ],
   "source": [
    "print(\"Getting arm into starting position\")\n",
    "to_start()"
   ]
  },
  {
   "cell_type": "code",
   "execution_count": 17,
   "metadata": {},
   "outputs": [
    {
     "name": "stdout",
     "output_type": "stream",
     "text": [
      "Please select two animals of your choice\n",
      "Animal 1 (enter q to quit): kangaroo\n",
      "kangaroo successfully selected!\n",
      "Animal 2 (enter q to quit): hippo\n",
      "hippo successfully selected!\n",
      "\n",
      "\n",
      "===============    STARTING RETRIEVAL OF SELECTED TOYS NOW    ===============\n",
      "Picking up the kangaroo now!\n",
      "The retrieval of the kangaroo has been completed!\n",
      "Picking up the hippo now!\n",
      "The retrieval of the hippo has been completed!\n",
      "\n",
      "\n",
      "============================\n",
      "      RETRIEVAL SUMMARY\n",
      "============================\n",
      "The retrieval of the kangaroo was successful!\n",
      "The retrieval of the hippo was successful!\n",
      "\n",
      "\n",
      "\n",
      "Would you like to try retrieving other animals? (y/n)\n"
     ]
    },
    {
     "ename": "KeyboardInterrupt",
     "evalue": "",
     "output_type": "error",
     "traceback": [
      "\u001b[0;31m---------------------------------------------------------------------------\u001b[0m\n\u001b[0;31mKeyboardInterrupt\u001b[0m                         Traceback (most recent call last)",
      "\u001b[0;32m<ipython-input-17-154d9c844bcc>\u001b[0m in \u001b[0;36m<module>\u001b[0;34m()\u001b[0m\n\u001b[1;32m     20\u001b[0m             \u001b[0;32mif\u001b[0m \u001b[0mlen\u001b[0m\u001b[0;34m(\u001b[0m\u001b[0muser_choices\u001b[0m\u001b[0;34m)\u001b[0m \u001b[0;34m==\u001b[0m \u001b[0;36m2\u001b[0m\u001b[0;34m:\u001b[0m\u001b[0;34m\u001b[0m\u001b[0m\n\u001b[1;32m     21\u001b[0m                 \u001b[0;32mprint\u001b[0m\u001b[0;34m(\u001b[0m\u001b[0;34m'\\n\\n\\nWould you like to try retrieving other animals? (y/n)'\u001b[0m\u001b[0;34m)\u001b[0m\u001b[0;34m\u001b[0m\u001b[0m\n\u001b[0;32m---> 22\u001b[0;31m                 \u001b[0mend_choice\u001b[0m \u001b[0;34m=\u001b[0m \u001b[0mraw_input\u001b[0m\u001b[0;34m(\u001b[0m\u001b[0;34m)\u001b[0m\u001b[0;34m.\u001b[0m\u001b[0mlower\u001b[0m\u001b[0;34m(\u001b[0m\u001b[0;34m)\u001b[0m\u001b[0;34m\u001b[0m\u001b[0m\n\u001b[0m\u001b[1;32m     23\u001b[0m                 \u001b[0mterminate\u001b[0m \u001b[0;34m=\u001b[0m \u001b[0mTrue\u001b[0m \u001b[0;32mif\u001b[0m \u001b[0;34m'n'\u001b[0m \u001b[0;32min\u001b[0m \u001b[0mend_choice\u001b[0m \u001b[0;32melse\u001b[0m \u001b[0mterminate\u001b[0m\u001b[0;34m\u001b[0m\u001b[0m\n\u001b[1;32m     24\u001b[0m \u001b[0;34m\u001b[0m\u001b[0m\n",
      "\u001b[0;32m/usr/lib/python2.7/dist-packages/IPython/kernel/zmq/ipkernel.pyc\u001b[0m in \u001b[0;36m<lambda>\u001b[0;34m(prompt)\u001b[0m\n\u001b[1;32m    359\u001b[0m         \u001b[0;31m# raw_input in the user namespace.\u001b[0m\u001b[0;34m\u001b[0m\u001b[0;34m\u001b[0m\u001b[0m\n\u001b[1;32m    360\u001b[0m         \u001b[0;32mif\u001b[0m \u001b[0mcontent\u001b[0m\u001b[0;34m.\u001b[0m\u001b[0mget\u001b[0m\u001b[0;34m(\u001b[0m\u001b[0;34m'allow_stdin'\u001b[0m\u001b[0;34m,\u001b[0m \u001b[0mFalse\u001b[0m\u001b[0;34m)\u001b[0m\u001b[0;34m:\u001b[0m\u001b[0;34m\u001b[0m\u001b[0m\n\u001b[0;32m--> 361\u001b[0;31m             \u001b[0mraw_input\u001b[0m \u001b[0;34m=\u001b[0m \u001b[0;32mlambda\u001b[0m \u001b[0mprompt\u001b[0m\u001b[0;34m=\u001b[0m\u001b[0;34m''\u001b[0m\u001b[0;34m:\u001b[0m \u001b[0mself\u001b[0m\u001b[0;34m.\u001b[0m\u001b[0m_raw_input\u001b[0m\u001b[0;34m(\u001b[0m\u001b[0mprompt\u001b[0m\u001b[0;34m,\u001b[0m \u001b[0mident\u001b[0m\u001b[0;34m,\u001b[0m \u001b[0mparent\u001b[0m\u001b[0;34m)\u001b[0m\u001b[0;34m\u001b[0m\u001b[0m\n\u001b[0m\u001b[1;32m    362\u001b[0m             \u001b[0minput\u001b[0m \u001b[0;34m=\u001b[0m \u001b[0;32mlambda\u001b[0m \u001b[0mprompt\u001b[0m\u001b[0;34m=\u001b[0m\u001b[0;34m''\u001b[0m\u001b[0;34m:\u001b[0m \u001b[0meval\u001b[0m\u001b[0;34m(\u001b[0m\u001b[0mraw_input\u001b[0m\u001b[0;34m(\u001b[0m\u001b[0mprompt\u001b[0m\u001b[0;34m)\u001b[0m\u001b[0;34m)\u001b[0m\u001b[0;34m\u001b[0m\u001b[0m\n\u001b[1;32m    363\u001b[0m         \u001b[0;32melse\u001b[0m\u001b[0;34m:\u001b[0m\u001b[0;34m\u001b[0m\u001b[0m\n",
      "\u001b[0;32m/usr/lib/python2.7/dist-packages/IPython/kernel/zmq/ipkernel.pyc\u001b[0m in \u001b[0;36m_raw_input\u001b[0;34m(self, prompt, ident, parent)\u001b[0m\n\u001b[1;32m    780\u001b[0m             \u001b[0;32mexcept\u001b[0m \u001b[0mKeyboardInterrupt\u001b[0m\u001b[0;34m:\u001b[0m\u001b[0;34m\u001b[0m\u001b[0m\n\u001b[1;32m    781\u001b[0m                 \u001b[0;31m# re-raise KeyboardInterrupt, to truncate traceback\u001b[0m\u001b[0;34m\u001b[0m\u001b[0;34m\u001b[0m\u001b[0m\n\u001b[0;32m--> 782\u001b[0;31m                 \u001b[0;32mraise\u001b[0m \u001b[0mKeyboardInterrupt\u001b[0m\u001b[0;34m\u001b[0m\u001b[0m\n\u001b[0m\u001b[1;32m    783\u001b[0m             \u001b[0;32melse\u001b[0m\u001b[0;34m:\u001b[0m\u001b[0;34m\u001b[0m\u001b[0m\n\u001b[1;32m    784\u001b[0m                 \u001b[0;32mbreak\u001b[0m\u001b[0;34m\u001b[0m\u001b[0m\n",
      "\u001b[0;31mKeyboardInterrupt\u001b[0m: "
     ]
    }
   ],
   "source": [
    "user_choices = []\n",
    "choices = animals.keys()\n",
    "terminate = False\n",
    "\n",
    "while not terminate:\n",
    "    user_choices = []\n",
    "    print(\"Please select two animals of your choice\")\n",
    "    for i in range(2):\n",
    "        user_input = raw_input('Animal ' + str(i+1) + ' (enter q to quit): ').lower()\n",
    "    \n",
    "        if(user_input=='q'):\n",
    "            print(\"===============    TERMINATING RETRIEVAL    ===============\")\n",
    "            terminate=True\n",
    "            break\n",
    "        elif(user_input in choices and user_input not in user_choices):\n",
    "            user_choices.append(user_input)\n",
    "            print(str(user_input) + \" successfully selected!\")\n",
    "            if len(user_choices) == 2:\n",
    "                execute_retrieval()\n",
    "            if len(user_choices) == 2: \n",
    "                print('\\n\\n\\nWould you like to try retrieving other animals? (y/n)')\n",
    "                end_choice = raw_input().lower()\n",
    "                terminate = True if 'n' in end_choice else terminate\n",
    "\n",
    "        else:\n",
    "            print(\"Invalid choice, please try again.\")\n",
    "            break"
   ]
  },
  {
   "cell_type": "code",
   "execution_count": null,
   "metadata": {},
   "outputs": [],
   "source": []
  }
 ],
 "metadata": {
  "kernelspec": {
   "display_name": "Python 2",
   "language": "python",
   "name": "python2"
  },
  "language_info": {
   "codemirror_mode": {
    "name": "ipython",
    "version": 2
   },
   "file_extension": ".py",
   "mimetype": "text/x-python",
   "name": "python",
   "nbconvert_exporter": "python",
   "pygments_lexer": "ipython2",
   "version": "2.7.18"
  }
 },
 "nbformat": 4,
 "nbformat_minor": 1
}
