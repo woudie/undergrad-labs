{
 "cells": [
  {
   "cell_type": "code",
   "execution_count": 1,
   "metadata": {},
   "outputs": [],
   "source": [
    "#!/usr/bin/env python\n",
    "\n",
    "from fanuc_pcdk_client import FanucPCDKClient\n",
    "from robot_loc_world import RobotLocWorld\n",
    "from robot_loc_joint import RobotLocJoint\n",
    "from time import sleep\n",
    "from copy import deepcopy\n",
    "\n",
    "ROBOT_SPEED = 30\n",
    "ROBOT_SPEED_LINEAR = 45"
   ]
  },
  {
   "cell_type": "code",
   "execution_count": 19,
   "metadata": {
    "scrolled": true
   },
   "outputs": [
    {
     "name": "stdout",
     "output_type": "stream",
     "text": [
      "Connecting to robot at 192.168.1.1\n",
      "Robot Status: \u001b[32mConnected\n",
      "\u001b[0m\n"
     ]
    }
   ],
   "source": [
    "# Robot init\n",
    "robot = FanucPCDKClient()\n",
    "robot.connect()\n",
    "\n",
    "# Run teach pendant program.\n",
    "robot.run_program('PCDK')\n",
    "robot.reset_alarms()\n",
    "\n",
    "# Adjust the speed of the robot\n",
    "robot.set_speed(ROBOT_SPEED)"
   ]
  },
  {
   "cell_type": "markdown",
   "metadata": {},
   "source": [
    "Current world location: x=383.216; y=6.608; z=-75.563; w=179.529; p=-20.949; r=2.437; f=False; u=True; t=True\n",
    "\n",
    "\n",
    "\n",
    "\n",
    "===== Above Picking up peg\n",
    "Current world location: x=416.389, y=-292.849, z=-79.999, w=177.157, p=-4.993, r=-2.357, f=False, u=True, t=True\n",
    "\n",
    "Current world location: x=414.273; y=-292.310; z=-212.355; w=-179.137; p=-0.606; r=-3.587; f=False; u=True; t=True\n",
    "\n",
    "===== Picking up the peg\n",
    "Current world location: x=416.234, y=-290.622, z=-213.338, w=-178.987, p=1.003, r=-2.330, f=False, u=True, t=True\n",
    "\n",
    "==== Close gripper\n",
    "\n",
    "==== Above Picking up peg\n",
    "\n",
    "===== Above insertion pos\n",
    "Current world location: x=444.936, y=-22.675, z=-100.867, w=170.878, p=-82.793, r=5.747, f=True, u=True, t=True\n",
    "\n",
    "===== just before hole w/ peg\n",
    "x=514, y=-16.575, z=-280.859, w=63.613, p=-88.844, r=114.091, f=True, u=True, t=True\n",
    "\n",
    "===== inside peg hole w/ peg\n",
    "x=586.743, y=-16.575, z=-280.859, w=63.613, p=-88.844, r=114.091, f=True, u=True, t=True\n",
    "\n",
    "===== Peg insertion\n",
    "Current world location: x=585.263, y=-5.453, z=-227.577, w=-175.931, p=-88.057, r=-4.035, f=True, u=True, t=True\n",
    "\n",
    "==== Open gripper\n",
    "\n",
    "==== just before hole w/ peg"
   ]
  },
  {
   "cell_type": "code",
   "execution_count": 17,
   "metadata": {
    "scrolled": true
   },
   "outputs": [
    {
     "name": "stdout",
     "output_type": "stream",
     "text": [
      "Current world location: x=383.216; y=6.608; z=-75.563; w=179.529; p=-20.949; r=2.437; f=False; u=True; t=True\n",
      "\n"
     ]
    }
   ],
   "source": [
    "loc_world = robot.get_position(\"world\")\n",
    "print(f'Current world location: {loc_world}\\n')"
   ]
  },
  {
   "cell_type": "code",
   "execution_count": 110,
   "metadata": {},
   "outputs": [],
   "source": [
    "# Going to need to manually get the different poses\n",
    "# Maybe need 4 or 5 waypoints\n",
    "p1 = RobotLocWorld(x=414.273+60, y=6.6, z=-200.355, w=-180.0, p=-82.0, r=-0.0, f=False, u=True, t=True)\n",
    "\n",
    "\n",
    "p2 = RobotLocWorld(x=416.234, y=-290.622, z=-213.338,\n",
    "                   w=-178.987, p=1.003, r=-2.330, \n",
    "                   f=False, u=True, t=True)\n",
    "\n",
    "p3 = RobotLocWorld(x=444.936, y=-22.675, z=-100.867, \n",
    "                   w=170.878, p=-82.793, r=5.747,\n",
    "                   f=False, u=True, t=True)\n",
    "\n",
    "p4 = RobotLocWorld(x=345.437, y=128.544, z=-119.671,\n",
    "                          w=179.499, p=0.827, r=2.541, \n",
    "                          f=False, u=True, t=True)\n",
    "\n",
    "p5 = RobotLocWorld(x=345.437, y=128.544, z=-119.671,\n",
    "                          w=179.499, p=0.827, r=2.541, \n",
    "                          f=False, u=True, t=True)\n",
    "\n",
    "p6 = RobotLocWorld(x=345.437, y=128.544, z=-119.671,\n",
    "                          w=179.499, p=0.827, r=2.541, \n",
    "                          f=False, u=True, t=True)\n",
    "\n",
    "\n",
    "goal = RobotLocWorld(x=345.437, y=128.544, z=-119.671,\n",
    "                          w=179.499, p=0.827, r=2.541, \n",
    "                          f=False, u=True, t=True)"
   ]
  },
  {
   "cell_type": "code",
   "execution_count": 111,
   "metadata": {},
   "outputs": [
    {
     "ename": "KeyboardInterrupt",
     "evalue": "",
     "output_type": "error",
     "traceback": [
      "\u001b[1;31m---------------------------------------------------------------------------\u001b[0m",
      "\u001b[1;31mKeyboardInterrupt\u001b[0m                         Traceback (most recent call last)",
      "\u001b[1;32m<ipython-input-111-6dc495944333>\u001b[0m in \u001b[0;36m<module>\u001b[1;34m\u001b[0m\n\u001b[1;32m----> 1\u001b[1;33m \u001b[0mrobot\u001b[0m\u001b[1;33m.\u001b[0m\u001b[0mmove\u001b[0m\u001b[1;33m(\u001b[0m\u001b[0mp1\u001b[0m\u001b[1;33m,\u001b[0m \u001b[0mmove_linear\u001b[0m\u001b[1;33m=\u001b[0m\u001b[1;32mTrue\u001b[0m\u001b[1;33m,\u001b[0m \u001b[0mspeed\u001b[0m\u001b[1;33m=\u001b[0m\u001b[0mROBOT_SPEED_LINEAR\u001b[0m\u001b[1;33m)\u001b[0m\u001b[1;33m\u001b[0m\u001b[1;33m\u001b[0m\u001b[0m\n\u001b[0m",
      "\u001b[1;32m~\\Desktop\\undergrad-labs\\fanuc\\fanuc_pcdk_client.py\u001b[0m in \u001b[0;36mmove\u001b[1;34m(self, loc, delay, move_linear, speed)\u001b[0m\n\u001b[0;32m    249\u001b[0m                 \u001b[1;32mwhile\u001b[0m \u001b[0mself\u001b[0m\u001b[1;33m.\u001b[0m\u001b[0mcompare_locations\u001b[0m\u001b[1;33m(\u001b[0m\u001b[0mcur_pos\u001b[0m\u001b[1;33m,\u001b[0m \u001b[0mloc\u001b[0m\u001b[1;33m,\u001b[0m \u001b[1;34m\"world\"\u001b[0m\u001b[1;33m)\u001b[0m \u001b[1;33m==\u001b[0m \u001b[1;32mFalse\u001b[0m\u001b[1;33m:\u001b[0m\u001b[1;33m\u001b[0m\u001b[1;33m\u001b[0m\u001b[0m\n\u001b[0;32m    250\u001b[0m                     \u001b[0mcur_pos\u001b[0m \u001b[1;33m=\u001b[0m \u001b[0mself\u001b[0m\u001b[1;33m.\u001b[0m\u001b[0mget_position\u001b[0m\u001b[1;33m(\u001b[0m\u001b[1;34m\"world\"\u001b[0m\u001b[1;33m)\u001b[0m\u001b[1;33m\u001b[0m\u001b[1;33m\u001b[0m\u001b[0m\n\u001b[1;32m--> 251\u001b[1;33m                     \u001b[0msleep\u001b[0m\u001b[1;33m(\u001b[0m\u001b[0mdelay\u001b[0m\u001b[1;33m)\u001b[0m\u001b[1;33m\u001b[0m\u001b[1;33m\u001b[0m\u001b[0m\n\u001b[0m\u001b[0;32m    252\u001b[0m             \u001b[1;32melse\u001b[0m\u001b[1;33m:\u001b[0m\u001b[1;33m\u001b[0m\u001b[1;33m\u001b[0m\u001b[0m\n\u001b[0;32m    253\u001b[0m                 \u001b[0mprint\u001b[0m\u001b[1;33m(\u001b[0m\u001b[1;34m\"> Already at location; skipping move\"\u001b[0m\u001b[1;33m)\u001b[0m\u001b[1;33m\u001b[0m\u001b[1;33m\u001b[0m\u001b[0m\n",
      "\u001b[1;31mKeyboardInterrupt\u001b[0m: "
     ]
    }
   ],
   "source": [
    "robot.move(p1, move_linear=True, speed=ROBOT_SPEED_LINEAR)"
   ]
  },
  {
   "cell_type": "code",
   "execution_count": 44,
   "metadata": {},
   "outputs": [],
   "source": [
    "robot.close_gripper()"
   ]
  },
  {
   "cell_type": "code",
   "execution_count": 45,
   "metadata": {},
   "outputs": [],
   "source": [
    "robot.open_gripper()"
   ]
  },
  {
   "cell_type": "code",
   "execution_count": null,
   "metadata": {},
   "outputs": [],
   "source": [
    "trajectory = [\"close\", \"open\"]"
   ]
  },
  {
   "cell_type": "code",
   "execution_count": null,
   "metadata": {
    "scrolled": true
   },
   "outputs": [],
   "source": [
    "# Going to want to utilize linear motion I'd assume\n",
    "user_choice = raw_input(\"Start Sequence? (y/n) \\n> \")\n",
    "\n",
    "if (user_choice == 'y'):\n",
    "    for pose in trajectory:\n",
    "        reached = False\n",
    "        while not reached:\n",
    "            curr_pos = robot.get_position(\"world\")\n",
    "\n",
    "            if(type(pose) == str):\n",
    "                if(\"open\" in pose):\n",
    "                    robot.open_gripper()\n",
    "                    sleep(0.5)\n",
    "                elif(\"close\" in pose):\n",
    "                    robot.close_gripper()\n",
    "                    sleep(0.5)\n",
    "                elif(\"end\" in pose):\n",
    "                    print(\"Peg insertion \")\n",
    "                    pass # Figure out if its best to move to \n",
    "            elif((not robot.compare_locations(curr_pos, pose, \"world\")) and (type(pose) is RobotLocWorld)):\n",
    "                robot.move(pose, move_linear=True, speed=ROBOT_SPEED_LINEAR)\n",
    "            else:\n",
    "                reached = True\n",
    "            \n"
   ]
  },
  {
   "cell_type": "code",
   "execution_count": null,
   "metadata": {},
   "outputs": [],
   "source": []
  }
 ],
 "metadata": {
  "kernelspec": {
   "display_name": "Python 2",
   "language": "python",
   "name": "python2"
  },
  "language_info": {
   "codemirror_mode": {
    "name": "ipython",
    "version": 2
   },
   "file_extension": ".py",
   "mimetype": "text/x-python",
   "name": "python",
   "nbconvert_exporter": "python",
   "pygments_lexer": "ipython2",
   "version": "2.7.18"
  }
 },
 "nbformat": 4,
 "nbformat_minor": 1
}
