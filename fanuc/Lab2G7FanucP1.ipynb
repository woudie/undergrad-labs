{
 "cells": [
  {
   "cell_type": "code",
   "execution_count": null,
   "metadata": {},
   "outputs": [],
   "source": [
    "#!/usr/bin/env python\n",
    "\n",
    "from fanuc_pcdk_client import FanucPCDKClient\n",
    "from robot_loc_world import RobotLocWorld\n",
    "from robot_loc_joint import RobotLocJoint\n",
    "from time import sleep\n",
    "from copy import deepcopy\n",
    "\n",
    "ROBOT_SPEED = 30\n",
    "ROBOT_SPEED_LINEAR = 45"
   ]
  },
  {
   "cell_type": "code",
   "execution_count": null,
   "metadata": {},
   "outputs": [],
   "source": [
    "# Robot init\n",
    "robot = FanucPCDKClient()\n",
    "robot.connect()\n",
    "\n",
    "# Run teach pendant program.\n",
    "robot.run_program('PCDK')\n",
    "robot.reset_alarms()\n",
    "\n",
    "# Adjust the speed of the robot\n",
    "robot.set_speed(ROBOT_SPEED)"
   ]
  },
  {
   "cell_type": "code",
   "execution_count": null,
   "metadata": {},
   "outputs": [],
   "source": [
    "# Going to need to manually get the different poses\n",
    "# Maybe need 4 or 5 waypoints\n",
    "p1 = RobotLocWorld(x=345.437, y=128.544, z=-119.671,\n",
    "                          w=179.499, p=0.827, r=2.541, \n",
    "                          f=False, u=True, t=True)\n",
    "\n",
    "\n",
    "p2 = RobotLocWorld(x=345.437, y=128.544, z=-119.671,\n",
    "                          w=179.499, p=0.827, r=2.541, \n",
    "                          f=False, u=True, t=True)\n",
    "\n",
    "p3 = RobotLocWorld(x=345.437, y=128.544, z=-119.671,\n",
    "                          w=179.499, p=0.827, r=2.541, \n",
    "                          f=False, u=True, t=True)\n",
    "\n",
    "p4 = RobotLocWorld(x=345.437, y=128.544, z=-119.671,\n",
    "                          w=179.499, p=0.827, r=2.541, \n",
    "                          f=False, u=True, t=True)\n",
    "\n",
    "p5 = RobotLocWorld(x=345.437, y=128.544, z=-119.671,\n",
    "                          w=179.499, p=0.827, r=2.541, \n",
    "                          f=False, u=True, t=True)\n",
    "\n",
    "p6 = RobotLocWorld(x=345.437, y=128.544, z=-119.671,\n",
    "                          w=179.499, p=0.827, r=2.541, \n",
    "                          f=False, u=True, t=True)\n",
    "\n",
    "\n",
    "goal = RobotLocWorld(x=345.437, y=128.544, z=-119.671,\n",
    "                          w=179.499, p=0.827, r=2.541, \n",
    "                          f=False, u=True, t=True)"
   ]
  },
  {
   "cell_type": "code",
   "execution_count": null,
   "metadata": {},
   "outputs": [],
   "source": [
    "trajectory = [\"close\", \"open\"]"
   ]
  },
  {
   "cell_type": "code",
   "execution_count": null,
   "metadata": {
    "scrolled": true
   },
   "outputs": [],
   "source": [
    "# Going to want to utilize linear motion I'd assume\n",
    "user_choice = raw_input(\"Start Sequence? (y/n) \\n> \")\n",
    "\n",
    "if (user_choice == 'y'):\n",
    "    for pose in trajectory:\n",
    "        reached = False\n",
    "        while not reached:\n",
    "            curr_pos = robot.get_position(\"world\")\n",
    "\n",
    "            if(type(pose) == str):\n",
    "                if(\"open\" in pose):\n",
    "                    robot.open_gripper()\n",
    "                    sleep(0.5)\n",
    "                elif(\"close\" in pose):\n",
    "                    robot.close_gripper()\n",
    "                    sleep(0.5)\n",
    "                elif(\"end\" in pose):\n",
    "                    print(\"Peg insertion \")\n",
    "                    pass # Figure out if its best to move to \n",
    "            elif((not robot.compare_locations(curr_pos, pose, \"world\")) and (type(pose) is RobotLocWorld)):\n",
    "                robot.move(pose, move_linear=True, speed=ROBOT_SPEED_LINEAR)\n",
    "            else:\n",
    "                reached = True\n",
    "            \n"
   ]
  },
  {
   "cell_type": "code",
   "execution_count": null,
   "metadata": {},
   "outputs": [],
   "source": []
  }
 ],
 "metadata": {
  "kernelspec": {
   "display_name": "Python 2",
   "language": "python",
   "name": "python2"
  },
  "language_info": {
   "codemirror_mode": {
    "name": "ipython",
    "version": 2
   },
   "file_extension": ".py",
   "mimetype": "text/x-python",
   "name": "python",
   "nbconvert_exporter": "python",
   "pygments_lexer": "ipython2",
   "version": "2.7.18"
  }
 },
 "nbformat": 4,
 "nbformat_minor": 1
}
