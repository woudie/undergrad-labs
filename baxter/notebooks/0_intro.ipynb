{
 "cells": [
  {
   "cell_type": "markdown",
   "id": "f7360570",
   "metadata": {},
   "source": [
    "# Baxter Introduction\n",
    "\n",
    "Learn how to move the baxter in joint space (forward kinematics) and how to operate its two finger and vacuum grippers.\n",
    "\n",
    "##### ENGG 4460 University of Guelph, Patrick Wspanialy"
   ]
  },
  {
   "cell_type": "markdown",
   "id": "fbcc7ce7",
   "metadata": {},
   "source": [
    "Before you start working with Baxter and this notebook, make sure you launched the notebook from a `Baxter shell`.\n",
    "\n",
    "You can start a Baxter shell by entering the following command into a `Terminal`.\n",
    "\n",
    "    bash --rcfile ~/.bashrc.baxter \n",
    "    \n",
    "Then close this window and rerun `ipython notebook` in the new `Baxter shell` you just created."
   ]
  },
  {
   "cell_type": "markdown",
   "id": "4f785006",
   "metadata": {},
   "source": [
    "Import python modules needed to control Baxter"
   ]
  },
  {
   "cell_type": "code",
   "execution_count": null,
   "id": "47634d0f",
   "metadata": {},
   "outputs": [],
   "source": [
    "import pprint\n",
    "import math\n",
    "import rospy\n",
    "import baxter_interface\n",
    "from baxter_interface import RobotEnable\n",
    "from baxter_interface import Gripper\n",
    "pp = pprint.PrettyPrinter(indent=4)"
   ]
  },
  {
   "cell_type": "markdown",
   "id": "3bd8094c",
   "metadata": {},
   "source": [
    "Initialize a new ROS node and name it \"Hello_Baxter\", "
   ]
  },
  {
   "cell_type": "code",
   "execution_count": null,
   "id": "a6e2669f",
   "metadata": {},
   "outputs": [],
   "source": [
    "rospy.init_node('Hello_Baxter')"
   ]
  },
  {
   "cell_type": "markdown",
   "id": "f539aad4",
   "metadata": {},
   "source": [
    "If you didn't run the `rosrun baxter_tools enable_robot.py -e` command, you can also enable baxter directly from Python."
   ]
  },
  {
   "cell_type": "code",
   "execution_count": null,
   "id": "7909e498",
   "metadata": {},
   "outputs": [],
   "source": [
    "baxter = RobotEnable()\n",
    "baxter.enable()"
   ]
  },
  {
   "cell_type": "markdown",
   "id": "bd1b39b3",
   "metadata": {},
   "source": [
    "create a new limb objects for each arm, and print out the current limb joint angles"
   ]
  },
  {
   "cell_type": "code",
   "execution_count": null,
   "id": "d7c8108a",
   "metadata": {},
   "outputs": [],
   "source": [
    "right_arm = baxter_interface.Limb('right')\n",
    "left_arm = baxter_interface.Limb('left')\n",
    "right_angles = right_arm.joint_angles()\n",
    "left_angles = left_arm.joint_angles()\n",
    "pp.pprint(right_angles)\n",
    "pp.pprint(left_angles)"
   ]
  },
  {
   "cell_type": "markdown",
   "id": "e9cc1661",
   "metadata": {},
   "source": [
    "Set new angles for the 7 joints of the arm and print them"
   ]
  },
  {
   "cell_type": "code",
   "execution_count": null,
   "id": "22f71b61",
   "metadata": {},
   "outputs": [],
   "source": [
    "right_angles['right_s0']=0.0\n",
    "right_angles['right_s1']=0.0\n",
    "right_angles['right_e0']=0.0\n",
    "right_angles['right_e1']=0.0\n",
    "right_angles['right_w0']=0.0\n",
    "right_angles['right_w1']=0.0\n",
    "right_angles['right_w2']=0.0\n",
    "\n",
    "pp.pprint(right_angles)"
   ]
  },
  {
   "cell_type": "markdown",
   "id": "1c158c66",
   "metadata": {},
   "source": [
    "[<img src=\"http://sdk.rethinkrobotics.com/mediawiki-1.22.2/images/7/7c/Baxter_arm.png\">]"
   ]
  },
  {
   "cell_type": "markdown",
   "id": "d3a051f3",
   "metadata": {},
   "source": [
    "Move the right arm to the set joint angles (this is forward kinematics)"
   ]
  },
  {
   "cell_type": "code",
   "execution_count": null,
   "id": "17bddc7e",
   "metadata": {},
   "outputs": [],
   "source": [
    "right_arm.move_to_joint_positions(right_angles)"
   ]
  },
  {
   "cell_type": "markdown",
   "id": "ed417f24",
   "metadata": {},
   "source": [
    "Get the Cartesian space coordinates of the right hand"
   ]
  },
  {
   "cell_type": "code",
   "execution_count": null,
   "id": "37554394",
   "metadata": {},
   "outputs": [],
   "source": [
    "right_pose = right_arm.endpoint_pose()\n",
    "\n",
    "pp.pprint(right_pose['position'])\n",
    "print \"\\n\"\n",
    "pp.pprint(right_pose['orientation'])"
   ]
  },
  {
   "cell_type": "markdown",
   "id": "322e8174",
   "metadata": {},
   "source": [
    "Repeat for process for the other arm"
   ]
  },
  {
   "cell_type": "code",
   "execution_count": null,
   "id": "40842777",
   "metadata": {},
   "outputs": [],
   "source": [
    "left_angles['left_s0']=0.0\n",
    "left_angles['left_s1']=0.0\n",
    "left_angles['left_e0']=0.0\n",
    "left_angles['left_e1']=0.0\n",
    "left_angles['left_w0']=0.0\n",
    "left_angles['left_w1']=0.0\n",
    "left_angles['left_w2']=0.0\n",
    "\n",
    "pp.pprint(left_angles)\n",
    "\n",
    "\n",
    "left_arm.move_to_joint_positions(left_angles)"
   ]
  },
  {
   "cell_type": "markdown",
   "id": "08b0167d",
   "metadata": {},
   "source": [
    "Make two new sets of joint angles for the right arm, corresponding to the beginning and end of a waving motion"
   ]
  },
  {
   "cell_type": "code",
   "execution_count": null,
   "id": "24bb7cca",
   "metadata": {},
   "outputs": [],
   "source": [
    "wave_1 = {'right_s0': -0.459, 'right_s1': -0.202, 'right_e0': 1.807, 'right_e1': 1.714, 'right_w0': -0.906, 'right_w1': -1.545, 'right_w2': -0.276}\n",
    "wave_2 = {'right_s0': -0.395, 'right_s1': -0.202, 'right_e0': 1.831, 'right_e1': 1.981, 'right_w0': -1.979, 'right_w1': -1.100, 'right_w2': -0.448}"
   ]
  },
  {
   "cell_type": "markdown",
   "id": "b9b4cc3a",
   "metadata": {},
   "source": [
    "Using a `for loop`, repeat the wave twice"
   ]
  },
  {
   "cell_type": "code",
   "execution_count": null,
   "id": "e5f2b07e",
   "metadata": {},
   "outputs": [],
   "source": [
    "for _move in range(2):\n",
    "    right_arm.move_to_joint_positions(wave_1)\n",
    "    right_arm.move_to_joint_positions(wave_2)"
   ]
  },
  {
   "cell_type": "markdown",
   "id": "fe0d6d0b",
   "metadata": {},
   "source": [
    "Initialize Baxter's end effectors. It has a two finger gripper on its right arm, and a vacuum on its left arm."
   ]
  },
  {
   "cell_type": "code",
   "execution_count": null,
   "id": "ba9e9b3a",
   "metadata": {},
   "outputs": [],
   "source": [
    "fingers = Gripper('right')\n",
    "fingers.calibrate()\n",
    "\n",
    "vacuum = Gripper('left')\n",
    "vacuum_sensor = baxter_interface.AnalogIO('left_vacuum_sensor_analog')"
   ]
  },
  {
   "cell_type": "markdown",
   "id": "d00ce3a5",
   "metadata": {},
   "source": [
    "Close the two finger gripper"
   ]
  },
  {
   "cell_type": "code",
   "execution_count": null,
   "id": "d70cea80",
   "metadata": {},
   "outputs": [],
   "source": [
    "fingers.close()"
   ]
  },
  {
   "cell_type": "markdown",
   "id": "cdcc2da7",
   "metadata": {},
   "source": [
    "Open the two finger gripper"
   ]
  },
  {
   "cell_type": "code",
   "execution_count": null,
   "id": "39defab1",
   "metadata": {},
   "outputs": [],
   "source": [
    "fingers.open()"
   ]
  },
  {
   "cell_type": "markdown",
   "id": "a9eac044",
   "metadata": {},
   "source": [
    "Turn on the vacuum and attempt to pick up an object. You can set a `timeout`, which will stop the vacuum if an object hasn't been detected. The default `timeout` value is 5 seconds."
   ]
  },
  {
   "cell_type": "code",
   "execution_count": null,
   "id": "f16a783f",
   "metadata": {},
   "outputs": [],
   "source": [
    "vacuum.close(timeout=6)"
   ]
  },
  {
   "cell_type": "markdown",
   "id": "9d0f9b4b",
   "metadata": {},
   "source": [
    "Turn off the vacuum and release what it's holding."
   ]
  },
  {
   "cell_type": "code",
   "execution_count": null,
   "id": "d5c3d69d",
   "metadata": {},
   "outputs": [],
   "source": [
    "vacuum.open()"
   ]
  },
  {
   "cell_type": "markdown",
   "id": "fe3ba46d",
   "metadata": {},
   "source": [
    "Check if the vacuum gipper is holding anything."
   ]
  },
  {
   "cell_type": "code",
   "execution_count": null,
   "id": "1c59c61f",
   "metadata": {},
   "outputs": [],
   "source": [
    "vacuum_strength = vacuum_sensor.state()\n",
    "if vacuum_strength > 50:\n",
    "   print \"I've got it! :)  [vacuum strength: \" + str(vacuum_strength) + \"]\"\n",
    "else:\n",
    "    print \"I'm not holding anything :(  [vacuum strength: \" + str(vacuum_strength) + \"]\""
   ]
  },
  {
   "cell_type": "markdown",
   "id": "ec0bd737",
   "metadata": {},
   "source": [
    "Disable baxter once you're done using him. Make sure to guide his arms into the correct resting position before disabling.\n",
    "\n",
    "This example also shows you how you can define angle positions using degrees, and let python convert it to radians for you using `math.radians()`. You can go the other way when printing out the current position using `math.degrees()`."
   ]
  },
  {
   "cell_type": "code",
   "execution_count": null,
   "id": "10a9d46e",
   "metadata": {},
   "outputs": [],
   "source": [
    "right_angles['right_s0'] = math.radians(20)\n",
    "right_angles['right_s1'] = 0.0\n",
    "right_angles['right_e0'] = 0.0\n",
    "right_angles['right_e1'] = 0.0\n",
    "right_angles['right_w0'] = 0.0\n",
    "right_angles['right_w1'] = 0.0\n",
    "right_angles['right_w2'] = 0.0\n",
    "\n",
    "left_angles['left_s0'] = math.radians(-20)\n",
    "left_angles['left_s1'] = 0.0\n",
    "left_angles['left_e0'] = 0.0\n",
    "left_angles['left_e1'] = 0.0\n",
    "left_angles['left_w0'] = 0.0\n",
    "left_angles['left_w1'] = 0.0\n",
    "left_angles['left_w2'] = 0.0\n",
    "\n",
    "right_arm.move_to_joint_positions(right_angles)\n",
    "left_arm.move_to_joint_positions(left_angles)"
   ]
  },
  {
   "cell_type": "code",
   "execution_count": null,
   "id": "cb32b15d",
   "metadata": {},
   "outputs": [],
   "source": [
    "baxter.disable()"
   ]
  },
  {
   "cell_type": "code",
   "execution_count": null,
   "id": "eab938ab",
   "metadata": {},
   "outputs": [],
   "source": []
  }
 ],
 "metadata": {
  "kernelspec": {
   "display_name": "Python 3",
   "language": "python",
   "name": "python3"
  },
  "language_info": {
   "codemirror_mode": {
    "name": "ipython",
    "version": 3
   },
   "file_extension": ".py",
   "mimetype": "text/x-python",
   "name": "python",
   "nbconvert_exporter": "python",
   "pygments_lexer": "ipython3",
   "version": "3.6.9"
  }
 },
 "nbformat": 4,
 "nbformat_minor": 1
}
