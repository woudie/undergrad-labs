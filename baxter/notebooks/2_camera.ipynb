{
 "cells": [
  {
   "cell_type": "markdown",
   "id": "9f6caaf8",
   "metadata": {},
   "source": [
    "# Baxter Vision Introduction\n",
    "\n",
    "Learn how make baxter use its cameras and distance sensors.\n",
    "\n",
    "##### ENGG 4460 University of Guelph, Patrick Wspanialy"
   ]
  },
  {
   "cell_type": "markdown",
   "id": "d3a438e4",
   "metadata": {},
   "source": [
    "Import python modules needed to control Baxter"
   ]
  },
  {
   "cell_type": "code",
   "execution_count": 1,
   "id": "29b7c8e1",
   "metadata": {},
   "outputs": [],
   "source": [
    "import pprint\n",
    "import math\n",
    "import rospy\n",
    "import baxter_interface\n",
    "from baxter_interface import RobotEnable\n",
    "from baxter_interface import CameraController\n",
    "from sensor_msgs.msg import Image, Range\n",
    "import cv2\n",
    "import cv_bridge\n",
    "from cv_bridge import CvBridge, CvBridgeError\n",
    "bridge = CvBridge()\n",
    "pp = pprint.PrettyPrinter(indent=4, width=1)"
   ]
  },
  {
   "cell_type": "markdown",
   "id": "8fe44860",
   "metadata": {},
   "source": [
    "Initialize a new ROS node and name it \"camera_example\" "
   ]
  },
  {
   "cell_type": "code",
   "execution_count": null,
   "id": "840de3f6",
   "metadata": {},
   "outputs": [],
   "source": [
    "rospy.init_node('camera_example')"
   ]
  },
  {
   "cell_type": "markdown",
   "id": "6eaf5712",
   "metadata": {},
   "source": [
    "Create variables to access Baxter's two hand cameras."
   ]
  },
  {
   "cell_type": "code",
   "execution_count": null,
   "id": "70abbd25",
   "metadata": {},
   "outputs": [],
   "source": [
    "right_hand_camera = CameraController('right_hand_camera')\n",
    "left_hand_camera = CameraController('left_hand_camera')"
   ]
  },
  {
   "cell_type": "markdown",
   "id": "24854b2d",
   "metadata": {},
   "source": [
    "Set some of the properties of the right hand camera. Once the properties are set, we need to \"open\" the camera to activate it. "
   ]
  },
  {
   "cell_type": "code",
   "execution_count": null,
   "id": "27800877",
   "metadata": {},
   "outputs": [],
   "source": [
    "right_hand_camera.resolution = (960, 600)\n",
    "right_hand_camera.gain = 0\n",
    "right_hand_camera.open()"
   ]
  },
  {
   "cell_type": "markdown",
   "id": "d030e847",
   "metadata": {},
   "source": [
    "To helps us understand how far away an object is from the hand, we can use Baxter's range sensors. They have a maximum range of ~0.3m. If you see ~65, that means it's not seeing anything in range.\n",
    "\n",
    "We define a class that will take care of reading the range sensors for us."
   ]
  },
  {
   "cell_type": "code",
   "execution_count": null,
   "id": "1bb490b6",
   "metadata": {},
   "outputs": [],
   "source": [
    "class BaxterRangeSensor(object):\n",
    "    def __init__(self):\n",
    "        self.distance = {}\n",
    "        root_name = \"/robot/range/\"\n",
    "        sensor_name = [\"left_hand_range/state\",\"right_hand_range/state\"]\n",
    "        self.__left_sensor = rospy.Subscriber(root_name + sensor_name[0], Range, callback=self.__sensorCallback, callback_args=\"left\", queue_size=1)\n",
    "        self.__right_sensor = rospy.Subscriber(root_name + sensor_name[1], Range, callback=self.__sensorCallback, callback_args=\"right\", queue_size=1)\n",
    "       \n",
    "    def __sensorCallback(self,msg,side):\n",
    "       self.distance[side] = msg.range\n",
    "\n",
    "range_sensors = BaxterRangeSensor()"
   ]
  },
  {
   "cell_type": "markdown",
   "id": "2b7ec8ea",
   "metadata": {},
   "source": [
    "Now we can access the distances seen by the range sensors."
   ]
  },
  {
   "cell_type": "code",
   "execution_count": null,
   "id": "a7c37a54",
   "metadata": {},
   "outputs": [],
   "source": [
    "pp.pprint(range_sensors.distance)"
   ]
  },
  {
   "cell_type": "markdown",
   "id": "6619884a",
   "metadata": {},
   "source": [
    "Now let's take a video with our right hand camera, add some graphics to it, and show it on Baxter's face."
   ]
  },
  {
   "cell_type": "code",
   "execution_count": null,
   "id": "391acd5f",
   "metadata": {},
   "outputs": [],
   "source": [
    "class BaxterRightHandVision(object):\n",
    "    def __init__(self):\n",
    "        right_hand_image_topic = '/cameras/right_hand_camera/image'\n",
    "        right_hand_image_subscriber = rospy.Subscriber(right_hand_image_topic, Image, callback=self.__processImageCallback, queue_size=1)\n",
    "        display_topic = '/robot/xdisplay'\n",
    "        self.__display_publisher = rospy.Publisher(display_topic, Image, queue_size=1)\n",
    "        \n",
    "    def __processImageCallback(self, message):\n",
    "        # convert ROS iamge to OpenCV image\n",
    "        cv2_image = bridge.imgmsg_to_cv2(message)\n",
    "        \n",
    "        # this is where we do our image processing. \n",
    "        # We're just going to draw a red rectangle and the distance we previously got from our distance sensor\n",
    "        # note, that in OpenCV, colors are represented as (blue, green, red), rather than RGB\n",
    "        cv2.rectangle(\n",
    "                      cv2_image,\n",
    "                      pt1=(280,200),\n",
    "                      pt2=(680,400),\n",
    "                      color=(0,0,255),\n",
    "                      thickness=5\n",
    "                      )\n",
    "        cv2.putText(\n",
    "                    cv2_image,\n",
    "                    text='%.2f' % range_sensors.distance['right'],\n",
    "                    org=(400,500),\n",
    "                    fontFace=cv2.FONT_HERSHEY_SIMPLEX,\n",
    "                    fontScale=2,\n",
    "                    color=(255,255,0)\n",
    "                    )\n",
    "\n",
    "        # convert OpenCV image back to ROS image\n",
    "        ros_image = bridge.cv2_to_imgmsg(cv2_image)\n",
    "        \n",
    "        # publish our modified image to the display\n",
    "        self.__display_publisher.publish(ros_image)\n",
    "\n",
    "    def __findToy(self, img):\n",
    "        try:\n",
    "            detection = detect_toy(example_image)\n",
    "        except (TimeoutError, ):\n",
    "            print(\"Detection has failed, un\")\n",
    "        \n",
    "right_hand_vision = BaxterRightHandVision()"
   ]
  },
  {
   "cell_type": "code",
   "execution_count": null,
   "id": "bb155760",
   "metadata": {},
   "outputs": [],
   "source": []
  }
 ],
 "metadata": {
  "kernelspec": {
   "display_name": "Python 2.7.17 64-bit",
   "language": "python",
   "name": "python2717jvsc74a57bd0767d51c1340bd893661ea55ea3124f6de3c7a262a8b4abca0554b478b1e2ff90"
  },
  "language_info": {
   "codemirror_mode": {
    "name": "ipython",
    "version": 2
   },
   "file_extension": ".py",
   "mimetype": "text/x-python",
   "name": "python",
   "nbconvert_exporter": "python",
   "pygments_lexer": "ipython2",
   "version": "2.7.17"
  }
 },
 "nbformat": 4,
 "nbformat_minor": 1
}
