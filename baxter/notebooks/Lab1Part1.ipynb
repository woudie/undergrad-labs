{
 "metadata": {
  "name": ""
 },
 "nbformat": 3,
 "nbformat_minor": 0,
 "worksheets": [
  {
   "cells": [
    {
     "cell_type": "code",
     "collapsed": false,
     "input": [
      "import pprint\n",
      "import math\n",
      "import rospy\n",
      "import baxter_interface\n",
      "\n",
      "from baxter_interface import RobotEnable\n",
      "from baxter_interface import Gripper\n",
      "pp = pprint.PrettyPrinter(indent=4)"
     ],
     "language": "python",
     "metadata": {},
     "outputs": [],
     "prompt_number": 1
    },
    {
     "cell_type": "code",
     "collapsed": false,
     "input": [
      "rospy.init_node('Group7Baxter')"
     ],
     "language": "python",
     "metadata": {},
     "outputs": [],
     "prompt_number": 2
    },
    {
     "cell_type": "code",
     "collapsed": false,
     "input": [
      "baxter = RobotEnable()\n",
      "baxter.enable()"
     ],
     "language": "python",
     "metadata": {},
     "outputs": [
      {
       "output_type": "stream",
       "stream": "stdout",
       "text": [
        "[INFO] [WallTime: 1633525592.490926] Robot Enabled\n"
       ]
      }
     ],
     "prompt_number": 3
    },
    {
     "cell_type": "markdown",
     "metadata": {},
     "source": [
      ">> rosrun baxter_examples joint_recorder.py -f watch_me.rec"
     ]
    },
    {
     "cell_type": "code",
     "collapsed": false,
     "input": [
      "fingers = Gripper('right')\n",
      "fingers.calibrate()\n",
      "\n",
      "vacuum = Gripper('left')\n",
      "vacuum_sensor = baxter_interface.AnalogIO('left_vacuum_sensor_analog')"
     ],
     "language": "python",
     "metadata": {},
     "outputs": [],
     "prompt_number": 4
    },
    {
     "cell_type": "code",
     "collapsed": false,
     "input": [
      "fingers.close()"
     ],
     "language": "python",
     "metadata": {},
     "outputs": [
      {
       "metadata": {},
       "output_type": "pyout",
       "prompt_number": 6,
       "text": [
        "True"
       ]
      }
     ],
     "prompt_number": 6
    },
    {
     "cell_type": "code",
     "collapsed": false,
     "input": [
      "vacuum.close(timeout=6)"
     ],
     "language": "python",
     "metadata": {},
     "outputs": [
      {
       "metadata": {},
       "output_type": "pyout",
       "prompt_number": 7,
       "text": [
        "True"
       ]
      }
     ],
     "prompt_number": 7
    },
    {
     "cell_type": "code",
     "collapsed": false,
     "input": [
      "fingers.open()"
     ],
     "language": "python",
     "metadata": {},
     "outputs": [
      {
       "metadata": {},
       "output_type": "pyout",
       "prompt_number": 8,
       "text": [
        "True"
       ]
      }
     ],
     "prompt_number": 8
    },
    {
     "cell_type": "code",
     "collapsed": false,
     "input": [
      "vacuum.open()"
     ],
     "language": "python",
     "metadata": {},
     "outputs": [
      {
       "metadata": {},
       "output_type": "pyout",
       "prompt_number": 9,
       "text": [
        "True"
       ]
      }
     ],
     "prompt_number": 9
    },
    {
     "cell_type": "markdown",
     "metadata": {},
     "source": [
      ">> rosrun baxter_interface joint_trajectory_action_server.py"
     ]
    },
    {
     "cell_type": "markdown",
     "metadata": {},
     "source": [
      ">> rosrun baxter_examples joint_trajectory_file_playback.py -f watch_me.rec"
     ]
    }
   ],
   "metadata": {}
  }
 ]
}