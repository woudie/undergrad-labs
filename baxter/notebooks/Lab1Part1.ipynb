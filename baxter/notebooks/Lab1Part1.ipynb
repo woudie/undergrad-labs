{
 "metadata": {
  "name": ""
 },
 "nbformat": 3,
 "nbformat_minor": 0,
 "worksheets": [
  {
   "cells": [
    {
     "cell_type": "code",
     "collapsed": false,
     "input": [
      "import pprint\n",
      "import math\n",
      "import rospy\n",
      "import baxter_interface\n",
      "\n",
      "from baxter_interface import RobotEnable\n",
      "from baxter_interface import Gripper\n",
      "pp = pprint.PrettyPrinter(indent=4)"
     ],
     "language": "python",
     "metadata": {},
     "outputs": []
    },
    {
     "cell_type": "code",
     "collapsed": false,
     "input": [
      "rospy.init_node('Group7Baxter')"
     ],
     "language": "python",
     "metadata": {},
     "outputs": []
    },
    {
     "cell_type": "code",
     "collapsed": false,
     "input": [
      "baxter = RobotEnable()\n",
      "baxter.enable()"
     ],
     "language": "python",
     "metadata": {},
     "outputs": []
    },
    {
     "cell_type": "markdown",
     "metadata": {},
     "source": [
      ">> rosrun baxter_examples joint_recorder.py -f watch_me.rec"
     ]
    },
    {
     "cell_type": "code",
     "collapsed": false,
     "input": [
      "fingers = Gripper('right')\n",
      "fingers.calibrate()\n",
      "\n",
      "vacuum = Gripper('left')\n",
      "vacuum_sensor = baxter_interface.AnalogIO('left_vacuum_sensor_analog')"
     ],
     "language": "python",
     "metadata": {},
     "outputs": []
    },
    {
     "cell_type": "code",
     "collapsed": false,
     "input": [
      "fingers.close()"
     ],
     "language": "python",
     "metadata": {},
     "outputs": []
    },
    {
     "cell_type": "code",
     "collapsed": false,
     "input": [
      "vacuum.close(timeout=6)"
     ],
     "language": "python",
     "metadata": {},
     "outputs": []
    },
    {
     "cell_type": "code",
     "collapsed": false,
     "input": [
      "fingers.open()"
     ],
     "language": "python",
     "metadata": {},
     "outputs": []
    },
    {
     "cell_type": "code",
     "collapsed": false,
     "input": [
      "vacuum.open()"
     ],
     "language": "python",
     "metadata": {},
     "outputs": []
    },
    {
     "cell_type": "markdown",
     "metadata": {},
     "source": [
      ">> rosrun baxter_interface joint_trajectory_action_server.py"
     ]
    },
    {
     "cell_type": "markdown",
     "metadata": {},
     "source": [
      ">> rosrun baxter_examples joint_trajectory_file_playback.py -f watch_me.rec"
     ]
    }
   ],
   "metadata": {}
  }
 ]
}