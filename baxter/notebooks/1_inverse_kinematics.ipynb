{
 "cells": [
  {
   "cell_type": "markdown",
   "id": "8e37caa2",
   "metadata": {},
   "source": [
    "# Baxter Inverse Kinematics Introduction\n",
    "\n",
    "Learn how to move the baxter in Cartesian space (inverse kinematics).\n",
    "\n",
    "##### ENGG 4460 University of Guelph, Patrick Wspanialy"
   ]
  },
  {
   "cell_type": "markdown",
   "id": "713a7fe6",
   "metadata": {},
   "source": [
    "Import python modules needed to control Baxter"
   ]
  },
  {
   "cell_type": "code",
   "execution_count": null,
   "id": "872622f2",
   "metadata": {},
   "outputs": [],
   "source": [
    "import pprint\n",
    "import math\n",
    "import rospy\n",
    "import baxter_interface\n",
    "from baxter_interface import (RobotEnable, Gripper)\n",
    "from geometry_msgs.msg import (\n",
    "    PoseStamped,\n",
    "    Pose,\n",
    "    Point,\n",
    "    Quaternion,\n",
    ")\n",
    "from std_msgs.msg import Header\n",
    "from baxter_core_msgs.srv import (\n",
    "    SolvePositionIK,\n",
    "    SolvePositionIKRequest,\n",
    ")\n",
    "pp = pprint.PrettyPrinter(indent=4)"
   ]
  },
  {
   "cell_type": "markdown",
   "id": "6be3bd0a",
   "metadata": {},
   "source": [
    "Initialize a new ROS node and connect to the inverse kinematics services for the right and left arms. "
   ]
  },
  {
   "cell_type": "code",
   "execution_count": null,
   "id": "fdb6406e",
   "metadata": {},
   "outputs": [],
   "source": [
    "rospy.init_node(\"rsdk_ik_service_client\")\n",
    "\n",
    "right_namespace = \"ExternalTools/right/PositionKinematicsNode/IKService\"\n",
    "left_namespace = \"ExternalTools/left/PositionKinematicsNode/IKService\"\n",
    "\n",
    "right_ik_service = rospy.ServiceProxy(right_namespace, SolvePositionIK)\n",
    "left_ik_service = rospy.ServiceProxy(left_namespace, SolvePositionIK)\n",
    "\n",
    "right_ik_request = SolvePositionIKRequest()\n",
    "left_ik_request = SolvePositionIKRequest()\n",
    "\n",
    "ik_header = Header(stamp=rospy.Time.now(), frame_id='base')"
   ]
  },
  {
   "cell_type": "markdown",
   "id": "b9d6a475",
   "metadata": {},
   "source": [
    "Enable Baxter"
   ]
  },
  {
   "cell_type": "code",
   "execution_count": null,
   "id": "2ae22917",
   "metadata": {},
   "outputs": [],
   "source": [
    "baxter = RobotEnable()\n",
    "baxter.enable()"
   ]
  },
  {
   "cell_type": "markdown",
   "id": "1d273a77",
   "metadata": {},
   "source": [
    "Choose the pose we want the right arm to go to. \n",
    "\n",
    "#### Position\n",
    "- x: in, out. 0 is at the center of Baxter\n",
    "- y: left, right. 0 is at the center of Baxter\n",
    "- z: up, down. 0 is at the table surface (don't assign z to be less than 0)\n",
    "\n",
    "#### Orientation\n",
    "https://en.wikipedia.org/wiki/Quaternions_and_spatial_rotation\n",
    "\n",
    "\n",
    "| x  | y  | z  |  w | description  |\n",
    "|---|---|---|---|---|\n",
    "| 0  | 0  | 0  | 1  | neutral position, no rotations applied  |\n",
    "| 1  | 0  | 0  | 0  | 180° turn around X axis |\n",
    "| 0  | 1  | 0  | 0  | 180° turn around Y axis  |\n",
    "| 0  | 0  | 1  | 0  | 180° turn around Z axis  |\n",
    "| math.sqrt(0.5)  | 0  | 0  | math.sqrt(0.5)  | 90° rotation around X axis  |\n",
    "| 0  | math.sqrt(0.5)  | 0 | math.sqrt(0.5)  | 90° rotation around Y axis  |\n",
    "| 0  | 0  | math.sqrt(0.5)  | math.sqrt(0.5)  | 90° rotation around Z axis  |\n",
    "| -math.sqrt(0.5)  | 0  | 0  | math.sqrt(0.5)  | -90° rotation around X axis  |\n",
    "| 0  | -math.sqrt(0.5)  | 0  | math.sqrt(0.5)  | -90° rotation around Y axis  |\n",
    "| 0  | 0  |  -math.sqrt(0.5) | math.sqrt(0.5)  | -90° rotation around Z axis  |\n",
    "\n"
   ]
  },
  {
   "cell_type": "code",
   "execution_count": null,
   "id": "9cc0ff79",
   "metadata": {},
   "outputs": [],
   "source": [
    "right_pose = PoseStamped(\n",
    "            header=ik_header,\n",
    "            pose=Pose(\n",
    "                position=Point(\n",
    "                    x=0.5,\n",
    "                    y=-0.5,\n",
    "                    z=0.6,\n",
    "                ),\n",
    "                orientation=Quaternion(\n",
    "                    x=0.0,\n",
    "                    y=0.0,\n",
    "                    z=0.0,\n",
    "                    w=1.0,\n",
    "                ),\n",
    "            ),\n",
    "        )"
   ]
  },
  {
   "cell_type": "markdown",
   "id": "24c7931f",
   "metadata": {},
   "source": [
    "Store our pose into our request variable."
   ]
  },
  {
   "cell_type": "code",
   "execution_count": null,
   "id": "72f00adb",
   "metadata": {},
   "outputs": [],
   "source": [
    "right_ik_request.pose_stamp[:] = []\n",
    "right_ik_request.pose_stamp.append(right_pose)\n",
    "\n",
    "print right_ik_request.pose_stamp"
   ]
  },
  {
   "cell_type": "markdown",
   "id": "87b9bbf4",
   "metadata": {},
   "source": [
    "Try to get a joint solution to the pose we defined using the inverse kinematics engine running in Baxter."
   ]
  },
  {
   "cell_type": "code",
   "execution_count": null,
   "id": "0a6b9a72",
   "metadata": {},
   "outputs": [],
   "source": [
    "try:\n",
    "    rospy.wait_for_service(right_namespace, 5.0)\n",
    "    right_ik_response = right_ik_service(right_ik_request)\n",
    "    if (right_ik_response.isValid[0]):\n",
    "        right_limb_joints = dict(zip(right_ik_response.joints[0].name, right_ik_response.joints[0].position))\n",
    "        pp.pprint(right_limb_joints)\n",
    "    else:\n",
    "        print(\"INVALID POSE - No Valid Joint Solution Found.\")\n",
    "except (rospy.ServiceException, rospy.ROSException), e:\n",
    "    rospy.logerr(\"Service call failed: %s\" % (e,))"
   ]
  },
  {
   "cell_type": "markdown",
   "id": "ff32b61a",
   "metadata": {},
   "source": [
    "If a joint solution to our pose exists, we can move the the joints positions the IK engine generated."
   ]
  },
  {
   "cell_type": "code",
   "execution_count": null,
   "id": "fc2b2c7c",
   "metadata": {},
   "outputs": [],
   "source": [
    "right_arm = baxter_interface.Limb('right')\n",
    "right_arm.move_to_joint_positions(right_limb_joints)"
   ]
  },
  {
   "cell_type": "markdown",
   "id": "d4d8a1c5",
   "metadata": {},
   "source": [
    "Let's print out the joint positions, along with the Cartesian position and Quaternion orientation"
   ]
  },
  {
   "cell_type": "code",
   "execution_count": null,
   "id": "3fd4b971",
   "metadata": {},
   "outputs": [],
   "source": [
    "right_angles = right_arm.joint_angles()\n",
    "right_pose = right_arm.endpoint_pose()\n",
    "pp.pprint(right_angles)\n",
    "print \"\\n\"\n",
    "pp.pprint(right_pose['position'])\n",
    "pp.pprint(right_pose['orientation'])\n"
   ]
  },
  {
   "cell_type": "code",
   "execution_count": null,
   "id": "fb4cdeea",
   "metadata": {},
   "outputs": [],
   "source": []
  }
 ],
 "metadata": {
  "kernelspec": {
   "display_name": "Python 3",
   "language": "python",
   "name": "python3"
  },
  "language_info": {
   "codemirror_mode": {
    "name": "ipython",
    "version": 3
   },
   "file_extension": ".py",
   "mimetype": "text/x-python",
   "name": "python",
   "nbconvert_exporter": "python",
   "pygments_lexer": "ipython3",
   "version": "3.6.9"
  }
 },
 "nbformat": 4,
 "nbformat_minor": 1
}
