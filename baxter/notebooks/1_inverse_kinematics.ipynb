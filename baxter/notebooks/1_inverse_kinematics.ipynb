{
 "metadata": {
  "name": ""
 },
 "nbformat": 3,
 "nbformat_minor": 0,
 "worksheets": [
  {
   "cells": [
    {
     "cell_type": "markdown",
     "metadata": {},
     "source": [
      "# Baxter Inverse Kinematics Introduction\n",
      "\n",
      "Learn how to move the baxter in Cartesian space (inverse kinematics).\n",
      "\n",
      "##### ENGG 4460 University of Guelph, Patrick Wspanialy"
     ]
    },
    {
     "cell_type": "markdown",
     "metadata": {},
     "source": [
      "Import python modules needed to control Baxter"
     ]
    },
    {
     "cell_type": "code",
     "collapsed": false,
     "input": [
      "import pprint\n",
      "import math\n",
      "import rospy\n",
      "import baxter_interface\n",
      "from baxter_interface import (RobotEnable, Gripper)\n",
      "from geometry_msgs.msg import (\n",
      "    PoseStamped,\n",
      "    Pose,\n",
      "    Point,\n",
      "    Quaternion,\n",
      ")\n",
      "from std_msgs.msg import Header\n",
      "from baxter_core_msgs.srv import (\n",
      "    SolvePositionIK,\n",
      "    SolvePositionIKRequest,\n",
      ")\n",
      "pp = pprint.PrettyPrinter(indent=4)"
     ],
     "language": "python",
     "metadata": {},
     "outputs": [],
     "prompt_number": 9
    },
    {
     "cell_type": "markdown",
     "metadata": {},
     "source": [
      "Initialize a new ROS node and connect to the inverse kinematics services for the right and left arms. "
     ]
    },
    {
     "cell_type": "code",
     "collapsed": false,
     "input": [
      "rospy.init_node(\"rsdk_ik_service_client\")\n",
      "\n",
      "right_namespace = \"ExternalTools/right/PositionKinematicsNode/IKService\"\n",
      "left_namespace = \"ExternalTools/left/PositionKinematicsNode/IKService\"\n",
      "\n",
      "right_ik_service = rospy.ServiceProxy(right_namespace, SolvePositionIK)\n",
      "left_ik_service = rospy.ServiceProxy(left_namespace, SolvePositionIK)\n",
      "\n",
      "right_ik_request = SolvePositionIKRequest()\n",
      "left_ik_request = SolvePositionIKRequest()\n",
      "\n",
      "ik_header = Header(stamp=rospy.Time.now(), frame_id='base')"
     ],
     "language": "python",
     "metadata": {},
     "outputs": [],
     "prompt_number": 10
    },
    {
     "cell_type": "markdown",
     "metadata": {},
     "source": [
      "Enable Baxter"
     ]
    },
    {
     "cell_type": "code",
     "collapsed": false,
     "input": [
      "baxter = RobotEnable()\n",
      "baxter.enable()"
     ],
     "language": "python",
     "metadata": {},
     "outputs": [
      {
       "output_type": "stream",
       "stream": "stdout",
       "text": [
        "[INFO] [WallTime: 1632920913.505574] Robot Enabled\n"
       ]
      }
     ],
     "prompt_number": 11
    },
    {
     "cell_type": "markdown",
     "metadata": {},
     "source": [
      "Choose the pose we want the right arm to go to. \n",
      "\n",
      "#### Position\n",
      "- x: in, out. 0 is at the center of Baxter\n",
      "- y: left, right. 0 is at the center of Baxter\n",
      "- z: up, down. 0 is at the table surface (don't assign z to be less than 0)\n",
      "\n",
      "#### Orientation\n",
      "https://en.wikipedia.org/wiki/Quaternions_and_spatial_rotation\n",
      "\n",
      "\n",
      "| x  | y  | z  |  w | description  |\n",
      "|---|---|---|---|---|\n",
      "| 0  | 0  | 0  | 1  | neutral position, no rotations applied  |\n",
      "| 1  | 0  | 0  | 0  | 180\u00b0 turn around X axis |\n",
      "| 0  | 1  | 0  | 0  | 180\u00b0 turn around Y axis  |\n",
      "| 0  | 0  | 1  | 0  | 180\u00b0 turn around Z axis  |\n",
      "| math.sqrt(0.5)  | 0  | 0  | math.sqrt(0.5)  | 90\u00b0 rotation around X axis  |\n",
      "| 0  | math.sqrt(0.5)  | 0 | math.sqrt(0.5)  | 90\u00b0 rotation around Y axis  |\n",
      "| 0  | 0  | math.sqrt(0.5)  | math.sqrt(0.5)  | 90\u00b0 rotation around Z axis  |\n",
      "| -math.sqrt(0.5)  | 0  | 0  | math.sqrt(0.5)  | -90\u00b0 rotation around X axis  |\n",
      "| 0  | -math.sqrt(0.5)  | 0  | math.sqrt(0.5)  | -90\u00b0 rotation around Y axis  |\n",
      "| 0  | 0  |  -math.sqrt(0.5) | math.sqrt(0.5)  | -90\u00b0 rotation around Z axis  |\n",
      "\n"
     ]
    },
    {
     "cell_type": "code",
     "collapsed": false,
     "input": [
      "PoseStamped(\n",
      "            header=ik_header,\n",
      "            pose=Pose(\n",
      "                position=Point(\n",
      "                    x=0.7249046758051918, y=-0.7983831869923568, z=-0.042637299029533254\n",
      "                ),\n",
      "                orientation=Quaternion(\n",
      "                    x=-0.051997633390138645, y=0.8097438412456411, z=-0.025234618335036367, w=0.5839301085952527\n",
      "                ),\n",
      "            ),\n",
      "        )\n",
      "\n",
      "\n",
      "PoseStamped(\n",
      "            header=ik_header,\n",
      "            pose=Pose(\n",
      "                position=Point(\n",
      "                    x=0.5157861729277576+0.02, y=-0.8035347225394959, z=0.14473098504048154\n",
      "                ),\n",
      "                orientation=Quaternion(\n",
      "                    x=-0.035401679659970944, y=0.7351025065602724, z=-0.011401826130588908, w=0.6769350222044543\n",
      "                ),\n",
      "            ),\n",
      "        )\n",
      "\n",
      "PoseStamped(\n",
      "            header=ik_header,\n",
      "            pose=Pose(\n",
      "                position=Point(\n",
      "                    x=0.575814771825969, y=-0.6921240261798756, z=0.132303617877802\n",
      "                ),\n",
      "                orientation=Quaternion(\n",
      "                    x=-0.035401679659970944, y=0.7351025065602724, z=-0.011401826130588908, w=0.6769350222044543\n",
      "                ),\n",
      "            ),\n",
      "        )\n",
      "\n",
      "PoseStamped(\n",
      "            header=ik_header,\n",
      "            pose=Pose(\n",
      "                position=Point(\n",
      "                    x=-0.18960557257166022, y=-0.8013329235692273, z=0.07650624118442936\n",
      "                ),\n",
      "                orientation=Quaternion(\n",
      "                    x=0.40813023278127375, y=1.9362437364362493, z=-0.2597175943373065, w=0.47320359766165804\n",
      "                ),\n",
      "            ),\n",
      "        )"
     ],
     "language": "python",
     "metadata": {},
     "outputs": []
    },
    {
     "cell_type": "code",
     "collapsed": false,
     "input": [
      "right_pose = PoseStamped(\n",
      "            header=ik_header,\n",
      "            pose=Pose(\n",
      "                position=Point(\n",
      "                    x=-0.18960557257166022, y=-0.8013329235692273, z=0.07650624118442936\n",
      "                ),\n",
      "                orientation=Quaternion(\n",
      "                    x=0.40813023278127375, y=1.9362437364362493, z=-0.2597175943373065, w=0.47320359766165804\n",
      "                ),\n",
      "            ),\n",
      "        )"
     ],
     "language": "python",
     "metadata": {},
     "outputs": [],
     "prompt_number": 267
    },
    {
     "cell_type": "markdown",
     "metadata": {},
     "source": [
      "Store our pose into our request variable."
     ]
    },
    {
     "cell_type": "code",
     "collapsed": false,
     "input": [
      "right_ik_request.pose_stamp[:] = []\n",
      "right_ik_request.pose_stamp.append(right_pose)\n",
      "\n",
      "print right_ik_request.pose_stamp"
     ],
     "language": "python",
     "metadata": {},
     "outputs": [
      {
       "output_type": "stream",
       "stream": "stdout",
       "text": [
        "[header: \n",
        "  seq: 0\n",
        "  stamp: \n",
        "    secs: 1632920912\n",
        "    nsecs:  40031909\n",
        "  frame_id: base\n",
        "pose: \n",
        "  position: \n",
        "    x: -0.189605572572\n",
        "    y: -0.801332923569\n",
        "    z: 0.0765062411844\n",
        "  orientation: \n",
        "    x: 0.408130232781\n",
        "    y: 1.93624373644\n",
        "    z: -0.259717594337\n",
        "    w: 0.473203597662]\n"
       ]
      }
     ],
     "prompt_number": 268
    },
    {
     "cell_type": "markdown",
     "metadata": {},
     "source": [
      "Try to get a joint solution to the pose we defined using the inverse kinematics engine running in Baxter."
     ]
    },
    {
     "cell_type": "code",
     "collapsed": false,
     "input": [
      "try:\n",
      "    rospy.wait_for_service(right_namespace, 5.0)\n",
      "    right_ik_response = right_ik_service(right_ik_request)\n",
      "    if (right_ik_response.isValid[0]):\n",
      "        right_limb_joints = dict(zip(right_ik_response.joints[0].name, right_ik_response.joints[0].position))\n",
      "        pp.pprint(right_limb_joints)\n",
      "    else:\n",
      "        print(\"INVALID POSE - No Valid Joint Solution Found.\")\n",
      "except (rospy.ServiceException, rospy.ROSException), e:\n",
      "    rospy.logerr(\"Service call failed: %s\" % (e,))"
     ],
     "language": "python",
     "metadata": {},
     "outputs": [
      {
       "output_type": "stream",
       "stream": "stdout",
       "text": [
        "{   'right_e0': -1.005010444549182,\n",
        "    'right_e1': 1.7638462219684787,\n",
        "    'right_s0': -0.8449510487526447,\n",
        "    'right_s1': -0.7084284847040427,\n",
        "    'right_w0': -1.8845598393669172,\n",
        "    'right_w1': -1.3859656933975957,\n",
        "    'right_w2': 0.43662697158715974}\n"
       ]
      }
     ],
     "prompt_number": 269
    },
    {
     "cell_type": "markdown",
     "metadata": {},
     "source": [
      "If a joint solution to our pose exists, we can move the the joints positions the IK engine generated."
     ]
    },
    {
     "cell_type": "code",
     "collapsed": false,
     "input": [
      "right_arm = baxter_interface.Limb('right')\n",
      "right_arm.move_to_joint_positions(right_limb_joints)"
     ],
     "language": "python",
     "metadata": {},
     "outputs": [],
     "prompt_number": 270
    },
    {
     "cell_type": "markdown",
     "metadata": {},
     "source": [
      "Let's print out the joint positions, along with the Cartesian position and Quaternion orientation"
     ]
    },
    {
     "cell_type": "code",
     "collapsed": false,
     "input": [
      "right_angles = right_arm.joint_angles()\n",
      "right_pose = right_arm.endpoint_pose()\n",
      "pp.pprint(right_angles)\n",
      "print \"\\n\"\n",
      "pp.pprint(right_pose['position'])\n",
      "pp.pprint(right_pose['orientation'])\n"
     ],
     "language": "python",
     "metadata": {},
     "outputs": [
      {
       "output_type": "stream",
       "stream": "stdout",
       "text": [
        "{   'right_e0': 0.1292378813793461,\n",
        "    'right_e1': 2.084296395539306,\n",
        "    'right_s0': -0.23124760377372613,\n",
        "    'right_s1': -0.6135923151541655,\n",
        "    'right_w0': -0.9909515889739773,\n",
        "    'right_w1': -1.3372477518391095,\n",
        "    'right_w2': -0.0279951493789088}\n",
        "\n",
        "\n",
        "Point(x=0.7144322250755655, y=-0.5934027733479229, z=0.14518222129082)\n",
        "Quaternion(x=-0.03599625756724328, y=0.7342367275602658, z=-0.008407888384621611, w=0.6778864246727888)\n"
       ]
      }
     ],
     "prompt_number": 39
    },
    {
     "cell_type": "code",
     "collapsed": false,
     "input": [
      "baxter.disable()"
     ],
     "language": "python",
     "metadata": {},
     "outputs": [
      {
       "output_type": "stream",
       "stream": "stdout",
       "text": [
        "[INFO] [WallTime: 1632926245.196654] Robot Disabled\n"
       ]
      }
     ],
     "prompt_number": 271
    },
    {
     "cell_type": "code",
     "collapsed": false,
     "input": [
      "\n"
     ],
     "language": "python",
     "metadata": {},
     "outputs": []
    }
   ],
   "metadata": {}
  }
 ]
}