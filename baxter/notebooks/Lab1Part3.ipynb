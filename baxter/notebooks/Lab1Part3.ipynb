{
 "cells": [
  {
   "cell_type": "code",
   "execution_count": 1,
   "id": "a0587409",
   "metadata": {},
   "outputs": [],
   "source": [
    "import pprint\n",
    "import math\n",
    "import rospy\n",
    "import baxter_interface\n",
    "\n",
    "from copy import copy\n",
    "from baxter_interface import (RobotEnable, Gripper)\n",
    "from geometry_msgs.msg import (PoseStamped, Pose, Point, Quaternion)\n",
    "from std_msgs.msg import Header\n",
    "from baxter_core_msgs.srv import (SolvePositionIK, SolvePositionIKRequest)\n",
    "pp = pprint.PrettyPrinter(indent=4)\n"
   ]
  },
  {
   "cell_type": "code",
   "execution_count": 2,
   "id": "46d9c342",
   "metadata": {},
   "outputs": [
    {
     "name": "stdout",
     "output_type": "stream",
     "text": [
      "shutdown request: [/Group7Baxter] Reason: new node registered with same name\n"
     ]
    }
   ],
   "source": [
    "rospy.init_node('Group7Baxter')"
   ]
  },
  {
   "cell_type": "code",
   "execution_count": null,
   "id": "43f3f731",
   "metadata": {},
   "outputs": [],
   "source": [
    "baxter = RobotEnable()\n",
    "baxter.enable()"
   ]
  },
  {
   "cell_type": "code",
   "execution_count": null,
   "id": "86498797",
   "metadata": {},
   "outputs": [],
   "source": [
    "right_arm = baxter_interface.Limb('right')"
   ]
  },
  {
   "cell_type": "code",
   "execution_count": null,
   "id": "8b140019",
   "metadata": {},
   "outputs": [],
   "source": [
    "fingers = Gripper('right')\n",
    "fingers.calibrate()"
   ]
  },
  {
   "cell_type": "code",
   "execution_count": null,
   "id": "f363b589",
   "metadata": {},
   "outputs": [],
   "source": []
  }
 ],
 "metadata": {
  "kernelspec": {
   "display_name": "Python 2.7.17 64-bit",
   "language": "python",
   "name": "python2717jvsc74a57bd0767d51c1340bd893661ea55ea3124f6de3c7a262a8b4abca0554b478b1e2ff90"
  },
  "language_info": {
   "codemirror_mode": {
    "name": "ipython",
    "version": 2
   },
   "file_extension": ".py",
   "mimetype": "text/x-python",
   "name": "python",
   "nbconvert_exporter": "python",
   "pygments_lexer": "ipython2",
   "version": "2.7.17"
  }
 },
 "nbformat": 4,
 "nbformat_minor": 5
}
