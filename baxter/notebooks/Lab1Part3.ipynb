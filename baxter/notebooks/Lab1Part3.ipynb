{
 "metadata": {
  "name": ""
 },
 "nbformat": 3,
 "nbformat_minor": 0,
 "worksheets": [
  {
   "cells": [
    {
     "cell_type": "code",
     "collapsed": false,
     "input": [
      "import os\n",
      "import sys\n",
      "import math\n",
      "sys.path.insert(0, '../libraries')\n",
      "\n",
      "import pprint\n",
      "import rospy\n",
      "import time\n",
      "\n",
      "from copy import deepcopy\n",
      "from baxter_interface import (RobotEnable, Gripper, CameraController, Limb)\n",
      "from baxter_core_msgs.srv import (SolvePositionIK, SolvePositionIKRequest)\n",
      "\n",
      "import cv2\n",
      "import cv_bridge\n",
      "from cv_bridge import (CvBridge, CvBridgeError)\n",
      "\n",
      "from geometry_msgs.msg import (PoseStamped, Pose, Point, Quaternion)\n",
      "from sensor_msgs.msg import (Image, Range)\n",
      "from std_msgs.msg import Header\n",
      "\n",
      "import requests\n",
      "import cv2\n",
      "import matplotlib.pyplot as plt\n",
      "import numpy as np\n",
      "\n",
      "from uogbaxter.detect import detect_toy\n",
      "\n",
      "pp = pprint.PrettyPrinter(indent=4)\n",
      "bridge = CvBridge()"
     ],
     "language": "python",
     "metadata": {},
     "outputs": [],
     "prompt_number": 1
    },
    {
     "cell_type": "code",
     "collapsed": false,
     "input": [
      "rospy.init_node('Group7Baxter')"
     ],
     "language": "python",
     "metadata": {},
     "outputs": [],
     "prompt_number": 2
    },
    {
     "cell_type": "code",
     "collapsed": false,
     "input": [
      "baxter = RobotEnable()\n",
      "baxter.enable()"
     ],
     "language": "python",
     "metadata": {},
     "outputs": [
      {
       "output_type": "stream",
       "stream": "stdout",
       "text": [
        "[INFO] [WallTime: 1633529851.520871] Robot Enabled\n"
       ]
      }
     ],
     "prompt_number": 3
    },
    {
     "cell_type": "code",
     "collapsed": false,
     "input": [
      "right_hand_camera = CameraController('right_hand_camera')"
     ],
     "language": "python",
     "metadata": {},
     "outputs": [],
     "prompt_number": 4
    },
    {
     "cell_type": "code",
     "collapsed": false,
     "input": [
      "right_hand_camera.resolution = (960, 600)\n",
      "right_hand_camera.gain = 0\n",
      "right_hand_camera.open()"
     ],
     "language": "python",
     "metadata": {},
     "outputs": [],
     "prompt_number": 5
    },
    {
     "cell_type": "code",
     "collapsed": false,
     "input": [
      "right_arm = Limb('right')"
     ],
     "language": "python",
     "metadata": {},
     "outputs": [],
     "prompt_number": 6
    },
    {
     "cell_type": "code",
     "collapsed": false,
     "input": [
      "fingers = Gripper('right')\n",
      "fingers.calibrate()"
     ],
     "language": "python",
     "metadata": {},
     "outputs": [
      {
       "metadata": {},
       "output_type": "pyout",
       "prompt_number": 7,
       "text": [
        "True"
       ]
      }
     ],
     "prompt_number": 7
    },
    {
     "cell_type": "code",
     "collapsed": false,
     "input": [
      "right_namespace = \"ExternalTools/right/PositionKinematicsNode/IKService\"\n",
      "\n",
      "right_ik_service = rospy.ServiceProxy(right_namespace, SolvePositionIK)\n",
      "\n",
      "right_ik_request = SolvePositionIKRequest()\n",
      "\n",
      "ik_header = Header(stamp=rospy.Time.now(), frame_id='base')"
     ],
     "language": "python",
     "metadata": {},
     "outputs": [],
     "prompt_number": 8
    },
    {
     "cell_type": "code",
     "collapsed": false,
     "input": [
      "class BaxterDetect(object):\n",
      "    def __init__(self):\n",
      "        self.distance = 0\n",
      "        self.current_img = None\n",
      "        self.detection = None\n",
      "        self.got_image = False\n",
      "        sensor_topic = \"/robot/range/right_hand_range/state\"\n",
      "        right_hand_image_topic = '/cameras/right_hand_camera/image'\n",
      "        display_topic = '/robot/xdisplay'\n",
      "        \n",
      "        self.red = (0, 0, 255)\n",
      "        self.green = (0, 255, 0)\n",
      "        self.blue = (255, 0, 0)\n",
      "        self.yellow = (0, 255, 255)\n",
      "        \n",
      "        self.__right_sensor = rospy.Subscriber(sensor_topic, Range, callback=self.__sensorCallback, queue_size=1)\n",
      "        right_hand_image_subscriber = rospy.Subscriber(right_hand_image_topic, Image, callback=self.__processImageCallback, queue_size=1)\n",
      "        self.__display_publisher = rospy.Publisher(display_topic, Image, queue_size=1)\n",
      "\n",
      "    def __sensorCallback(self,msg):\n",
      "       self.distance = msg.range\n",
      "\n",
      "    def __processImageCallback(self, message):\n",
      "        # convert ROS iamge to OpenCV image\n",
      "        cv2_image = bridge.imgmsg_to_cv2(message)\n",
      "        self.current_img = cv2_image\n",
      "        self.got_image = True\n",
      "        # this is where we do our image processing. \n",
      "        # We're just going to draw a red rectangle and the distance we previously got from our distance sensor\n",
      "        # note, that in OpenCV, colors are represented as (blue, green, red), rather than RGB\n",
      "        \n",
      "        if(self.detection):\n",
      "            cv2.drawContours(cv2_image, \n",
      "                             [np.intp(self.detection.get('min_rectangle'))], \n",
      "                             contourIdx=-1, \n",
      "                             color=self.green, \n",
      "                             thickness=3)\n",
      "    \n",
      "            \n",
      "            cv2.circle(cv2_image, \n",
      "                       self.detection.get('center'), \n",
      "                       radius=10, \n",
      "                       color=self.red, \n",
      "                       thickness=5)\n",
      "    \n",
      "            cv2.putText(\n",
      "                        cv2_image,\n",
      "                        text='%.2f' % self.distance,\n",
      "                        org=(0,500),\n",
      "                        fontFace=cv2.FONT_HERSHEY_SIMPLEX,\n",
      "                        fontScale=2,\n",
      "                        color=(255,255,0)\n",
      "                    )\n",
      "\n",
      "        # convert OpenCV image back to ROS image\n",
      "        ros_image = bridge.cv2_to_imgmsg(cv2_image)\n",
      "        \n",
      "        # publish our modified image to the display\n",
      "        self.__display_publisher.publish(ros_image)\n",
      "\n",
      "    def findToy(self):\n",
      "        try:\n",
      "            if(self.got_image):\n",
      "                self.detection = detect_toy(self.current_img)\n",
      "                return self.detection\n",
      "            else:\n",
      "                print(\"No image received yet, make sure camera is online\")\n",
      "        except KeyError:\n",
      "            print(\"No animals found\")"
     ],
     "language": "python",
     "metadata": {},
     "outputs": [],
     "prompt_number": 9
    },
    {
     "cell_type": "code",
     "collapsed": false,
     "input": [
      "baxter_detect = BaxterDetect()"
     ],
     "language": "python",
     "metadata": {},
     "outputs": [],
     "prompt_number": 10
    },
    {
     "cell_type": "code",
     "collapsed": false,
     "input": [
      "def pixels_to_m(pixels):\n",
      "    return 0.0002645833*pixels"
     ],
     "language": "python",
     "metadata": {},
     "outputs": [],
     "prompt_number": 11
    },
    {
     "cell_type": "code",
     "collapsed": false,
     "input": [
      "search_pose = PoseStamped(\n",
      "                header=ik_header,\n",
      "                pose=Pose(\n",
      "                    position=Point(\n",
      "                        x=0.4628446006796161, y=-0.6469786394068097, z=0.0614352966004475\n",
      "                    ),\n",
      "                orientation=Quaternion(\n",
      "                    x=-0.017580156795727865, y=0.9986287802014815, z=0.012459291071286257, w=-0.0477102033776813\n",
      "                )\n",
      "            )\n",
      "        )\n",
      "\n",
      "front_left = PoseStamped(\n",
      "                header=ik_header,\n",
      "                pose=Pose(\n",
      "                    position=Point(\n",
      "                        x=0.5831797432564414, y=-0.6827416249779129, z=0.132385203403482\n",
      "                    ),\n",
      "                orientation=Quaternion(\n",
      "                    x=-0.07518852432432427, y=0.996714891334903, z=0.014861479675101109, w=-0.02617723482435594\n",
      "                )\n",
      "            )\n",
      "        )\n",
      "\n",
      "back_left = PoseStamped(\n",
      "                header=ik_header,\n",
      "                pose=Pose(\n",
      "                    position=Point(\n",
      "                        x=0.13072949679306356, y=-0.7576394357223677, z=0.1723309619274472\n",
      "                    ),\n",
      "                orientation=Quaternion(\n",
      "                    x=-0.035039333999625694, y=0.9992521864083372, z=0.01617493609803157, w=0.002384213338771073\n",
      "                )\n",
      "            )\n",
      "        )\n",
      "\n",
      "front_right = PoseStamped(\n",
      "                header=ik_header,\n",
      "                pose=Pose(\n",
      "                    position=Point(\n",
      "                        x=0.7510462286817441, y=-0.28482958248297313, z=0.14722615371893474\n",
      "                    ),\n",
      "                orientation=Quaternion(\n",
      "                    x=-0.008683350784734785, y=0.9995987746647643, z=0.026796293774314705, w=-0.002974516399614757\n",
      "                )\n",
      "            )\n",
      "        )\n",
      "\n",
      "basket_pose = PoseStamped(\n",
      "            header=ik_header,\n",
      "            pose=Pose(\n",
      "                position=Point(\n",
      "                    x=-0.18960557257166022, y=-0.8013329235692273, z=0.07650624118442936\n",
      "                ),\n",
      "                orientation=Quaternion(\n",
      "                    x=0.40813023278127375, y=1.9362437364362493, z=-0.2597175943373065, w=0.47320359766165804\n",
      "                ),\n",
      "            ),\n",
      "        )\n",
      "search_trajectory = [search_pose, back_left, front_left, front_right, search_pose]\n",
      "animals = {'kangaroo': [], 'hippo': [], 'ostrich': [], 'camel': []}\n",
      "\n",
      "'''\n",
      "back left\n",
      "{   'orientation': Quaternion(x=-0.035039333999625694, y=0.9992521864083372, z=0.01617493609803157, w=0.002384213338771073),\n",
      "    'position': Point(x=0.13072949679306356, y=-0.7576394357223677, z=0.1723309619274472)}\n",
      "\n",
      "front_left\n",
      "{   'orientation': Quaternion(x=-0.07518852432432427, y=0.996714891334903, z=0.014861479675101109, w=-0.02617723482435594),\n",
      "    'position': Point(x=0.5831797432564414, y=-0.6827416249779129, z=0.132385203403482)}\n",
      "\n",
      "front_right\n",
      "{   'orientation': Quaternion(x=-0.008683350784734785, y=0.9995987746647643, z=0.026796293774314705, w=-0.002974516399614757),\n",
      "    'position': Point(x=0.7510462286817441, y=-0.28482958248297313, z=0.14722615371893474)}\n",
      "\n",
      "back_right\n",
      "\n",
      "'''"
     ],
     "language": "python",
     "metadata": {},
     "outputs": [
      {
       "metadata": {},
       "output_type": "pyout",
       "prompt_number": 43,
       "text": [
        "\"\\nback left\\n{   'orientation': Quaternion(x=-0.035039333999625694, y=0.9992521864083372, z=0.01617493609803157, w=0.002384213338771073),\\n    'position': Point(x=0.13072949679306356, y=-0.7576394357223677, z=0.1723309619274472)}\\n\\nfront_left\\n{   'orientation': Quaternion(x=-0.07518852432432427, y=0.996714891334903, z=0.014861479675101109, w=-0.02617723482435594),\\n    'position': Point(x=0.5831797432564414, y=-0.6827416249779129, z=0.132385203403482)}\\n\\nfront_right\\n{   'orientation': Quaternion(x=-0.008683350784734785, y=0.9995987746647643, z=0.026796293774314705, w=-0.002974516399614757),\\n    'position': Point(x=0.7510462286817441, y=-0.28482958248297313, z=0.14722615371893474)}\\n\\nback_right\\n\\n\""
       ]
      }
     ],
     "prompt_number": 43
    },
    {
     "cell_type": "code",
     "collapsed": false,
     "input": [
      "def get_pose():\n",
      "    right_angles = right_arm.joint_angles()\n",
      "    pp.pprint(right_arm.endpoint_pose())"
     ],
     "language": "python",
     "metadata": {},
     "outputs": [],
     "prompt_number": 13
    },
    {
     "cell_type": "code",
     "collapsed": false,
     "input": [
      "def find_solution(target_pose):\n",
      "    right_ik_request.pose_stamp[:] = []\n",
      "    right_ik_request.pose_stamp.append(target_pose)\n",
      "    \n",
      "    try:\n",
      "        rospy.wait_for_service(right_namespace, 5.0)\n",
      "        right_ik_response = right_ik_service(right_ik_request)\n",
      "        if (right_ik_response.isValid[0]):\n",
      "            right_limb_joints = dict(zip(right_ik_response.joints[0].name, right_ik_response.joints[0].position))\n",
      "            return right_limb_joints\n",
      "        else:\n",
      "            print(\"INVALID POSE - No Valid Joint Solution Found.\")\n",
      "    except (rospy.ServiceException, rospy.ROSException), e:\n",
      "        rospy.logerr(\"Service call failed: %s\" % (e,))"
     ],
     "language": "python",
     "metadata": {},
     "outputs": [],
     "prompt_number": 14
    },
    {
     "cell_type": "code",
     "collapsed": false,
     "input": [
      "def execute_trajectory(target_joints):\n",
      "    right_arm.move_to_joint_positions(target_joints)"
     ],
     "language": "python",
     "metadata": {},
     "outputs": [],
     "prompt_number": 15
    },
    {
     "cell_type": "code",
     "collapsed": false,
     "input": [
      "def adjust_pose(target_pose, center, distance):\n",
      "    x, y = center\n",
      "    \n",
      "    x_center = (480-x)\n",
      "    y_center = 300-y\n",
      "    \n",
      "    x_corrected = pixels_to_m(y_center)\n",
      "    y_corrected = pixels_to_m(x_center)\n",
      "    print(x_corrected, y_corrected)\n",
      "    adj_p1 = deepcopy(target_pose)\n",
      "    adj_p1.pose.position.x += x_corrected - 0.012\n",
      "    adj_p1.pose.position.y += y_corrected + 0.008\n",
      "    #adj_p1.pose.position.z -= (distance-0.2)\n",
      "    \n",
      "    return adj_p1"
     ],
     "language": "python",
     "metadata": {},
     "outputs": [],
     "prompt_number": 35
    },
    {
     "cell_type": "code",
     "collapsed": false,
     "input": [
      "def to_search():\n",
      "    search_joints = find_solution(search_pose)\n",
      "    if(search_joints):\n",
      "        execute_trajectory(search_joints)\n",
      "        fingers.open()\n",
      "    else:\n",
      "        print(\"Could not move to search position, check orientation of arm\")"
     ],
     "language": "python",
     "metadata": {},
     "outputs": [],
     "prompt_number": 17
    },
    {
     "cell_type": "code",
     "collapsed": false,
     "input": [
      "def execute_retrieval(goal):\n",
      "    print(\"\\n\\n===============    STARTING RETRIEVAL PROCESS NOW    ===============\")\n",
      "    success = False\n",
      "    \n",
      "    for pose in goal:\n",
      "        if(pose == 'reached'):\n",
      "            fingers.close()\n",
      "            print(\"Picking up the ostrich now!\")\n",
      "        elif(pose == 'end'):\n",
      "            fingers.open()\n",
      "            success = True\n",
      "            print(\"The retrieval of the ostrich has been completed!\")\n",
      "        else:\n",
      "            solution = find_solution(pose)\n",
      "            if(solution):\n",
      "                execute_trajectory(solution)\n",
      "            else:\n",
      "                print(\"No valid pose was found, terminating retrieval of \" + str(choice) + \"....\")\n",
      "                print(\"Try homing the arm and try the retrieval again!\")\n",
      "                break;\n",
      "        \n",
      "    print(\"\\n\\n============================\\n      RETRIEVAL SUMMARY\\n============================\")\n",
      "    if(success):\n",
      "        print(\"The retrieval of the ostrich was successful!\")\n",
      "    else:\n",
      "        print(\"The retrieval of the ostrich failed....\")"
     ],
     "language": "python",
     "metadata": {},
     "outputs": [],
     "prompt_number": 18
    },
    {
     "cell_type": "code",
     "collapsed": false,
     "input": [
      "def execute_search(goal):\n",
      "    print(\"\\n\\n===============    STARTING RETRIEVAL PROCESS NOW    ===============\")\n",
      "    success = False\n",
      "    detection = None\n",
      "    for pose in goal:\n",
      "        detection = None\n",
      "        solution = find_solution(pose)\n",
      "        if(solution):\n",
      "            execute_trajectory(solution)\n",
      "            detection = baxter_detect.findToy()\n",
      "\n",
      "        else:\n",
      "            print(\"No valid pose was found, terminating retrieval of \" + str(choice) + \"....\")\n",
      "            print(\"Try homing the arm and try the retrieval again!\")\n",
      "            break;"
     ],
     "language": "python",
     "metadata": {},
     "outputs": [],
     "prompt_number": 61
    },
    {
     "cell_type": "code",
     "collapsed": false,
     "input": [
      "'''\n",
      "back left\n",
      "{   'orientation': Quaternion(x=-0.035039333999625694, y=0.9992521864083372, z=0.01617493609803157, w=0.002384213338771073),\n",
      "    'position': Point(x=0.13072949679306356, y=-0.7576394357223677, z=0.1723309619274472)}\n",
      "\n",
      "front_left\n",
      "{   'orientation': Quaternion(x=-0.07518852432432427, y=0.996714891334903, z=0.014861479675101109, w=-0.02617723482435594),\n",
      "    'position': Point(x=0.5831797432564414, y=-0.6827416249779129, z=0.132385203403482)}\n",
      "\n",
      "front_right\n",
      "{   'orientation': Quaternion(x=-0.008683350784734785, y=0.9995987746647643, z=0.026796293774314705, w=-0.002974516399614757),\n",
      "    'position': Point(x=0.7510462286817441, y=-0.28482958248297313, z=0.14722615371893474)}\n",
      "\n",
      "back_right\n",
      "\n",
      "\n",
      "'''\n",
      "\n",
      "\n",
      "get_pose()"
     ],
     "language": "python",
     "metadata": {},
     "outputs": [
      {
       "output_type": "stream",
       "stream": "stdout",
       "text": [
        "{   'orientation': Quaternion(x=-0.008683350784734785, y=0.9995987746647643, z=0.026796293774314705, w=-0.002974516399614757),\n",
        "    'position': Point(x=0.7510462286817441, y=-0.28482958248297313, z=0.14722615371893474)}\n"
       ]
      }
     ],
     "prompt_number": 42
    },
    {
     "cell_type": "code",
     "collapsed": false,
     "input": [
      "print(\"Getting arm into search position\")\n",
      "to_search()"
     ],
     "language": "python",
     "metadata": {},
     "outputs": [
      {
       "output_type": "stream",
       "stream": "stdout",
       "text": [
        "Getting arm into search position\n"
       ]
      }
     ],
     "prompt_number": 20
    },
    {
     "cell_type": "code",
     "collapsed": false,
     "input": [
      "detection = baxter_detect.findToy()\n",
      "print(detection)\n",
      "adjust_pose(search_pose, detection['center'], baxter_detect.distance)"
     ],
     "language": "python",
     "metadata": {},
     "outputs": [
      {
       "output_type": "stream",
       "stream": "stdout",
       "text": [
        "{'confidence': u'0.9758', 'angle': -0.0, 'center': (506, 309), 'bounding_box': [431, 236, 142, 161], 'min_rectangle': [(454, 382), (454, 236), (558, 236), (558, 382)], 'animal': u'ostrich'}\n",
        "(-0.0023812497, -0.0068791658)\n"
       ]
      },
      {
       "metadata": {},
       "output_type": "pyout",
       "prompt_number": 55,
       "text": [
        "header: \n",
        "  seq: 0\n",
        "  stamp: \n",
        "    secs: 1633529861\n",
        "    nsecs:  22478103\n",
        "  frame_id: base\n",
        "pose: \n",
        "  position: \n",
        "    x: 0.44846335098\n",
        "    y: -0.645857805207\n",
        "    z: 0.0614352966004\n",
        "  orientation: \n",
        "    x: -0.0175801567957\n",
        "    y: 0.998628780201\n",
        "    z: 0.0124592910713\n",
        "    w: -0.0477102033777"
       ]
      }
     ],
     "prompt_number": 55
    },
    {
     "cell_type": "code",
     "collapsed": false,
     "input": [
      "output = execute_search(search_trajectory)\n",
      "output"
     ],
     "language": "python",
     "metadata": {},
     "outputs": [
      {
       "output_type": "stream",
       "stream": "stdout",
       "text": [
        "\n",
        "\n",
        "===============    STARTING RETRIEVAL PROCESS NOW    ===============\n",
        "{'confidence': u'0.9629', 'angle': -0.0, 'center': (348, 110), 'bounding_box': [315, 71, 56, 78], 'min_rectangle': [(326, 149), (326, 71), (370, 71), (370, 149)], 'animal': u'hippo'}"
       ]
      },
      {
       "output_type": "stream",
       "stream": "stdout",
       "text": [
        "\n"
       ]
      },
      {
       "metadata": {},
       "output_type": "pyout",
       "prompt_number": 56,
       "text": [
        "({'angle': -0.0,\n",
        "  'animal': u'hippo',\n",
        "  'bounding_box': [315, 71, 56, 78],\n",
        "  'center': (348, 110),\n",
        "  'confidence': u'0.9629',\n",
        "  'min_rectangle': [(326, 149), (326, 71), (370, 71), (370, 149)]},\n",
        " header: \n",
        "  seq: 0\n",
        "  stamp: \n",
        "    secs: 1633529861\n",
        "    nsecs:  22478103\n",
        "  frame_id: base\n",
        "pose: \n",
        "  position: \n",
        "    x: 0.46284460068\n",
        "    y: -0.646978639407\n",
        "    z: 0.0614352966004\n",
        "  orientation: \n",
        "    x: -0.0175801567957\n",
        "    y: 0.998628780201\n",
        "    z: 0.0124592910713\n",
        "    w: -0.0477102033777)"
       ]
      }
     ],
     "prompt_number": 56
    },
    {
     "cell_type": "code",
     "collapsed": false,
     "input": [
      "user_choice = None\n",
      "choices = animals.keys()\n",
      "terminate = False\n",
      "\n",
      "while not terminate:\n",
      "    animals['ostrich'] = []\n",
      "    user_choices = None\n",
      "    detection=None\n",
      "    for i in range(60):\n",
      "        user_choice = raw_input('What animal are you looking for? (press q to quit)').lower()\n",
      "        print(\"===============    STARTING SEARCH FOR ANIMAL    ===============\")\n",
      "        if(user_choice==\"q\"):\n",
      "            print(\"===============    TERMINATING ANIMAL SEARCH    ===============\")\n",
      "            terminate=True\n",
      "            break\n",
      "        elif(user_choice==\"ostrich\"):\n",
      "            output = execute_search(search_trajectory)\n",
      "            \n",
      "            if(not detection):\n",
      "                print(\"===============    TERMINATING ANIMAL SEARCH    ===============\")\n",
      "                terminate=True\n",
      "                break\n",
      "            elif(detection['animal']==\"ostrich\" and (detection['confidence'])>=0.60):\n",
      "                print(\"===============    OSTRICH FOUND    ===============\")\n",
      "                \n",
      "                goal_pose = adjust_pose(current_pose, detection['center'], baxter_detect.distance)\n",
      "                pickup_pose = deepcopy(goal_pose)\n",
      "                pickup_pose.pose.position.z -= (baxter_detect.distance - 0.2)\n",
      "                \n",
      "                execute_retrieval([search_pose, goal_pose])\n",
      "                break\n",
      "        elif(user_choice in choices):\n",
      "            print('Valid selection, but these toys are unavaibale at the moment.... try again')\n",
      "            break\n",
      "        else:\n",
      "            print(\"Invalid selection, please try again.\")\n",
      "            break\n",
      "        time.sleep(1)    \n",
      "\n"
     ],
     "language": "python",
     "metadata": {},
     "outputs": [
      {
       "name": "stdout",
       "output_type": "stream",
       "stream": "stdout",
       "text": [
        "What animal are you looking for? (press q to quit)ostrich\n"
       ]
      },
      {
       "output_type": "stream",
       "stream": "stdout",
       "text": [
        "===============    STARTING SEARCH FOR ANIMAL    ===============\n",
        "\n",
        "\n",
        "===============    STARTING RETRIEVAL PROCESS NOW    ===============\n",
        "===============    TERMINATING ANIMAL SEARCH    ==============="
       ]
      },
      {
       "output_type": "stream",
       "stream": "stdout",
       "text": [
        "\n"
       ]
      }
     ],
     "prompt_number": 62
    },
    {
     "cell_type": "code",
     "collapsed": false,
     "input": [],
     "language": "python",
     "metadata": {},
     "outputs": []
    }
   ],
   "metadata": {}
  }
 ]
}