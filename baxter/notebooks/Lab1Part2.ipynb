{
 "metadata": {
  "name": ""
 },
 "nbformat": 3,
 "nbformat_minor": 0,
 "worksheets": [
  {
   "cells": [
    {
     "cell_type": "code",
     "collapsed": false,
     "input": [
      "import pprint\n",
      "import math\n",
      "import rospy\n",
      "\n",
      "from copy import deepcopy\n",
      "from baxter_interface import (RobotEnable, Gripper, Limb)\n",
      "\n",
      "from geometry_msgs.msg import (PoseStamped, Pose, Point, Quaternion)\n",
      "from std_msgs.msg import Header\n",
      "from baxter_core_msgs.srv import (SolvePositionIK, SolvePositionIKRequest)\n",
      "pp = pprint.PrettyPrinter(indent=4)\n"
     ],
     "language": "python",
     "metadata": {},
     "outputs": [],
     "prompt_number": 1
    },
    {
     "cell_type": "code",
     "collapsed": false,
     "input": [
      "rospy.init_node('Group7Baxter')"
     ],
     "language": "python",
     "metadata": {},
     "outputs": [],
     "prompt_number": 2
    },
    {
     "cell_type": "code",
     "collapsed": false,
     "input": [
      "baxter = RobotEnable()\n",
      "baxter.enable()"
     ],
     "language": "python",
     "metadata": {},
     "outputs": []
    },
    {
     "cell_type": "code",
     "collapsed": false,
     "input": [
      "right_arm = Limb('right')"
     ],
     "language": "python",
     "metadata": {},
     "outputs": []
    },
    {
     "cell_type": "code",
     "collapsed": false,
     "input": [
      "fingers = Gripper('right')\n",
      "fingers.calibrate()"
     ],
     "language": "python",
     "metadata": {},
     "outputs": []
    },
    {
     "cell_type": "code",
     "collapsed": false,
     "input": [
      "def get_pose():\n",
      "    right_angles = right_arm.joint_angles()\n",
      "    pp.pprint(right_arm.endpoint_pose())"
     ],
     "language": "python",
     "metadata": {},
     "outputs": [],
     "prompt_number": 3
    },
    {
     "cell_type": "code",
     "collapsed": false,
     "input": [
      "right_namespace = \"ExternalTools/right/PositionKinematicsNode/IKService\"\n",
      "\n",
      "right_ik_service = rospy.ServiceProxy(right_namespace, SolvePositionIK)\n",
      "\n",
      "right_ik_request = SolvePositionIKRequest()\n",
      "\n",
      "ik_header = Header(stamp=rospy.Time.now(), frame_id='base')"
     ],
     "language": "python",
     "metadata": {},
     "outputs": [],
     "prompt_number": 4
    },
    {
     "cell_type": "code",
     "collapsed": false,
     "input": [
      "def adjust_pose(target_pose):\n",
      "    adj_p1 = deepcopy(target_pose)\n",
      "    adj_p1.pose.position.x -= 0.15\n",
      "    adj_p1.pose.position.z += 0.05\n",
      "    return adj_p1"
     ],
     "language": "python",
     "metadata": {},
     "outputs": [],
     "prompt_number": 5
    },
    {
     "cell_type": "code",
     "collapsed": false,
     "input": [
      "zero_pose = PoseStamped(\n",
      "            header=ik_header,\n",
      "            pose=Pose(\n",
      "                position=Point(\n",
      "                    x=0.5,\n",
      "                    y=-0.5,\n",
      "                    z=0.6,\n",
      "                ),\n",
      "                orientation=Quaternion(\n",
      "                    x=0.0,\n",
      "                    y=0.0,\n",
      "                    z=0.0,\n",
      "                    w=1.0,\n",
      "                )\n",
      "            )\n",
      "        )\n",
      "\n",
      "starting_pose = PoseStamped(\n",
      "                header=ik_header,\n",
      "                pose=Pose(\n",
      "                    position=Point(\n",
      "                        x=0.575814771825969, y=-0.6921240261798756, z=0.132303617877802\n",
      "                    ),\n",
      "                orientation=Quaternion(\n",
      "                    x=-0.035401679659970944, y=0.7351025065602724, z=-0.011401826130588908, w=0.6769350222044543\n",
      "                )\n",
      "            )\n",
      "        )\n",
      "\n",
      "\n",
      "top_left = PoseStamped(\n",
      "            header=ik_header,\n",
      "            pose=Pose(\n",
      "                position=Point(\n",
      "                    x=0.7157861729277576, y=-0.5944180233461482, z=0.14473098504048154\n",
      "                ),\n",
      "                orientation=Quaternion(\n",
      "                    x=-0.035401679659970944, y=0.7351025065602724, z=-0.011401826130588908, w=0.6769350222044543\n",
      "                )\n",
      "            )\n",
      "        )\n",
      "\n",
      "top_right = PoseStamped(\n",
      "            header=ik_header,\n",
      "            pose=Pose(\n",
      "                position=Point(\n",
      "                    x=0.7282098926508587, y=-0.8043508833787663, z=0.1451601697469714\n",
      "                ),\n",
      "                orientation=Quaternion(\n",
      "                    x=-0.035401679659970944, y=0.7351025065602724, z=-0.011401826130588908, w=0.6769350222044543\n",
      "                )\n",
      "            )\n",
      "        )\n",
      "\n",
      "bottom_left = PoseStamped(\n",
      "            header=ik_header,\n",
      "            pose=Pose(\n",
      "                position=Point(\n",
      "                    x=0.7134527406891848, y=-0.5891747770147832, z=-0.04405738045318162\n",
      "                ),\n",
      "                orientation=Quaternion(\n",
      "                    x=-0.051997633390138645, y=0.8097438412456411, z=-0.025234618335036367, w=0.5839301085952527\n",
      "                )\n",
      "            )\n",
      "        )\n",
      "\n",
      "bottom_right = PoseStamped(\n",
      "            header=ik_header,\n",
      "            pose=Pose(\n",
      "                position=Point(\n",
      "                    x=0.7249046758051918, y=-0.7983831869923568+0.03, z=-0.042637299029533254\n",
      "                ),\n",
      "                orientation=Quaternion(\n",
      "                    x=-0.051997633390138645, y=0.8097438412456411, z=-0.025234618335036367, w=0.5839301085952527\n",
      "                )\n",
      "            )\n",
      "        )\n",
      "\n",
      "basket_pose = PoseStamped(\n",
      "            header=ik_header,\n",
      "            pose=Pose(\n",
      "                position=Point(\n",
      "                    x=-0.18960557257166022, y=-0.8013329235692273, z=0.07650624118442936\n",
      "                ),\n",
      "                orientation=Quaternion(\n",
      "                    x=0.40813023278127375, y=1.9362437364362493, z=-0.2597175943373065, w=0.47320359766165804\n",
      "                ),\n",
      "            ),\n",
      "        )\n",
      "\n",
      "adj_pose = adjust_pose(top_left)\n",
      "kangaroo = [starting_pose, adj_pose, top_left, 'reached', adj_pose, starting_pose, basket_pose, 'end']\n",
      "\n",
      "adj_pose = adjust_pose(top_right)\n",
      "hippo = [starting_pose, adj_pose, top_right, 'reached', adj_pose, starting_pose, basket_pose, 'end']\n",
      "\n",
      "adj_pose = adjust_pose(bottom_left)\n",
      "ostrich = [starting_pose, adj_pose, bottom_left, 'reached', adj_pose, starting_pose, basket_pose, 'end']\n",
      "\n",
      "adj_pose = adjust_pose(bottom_right)\n",
      "camel = [starting_pose, adj_pose, bottom_right, 'reached', adj_pose, starting_pose, basket_pose, 'end']\n",
      "\n",
      "animals = {'kangaroo': kangaroo, 'hippo': hippo, 'ostrich': ostrich, 'camel': camel}\n"
     ],
     "language": "python",
     "metadata": {},
     "outputs": [],
     "prompt_number": 6
    },
    {
     "cell_type": "code",
     "collapsed": false,
     "input": [
      "def to_start():\n",
      "    start_joints = find_solution(starting_pose)\n",
      "    if(start_joints):\n",
      "        execute_trajectory(start_joints)\n",
      "    else:\n",
      "        print(\"Could not move to start position, check orientation of arm\")"
     ],
     "language": "python",
     "metadata": {},
     "outputs": [],
     "prompt_number": 7
    },
    {
     "cell_type": "code",
     "collapsed": false,
     "input": [
      "def find_solution(target_pose):\n",
      "    right_ik_request.pose_stamp[:] = []\n",
      "    right_ik_request.pose_stamp.append(target_pose)\n",
      "    \n",
      "    try:\n",
      "        rospy.wait_for_service(right_namespace, 5.0)\n",
      "        right_ik_response = right_ik_service(right_ik_request)\n",
      "        if (right_ik_response.isValid[0]):\n",
      "            right_limb_joints = dict(zip(right_ik_response.joints[0].name, right_ik_response.joints[0].position))\n",
      "            return right_limb_joints\n",
      "        else:\n",
      "            print(\"INVALID POSE - No Valid Joint Solution Found.\")\n",
      "    except (rospy.ServiceException, rospy.ROSException), e:\n",
      "        rospy.logerr(\"Service call failed: %s\" % (e,))"
     ],
     "language": "python",
     "metadata": {},
     "outputs": [],
     "prompt_number": 8
    },
    {
     "cell_type": "code",
     "collapsed": false,
     "input": [
      "def execute_trajectory(target_joints):\n",
      "    right_arm.move_to_joint_positions(target_joints)"
     ],
     "language": "python",
     "metadata": {},
     "outputs": [],
     "prompt_number": 9
    },
    {
     "cell_type": "code",
     "collapsed": false,
     "input": [
      "def execute_retrieval():\n",
      "    print(\"\\n\\n===============    STARTING RETRIEVAL OF SELECTED TOYS NOW    ===============\")\n",
      "    success = []\n",
      "    for choice in user_choices:\n",
      "        \n",
      "        selected = animals[choice]\n",
      "    \n",
      "        for pose in selected:\n",
      "            if(pose == 'reached'):\n",
      "                fingers.close()\n",
      "                success.append(choice)\n",
      "                print(\"Picking up the \" + str(choice) + \" now!\")\n",
      "            elif(pose == 'end'):\n",
      "                fingers.open()\n",
      "                success.append(choice)\n",
      "                print(\"The retrieval of the \" + str(choice) + \" has been completed!\")\n",
      "            else:\n",
      "                solution = find_solution(pose)\n",
      "                if(solution):\n",
      "                    execute_trajectory(solution)\n",
      "                    success.append(choice)\n",
      "                else:\n",
      "                    print(\"No valid pose was found, terminating retrieval of \" + str(choice) + \"....\")\n",
      "                    print(\"Try homing the arm and try the retrieval again!\")\n",
      "                    break;\n",
      "    to_start()\n",
      "    \n",
      "    failed = [choice for choice in user_choices if choice not in success]\n",
      "    \n",
      "    print(\"\\n\\n============================\\n      RETRIEVAL SUMMARY\\n============================\")\n",
      "    \n",
      "    for animal in success:\n",
      "        print(\"The retrieval of the \" + animal + \" was successful!\")\n",
      "    \n",
      "    for animal in failed:\n",
      "        print(\"The retrieval of the \" + animal + \" failed....\")"
     ],
     "language": "python",
     "metadata": {},
     "outputs": [],
     "prompt_number": 10
    },
    {
     "cell_type": "code",
     "collapsed": false,
     "input": [
      "print(\"Getting arm into starting position\")\n",
      "to_start()"
     ],
     "language": "python",
     "metadata": {},
     "outputs": []
    },
    {
     "cell_type": "code",
     "collapsed": false,
     "input": [
      "user_choices = []\n",
      "choices = animals.keys()\n",
      "terminate = False\n",
      "\n",
      "while not terminate:\n",
      "    user_choices = []\n",
      "    print(\"Please select two animals of your choice\")\n",
      "    for i in range(2):\n",
      "        user_input = raw_input('Animal ' + str(i+1) + ' (enter q to quit): ').lower()\n",
      "    \n",
      "        if(user_input=='q'):\n",
      "            print(\"===============    TERMINATING RETRIEVAL    ===============\")\n",
      "            terminate=True\n",
      "            break\n",
      "        elif(user_input in choices and user_input not in user_choices):\n",
      "            user_choices.append(user_input)\n",
      "            print(str(user_input) + \" successfully selected!\")\n",
      "            if len(user_choices) == 2:\n",
      "                execute_retrieval()\n",
      "            if len(user_choices) == 2: \n",
      "                print('\\n\\n\\nWould you like to try retrieving other animals? (y/n)')\n",
      "                end_choice = raw_input().lower()\n",
      "                terminate = True if 'n' in end_choice else terminate\n",
      "\n",
      "        else:\n",
      "            print(\"Invalid choice, please try again.\")\n",
      "            break"
     ],
     "language": "python",
     "metadata": {},
     "outputs": [
      {
       "output_type": "stream",
       "stream": "stdout",
       "text": [
        "Please select two animals of your choice\n"
       ]
      },
      {
       "name": "stdout",
       "output_type": "stream",
       "stream": "stdout",
       "text": [
        "Animal 1 (enter q to quit): q\n"
       ]
      },
      {
       "output_type": "stream",
       "stream": "stdout",
       "text": [
        "===============    TERMINATING RETRIEVAL    ===============\n"
       ]
      }
     ],
     "prompt_number": 22
    },
    {
     "cell_type": "code",
     "collapsed": false,
     "input": [],
     "language": "python",
     "metadata": {},
     "outputs": []
    }
   ],
   "metadata": {}
  }
 ]
}