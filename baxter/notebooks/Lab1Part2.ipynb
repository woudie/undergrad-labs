{
 "cells": [
  {
   "cell_type": "code",
   "execution_count": null,
   "id": "c25ca903",
   "metadata": {},
   "outputs": [],
   "source": [
    "import pprint\n",
    "import math\n",
    "import rospy\n",
    "\n",
    "from copy import deepcopy\n",
    "from baxter_interface import (RobotEnable, Gripper, Limb)\n",
    "\n",
    "from geometry_msgs.msg import (PoseStamped, Pose, Point, Quaternion)\n",
    "from std_msgs.msg import Header\n",
    "from baxter_core_msgs.srv import (SolvePositionIK, SolvePositionIKRequest)\n",
    "pp = pprint.PrettyPrinter(indent=4)\n"
   ]
  },
  {
   "cell_type": "code",
   "execution_count": null,
   "id": "806e8f78",
   "metadata": {
    "scrolled": false
   },
   "outputs": [],
   "source": [
    "rospy.init_node('Group7Baxter')"
   ]
  },
  {
   "cell_type": "code",
   "execution_count": null,
   "id": "70785f9c",
   "metadata": {},
   "outputs": [],
   "source": [
    "baxter = RobotEnable()\n",
    "baxter.enable()"
   ]
  },
  {
   "cell_type": "code",
   "execution_count": null,
   "id": "aa233cfb",
   "metadata": {
    "scrolled": true
   },
   "outputs": [],
   "source": [
    "right_arm = Limb('right')"
   ]
  },
  {
   "cell_type": "code",
   "execution_count": null,
   "id": "bc38669c",
   "metadata": {},
   "outputs": [],
   "source": [
    "fingers = Gripper('right')\n",
    "fingers.calibrate()"
   ]
  },
  {
   "cell_type": "code",
   "execution_count": null,
   "id": "a457faba",
   "metadata": {},
   "outputs": [],
   "source": [
    "right_namespace = \"ExternalTools/right/PositionKinematicsNode/IKService\"\n",
    "\n",
    "right_ik_service = rospy.ServiceProxy(right_namespace, SolvePositionIK)\n",
    "\n",
    "right_ik_request = SolvePositionIKRequest()\n",
    "\n",
    "ik_header = Header(stamp=rospy.Time.now(), frame_id='base')"
   ]
  },
  {
   "cell_type": "code",
   "execution_count": null,
   "id": "2c2a4624",
   "metadata": {},
   "outputs": [],
   "source": [
    "def adjust_pose(target_pose):\n",
    "    adj_p1 = deepcopy(target_pose)\n",
    "    adj_p1.pose.position.x -= 0.15\n",
    "    adj_p1.pose.position.z += 0.02\n",
    "    return adj_p1"
   ]
  },
  {
   "cell_type": "code",
   "execution_count": null,
   "id": "a4a7d55b",
   "metadata": {},
   "outputs": [],
   "source": [
    "zero_pose = PoseStamped(\n",
    "            header=ik_header,\n",
    "            pose=Pose(\n",
    "                position=Point(\n",
    "                    x=0.5,\n",
    "                    y=-0.5,\n",
    "                    z=0.6,\n",
    "                ),\n",
    "                orientation=Quaternion(\n",
    "                    x=0.0,\n",
    "                    y=0.0,\n",
    "                    z=0.0,\n",
    "                    w=1.0,\n",
    "                )\n",
    "            )\n",
    "        )\n",
    "\n",
    "starting_pose = PoseStamped(\n",
    "                header=ik_header,\n",
    "                pose=Pose(\n",
    "                    position=Point(\n",
    "                        x=0.575814771825969, y=-0.6921240261798756, z=0.132303617877802\n",
    "                    ),\n",
    "                orientation=Quaternion(\n",
    "                    x=-0.035401679659970944, y=0.7351025065602724, z=-0.011401826130588908, w=0.6769350222044543\n",
    "                )\n",
    "            )\n",
    "        )\n",
    "\n",
    "\n",
    "top_left = PoseStamped(\n",
    "            header=ik_header,\n",
    "            pose=Pose(\n",
    "                position=Point(\n",
    "                    x=0.7157861729277576, y=-0.5944180233461482, z=0.14473098504048154\n",
    "                ),\n",
    "                orientation=Quaternion(\n",
    "                    x=-0.035401679659970944, y=0.7351025065602724, z=-0.011401826130588908, w=0.6769350222044543\n",
    "                )\n",
    "            )\n",
    "        )\n",
    "\n",
    "top_right = PoseStamped(\n",
    "            header=ik_header,\n",
    "            pose=Pose(\n",
    "                position=Point(\n",
    "                    x=0.7282098926508587, y=-0.8043508833787663, z=0.1451601697469714\n",
    "                ),\n",
    "                orientation=Quaternion(\n",
    "                    x=-0.035401679659970944, y=0.7351025065602724, z=-0.011401826130588908, w=0.6769350222044543\n",
    "                )\n",
    "            )\n",
    "        )\n",
    "\n",
    "bottom_left = PoseStamped(\n",
    "            header=ik_header,\n",
    "            pose=Pose(\n",
    "                position=Point(\n",
    "                    x=0.7134527406891848, y=-0.5891747770147832, z=-0.05405738045318162\n",
    "                ),\n",
    "                orientation=Quaternion(\n",
    "                    x=-0.051997633390138645, y=0.8097438412456411, z=-0.025234618335036367, w=0.5839301085952527\n",
    "                )\n",
    "            )\n",
    "        )\n",
    "\n",
    "bottom_right = PoseStamped(\n",
    "            header=ik_header,\n",
    "            pose=Pose(\n",
    "                position=Point(\n",
    "                    x=0.7249046758051918, y=-0.7983831869923568, z=-0.042637299029533254\n",
    "                ),\n",
    "                orientation=Quaternion(\n",
    "                    x=-0.051997633390138645, y=0.8097438412456411, z=-0.025234618335036367, w=0.5839301085952527\n",
    "                )\n",
    "            )\n",
    "        )\n",
    "\n",
    "basket_pose = PoseStamped(\n",
    "            header=ik_header,\n",
    "            pose=Pose(\n",
    "                position=Point(\n",
    "                    x=-0.18960557257166022, y=-0.8013329235692273, z=0.07650624118442936\n",
    "                ),\n",
    "                orientation=Quaternion(\n",
    "                    x=0.40813023278127375, y=1.9362437364362493, z=-0.2597175943373065, w=0.47320359766165804\n",
    "                ),\n",
    "            ),\n",
    "        )\n",
    "\n",
    "adj_pose = adjust_pose(top_left)\n",
    "kangaroo = [starting_pose, adj_pose, top_left, 'reached', adj_pose, starting_pose, basket_pose, 'end']\n",
    "\n",
    "adj_pose = adjust_pose(top_right)\n",
    "hippo = [starting_pose, adj_pose, top_right, 'reached', adj_pose, starting_pose, basket_pose, 'end']\n",
    "\n",
    "adj_pose = adjust_pose(bottom_left)\n",
    "deer = [starting_pose, adj_pose, bottom_left, 'reached', adj_pose, starting_pose, basket_pose, 'end']\n",
    "\n",
    "adj_pose = adjust_pose(bottom_right)\n",
    "lion = [starting_pose, adj_pose, bottom_right, 'reached', adj_pose, starting_pose, basket_pose, 'end']\n",
    "\n",
    "animals = {'kangaroo': kangaroo, 'hippo': hippo, 'deer': deer, 'lion': lion}"
   ]
  },
  {
   "cell_type": "code",
   "execution_count": null,
   "id": "108b7dbd",
   "metadata": {},
   "outputs": [],
   "source": [
    "def find_solution(target_pose):\n",
    "    right_ik_request.pose_stamp[:] = []\n",
    "    right_ik_request.pose_stamp.append(target_pose)\n",
    "\n",
    "    print right_ik_request.pose_stamp\n",
    "    try:\n",
    "        rospy.wait_for_service(right_namespace, 5.0)\n",
    "        right_ik_response = right_ik_service(right_ik_request)\n",
    "        if (right_ik_response.isValid[0]):\n",
    "            right_limb_joints = dict(zip(right_ik_response.joints[0].name, right_ik_response.joints[0].position))\n",
    "            pp.pprint(right_limb_joints)\n",
    "            return right_limb_joints\n",
    "        else:\n",
    "            print(\"INVALID POSE - No Valid Joint Solution Found.\")\n",
    "    except (rospy.ServiceException, rospy.ROSException), e:\n",
    "        rospy.logerr(\"Service call failed: %s\" % (e,))"
   ]
  },
  {
   "cell_type": "code",
   "execution_count": null,
   "id": "2b615241",
   "metadata": {},
   "outputs": [],
   "source": [
    "def execute_trajectory(target_joints):\n",
    "    right_arm.move_to_joint_positions(target_joints)"
   ]
  },
  {
   "cell_type": "code",
   "execution_count": null,
   "id": "cf330204",
   "metadata": {
    "scrolled": true
   },
   "outputs": [],
   "source": [
    "user_choices = []\n",
    "choices = animals.keys()\n",
    "\n",
    "print(\"Please select two animals of your choice\")\n",
    "for i in range(2):\n",
    "    user_input = raw_input('Animal ' + str(i+1) + ': ').lower()\n",
    "\n",
    "    if(user_input in choices):\n",
    "        user_choices.append(user_input)\n",
    "        print(str(user_input) + \" successfully selected!\")\n",
    "    else:\n",
    "        print(\"Invalid choice, please try again.\")"
   ]
  },
  {
   "cell_type": "code",
   "execution_count": null,
   "id": "beab664f",
   "metadata": {},
   "outputs": [],
   "source": [
    "success = []\n",
    "for choice in user_choices:\n",
    "    \n",
    "    selected = animals[choice]\n",
    "\n",
    "    for pose in selected:\n",
    "        if(pose == 'reached'):\n",
    "            fingers.close()\n",
    "            print(\"Picking up the \" + str(choice) + \" now!\")\n",
    "        elif(pose == 'end'):\n",
    "            fingers.open()\n",
    "            print(\"The retrieval of the \" + str(choice) + \" has been completed!\")\n",
    "        else:\n",
    "            solution = find_solution(pose)\n",
    "            if(solution):\n",
    "                execute_trajectory(solution)\n",
    "            else:\n",
    "                print(\"No valid pose was found, terminating retrieval of ....\")\n",
    "                print(\"Try homing the arm and try the retrieval again!\")\n",
    "                break;\n",
    "    success.append(choice)"
   ]
  },
  {
   "cell_type": "code",
   "execution_count": null,
   "id": "40124108",
   "metadata": {},
   "outputs": [],
   "source": [
    "failed = [choice for choice in user_choices if choice not in success]\n",
    "\n",
    "print(\"============================\\n      RETRIEVAL SUMMARY\\n============================\")\n",
    "\n",
    "for animal in success:\n",
    "    print(\"The retrieval of the \" + animal + \" was successful!\")\n",
    "\n",
    "for animal in failed:\n",
    "    print(\"The retrieval of the \" + animal + \" failed....\")\n",
    "    "
   ]
  },
  {
   "cell_type": "code",
   "execution_count": null,
   "id": "9849894f",
   "metadata": {},
   "outputs": [],
   "source": []
  }
 ],
 "metadata": {
  "kernelspec": {
   "display_name": "Python 2.7.17 64-bit",
   "language": "python",
   "name": "python2717jvsc74a57bd0767d51c1340bd893661ea55ea3124f6de3c7a262a8b4abca0554b478b1e2ff90"
  },
  "language_info": {
   "codemirror_mode": {
    "name": "ipython",
    "version": 2
   },
   "file_extension": ".py",
   "mimetype": "text/x-python",
   "name": "python",
   "nbconvert_exporter": "python",
   "pygments_lexer": "ipython2",
   "version": "2.7.17"
  }
 },
 "nbformat": 4,
 "nbformat_minor": 5
}
