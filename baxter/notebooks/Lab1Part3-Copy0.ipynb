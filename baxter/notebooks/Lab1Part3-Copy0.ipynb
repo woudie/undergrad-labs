{
 "metadata": {
  "name": ""
 },
 "nbformat": 3,
 "nbformat_minor": 0,
 "worksheets": [
  {
   "cells": [
    {
     "cell_type": "code",
     "collapsed": false,
     "input": [
      "import os\n",
      "import sys\n",
      "import math\n",
      "sys.path.insert(0, '../libraries')\n",
      "\n",
      "import pprint\n",
      "import rospy\n",
      "\n",
      "from copy import deepcopy\n",
      "from baxter_interface import (RobotEnable, Gripper, CameraController, Limb)\n",
      "from baxter_core_msgs.srv import (SolvePositionIK, SolvePositionIKRequest)\n",
      "\n",
      "import cv2\n",
      "import cv_bridge\n",
      "from cv_bridge import (CvBridge, CvBridgeError)\n",
      "\n",
      "from geometry_msgs.msg import (PoseStamped, Pose, Point, Quaternion)\n",
      "from sensor_msgs.msg import (Image, Range)\n",
      "from std_msgs.msg import Header\n",
      "\n",
      "import requests\n",
      "import cv2\n",
      "import matplotlib.pyplot as plt\n",
      "import numpy as np\n",
      "\n",
      "from uogbaxter.detect import detect_toy\n",
      "\n",
      "pp = pprint.PrettyPrinter(indent=4)\n",
      "bridge = CvBridge()"
     ],
     "language": "python",
     "metadata": {},
     "outputs": [],
     "prompt_number": 1
    },
    {
     "cell_type": "code",
     "collapsed": false,
     "input": [
      "rospy.init_node('Group7Baxter')"
     ],
     "language": "python",
     "metadata": {},
     "outputs": [
      {
       "output_type": "stream",
       "stream": "stdout",
       "text": [
        "Unable to register with master node [http://localhost:11311]: master may not be running yet. Will keep trying.\n"
       ]
      }
     ],
     "prompt_number": 2
    },
    {
     "cell_type": "code",
     "collapsed": false,
     "input": [
      "baxter = RobotEnable()\n",
      "baxter.enable()"
     ],
     "language": "python",
     "metadata": {},
     "outputs": []
    },
    {
     "cell_type": "code",
     "collapsed": false,
     "input": [
      "right_hand_camera = CameraController('right_hand_camera')"
     ],
     "language": "python",
     "metadata": {},
     "outputs": []
    },
    {
     "cell_type": "code",
     "collapsed": false,
     "input": [
      "right_hand_camera.resolution = (960, 600)\n",
      "right_hand_camera.gain = 0\n",
      "right_hand_camera.open()"
     ],
     "language": "python",
     "metadata": {},
     "outputs": []
    },
    {
     "cell_type": "code",
     "collapsed": false,
     "input": [
      "right_arm = baxter_interface.Limb('right')"
     ],
     "language": "python",
     "metadata": {},
     "outputs": []
    },
    {
     "cell_type": "code",
     "collapsed": false,
     "input": [
      "fingers = Gripper('right')\n",
      "fingers.calibrate()"
     ],
     "language": "python",
     "metadata": {},
     "outputs": []
    },
    {
     "cell_type": "code",
     "collapsed": false,
     "input": [
      "class BaxterDetect(object):\n",
      "    def __init__(self):\n",
      "        self.distance = 0\n",
      "        self.current_img = None\n",
      "        sensor_topic = \"/robot/range/right_hand_range/state\"\n",
      "        right_hand_image_topic = '/cameras/right_hand_camera/image'\n",
      "        display_topic = '/robot/xdisplay'\n",
      "        \n",
      "        self.__right_sensor = rospy.Subscriber(sensor_topic, Range, callback=self.__sensorCallback, queue_size=1)\n",
      "        right_hand_image_subscriber = rospy.Subscriber(right_hand_image_topic, Image, callback=self.__processImageCallback, queue_size=1)\n",
      "        self.__display_publisher = rospy.Publisher(display_topic, Image, queue_size=1)\n",
      "\n",
      "    def __sensorCallback(self,msg):\n",
      "       self.distance = msg.range\n",
      "\n",
      "    def __processImageCallback(self, message):\n",
      "        # convert ROS iamge to OpenCV image\n",
      "        cv2_image = bridge.imgmsg_to_cv2(message)\n",
      "        self.current_img = cv2_image\n",
      "        # this is where we do our image processing. \n",
      "        # We're just going to draw a red rectangle and the distance we previously got from our distance sensor\n",
      "        # note, that in OpenCV, colors are represented as (blue, green, red), rather than RGB\n",
      "        cv2.rectangle(\n",
      "                      cv2_image,\n",
      "                      pt1=(280,200),\n",
      "                      pt2=(680,400),\n",
      "                      color=(0,0,255),\n",
      "                      thickness=5\n",
      "                      )\n",
      "        cv2.putText(\n",
      "                    cv2_image,\n",
      "                    text='%.2f' % self.distance,\n",
      "                    org=(400,500),\n",
      "                    fontFace=cv2.FONT_HERSHEY_SIMPLEX,\n",
      "                    fontScale=2,\n",
      "                    color=(255,255,0)\n",
      "                    )\n",
      "\n",
      "        # convert OpenCV image back to ROS image\n",
      "        ros_image = bridge.cv2_to_imgmsg(cv2_image)\n",
      "        \n",
      "        # publish our modified image to the display\n",
      "        self.__display_publisher.publish(ros_image)\n",
      "\n",
      "    def findToy(self):\n",
      "        try:\n",
      "            if(self.current_img):\n",
      "                return detect_toy(self.current_img)\n",
      "            else:\n",
      "                print(\"No image received yet, make sure camera is online\")\n",
      "        except KeyError:\n",
      "            print(\"No animals found\")"
     ],
     "language": "python",
     "metadata": {},
     "outputs": []
    },
    {
     "cell_type": "code",
     "collapsed": false,
     "input": [
      "baxter_detect = BaxterDetect()"
     ],
     "language": "python",
     "metadata": {},
     "outputs": []
    },
    {
     "cell_type": "code",
     "collapsed": false,
     "input": [
      "search_pose = PoseStamped(\n",
      "                header=ik_header,\n",
      "                pose=Pose(\n",
      "                    position=Point(\n",
      "                        x=0.08875861702231123, y=-0.6297043067000607, z=0.20182373018112598\n",
      "                    ),\n",
      "                orientation=Quaternion(\n",
      "                    x=-0.1623555188763637, y=0.9297364790609612, z=0.0033825976491170247, w=0.3304834686135718\n",
      "                )\n",
      "            )\n",
      "        )"
     ],
     "language": "python",
     "metadata": {},
     "outputs": []
    },
    {
     "cell_type": "code",
     "collapsed": false,
     "input": [],
     "language": "python",
     "metadata": {},
     "outputs": []
    },
    {
     "cell_type": "code",
     "collapsed": false,
     "input": [
      "def find_solution(target_pose):\n",
      "    right_ik_request.pose_stamp[:] = []\n",
      "    right_ik_request.pose_stamp.append(target_pose)\n",
      "    \n",
      "    try:\n",
      "        rospy.wait_for_service(right_namespace, 5.0)\n",
      "        right_ik_response = right_ik_service(right_ik_request)\n",
      "        if (right_ik_response.isValid[0]):\n",
      "            right_limb_joints = dict(zip(right_ik_response.joints[0].name, right_ik_response.joints[0].position))\n",
      "            return right_limb_joints\n",
      "        else:\n",
      "            print(\"INVALID POSE - No Valid Joint Solution Found.\")\n",
      "    except (rospy.ServiceException, rospy.ROSException), e:\n",
      "        rospy.logerr(\"Service call failed: %s\" % (e,))"
     ],
     "language": "python",
     "metadata": {},
     "outputs": []
    },
    {
     "cell_type": "code",
     "collapsed": false,
     "input": [
      "def execute_trajectory(target_joints):\n",
      "    right_arm.move_to_joint_positions(target_joints)"
     ],
     "language": "python",
     "metadata": {},
     "outputs": []
    },
    {
     "cell_type": "code",
     "collapsed": false,
     "input": [
      "def to_search():\n",
      "    search_joints = find_solution(search_pose)\n",
      "    if(search_joints):\n",
      "        execute_trajectory(search_joints)\n",
      "    else:\n",
      "        print(\"Could not move to search position, check orientation of arm\")"
     ],
     "language": "python",
     "metadata": {},
     "outputs": []
    },
    {
     "cell_type": "code",
     "collapsed": false,
     "input": [
      "def execute_retrieval():\n",
      "    print(\"===============    STARTING RETRIEVAL PROCESS NOW    ===============\")\n",
      "    success = []\n",
      "    for choice in user_choices:\n",
      "        \n",
      "        selected = animals[choice]\n",
      "    \n",
      "        for pose in selected:\n",
      "            if(pose == 'reached'):\n",
      "                fingers.close()\n",
      "                success.append(choice)\n",
      "                print(\"Picking up the \" + str(choice) + \" now!\")\n",
      "            elif(pose == 'end'):\n",
      "                fingers.open()\n",
      "                success.append(choice)\n",
      "                print(\"The retrieval of the \" + str(choice) + \" has been completed!\")\n",
      "            else:\n",
      "                solution = find_solution(pose)\n",
      "                if(solution):\n",
      "                    execute_trajectory(solution)\n",
      "                    success.append(choice)\n",
      "                else:\n",
      "                    print(\"No valid pose was found, terminating retrieval of \" + str(choice) + \"....\")\n",
      "                    print(\"Try homing the arm and try the retrieval again!\")\n",
      "                    break;\n",
      "    to_start()\n",
      "    \n",
      "    failed = [choice for choice in user_choices if choice not in success]\n",
      "    \n",
      "    print(\"\\n\\n============================\\n      RETRIEVAL SUMMARY\\n============================\")\n",
      "    \n",
      "    for animal in success:\n",
      "        print(\"The retrieval of the \" + animal + \" was successful!\")\n",
      "    \n",
      "    for animal in failed:\n",
      "        print(\"The retrieval of the \" + animal + \" failed....\")"
     ],
     "language": "python",
     "metadata": {},
     "outputs": []
    },
    {
     "cell_type": "code",
     "collapsed": false,
     "input": [],
     "language": "python",
     "metadata": {},
     "outputs": []
    },
    {
     "cell_type": "code",
     "collapsed": false,
     "input": [],
     "language": "python",
     "metadata": {},
     "outputs": []
    },
    {
     "cell_type": "code",
     "collapsed": false,
     "input": [
      "            user_choices.append(user_input)\n",
      "            print(str(user_input) + \" successfully selected!\")\n",
      "            if len(user_choices) == 2:\n",
      "                execute_retrieval()\n",
      "            if len(user_choices) == 2: \n",
      "                print('\\n\\n\\nWould you like to try retrieving other animals? (y/n)')\n",
      "                end_choice = raw_input().lower()\n",
      "                terminate = True if 'n' in end_choice else terminate"
     ],
     "language": "python",
     "metadata": {},
     "outputs": []
    },
    {
     "cell_type": "code",
     "collapsed": false,
     "input": [
      "user_choice = None\n",
      "choices = animals.keys()\n",
      "terminate = False\n",
      "\n",
      "while not terminate:\n",
      "    global user_choices = None\n",
      "    for i in range(2):\n",
      "        user_choice = raw_input('What animal are you looking for?').lower()\n",
      "        if(user_input==\"ostrich\")\n",
      "            pass # Do the search stuff here\n",
      "        elif(user_input in choices):\n",
      "            print('Valid selection, but these toys are unavaibale at the moment....')\n",
      "        else:\n",
      "            print(\"Invalid selection, please try again.\")\n",
      "            break\n"
     ],
     "language": "python",
     "metadata": {},
     "outputs": []
    }
   ],
   "metadata": {}
  }
 ]
}