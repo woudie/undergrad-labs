{
 "metadata": {
  "name": ""
 },
 "nbformat": 3,
 "nbformat_minor": 0,
 "worksheets": [
  {
   "cells": [
    {
     "cell_type": "code",
     "collapsed": false,
     "input": [
      "import os\n",
      "import sys\n",
      "import math\n",
      "sys.path.insert(0, '../libraries')\n",
      "\n",
      "import pprint\n",
      "import rospy\n",
      "\n",
      "from copy import deepcopy\n",
      "from baxter_interface import (RobotEnable, Gripper, CameraController, Limb)\n",
      "from baxter_core_msgs.srv import (SolvePositionIK, SolvePositionIKRequest)\n",
      "\n",
      "import cv2\n",
      "import cv_bridge\n",
      "from cv_bridge import (CvBridge, CvBridgeError)\n",
      "\n",
      "from geometry_msgs.msg import (PoseStamped, Pose, Point, Quaternion)\n",
      "from sensor_msgs.msg import (Image, Range)\n",
      "from std_msgs.msg import Header\n",
      "\n",
      "import requests\n",
      "import cv2\n",
      "import matplotlib.pyplot as plt\n",
      "import numpy as np\n",
      "\n",
      "from uogbaxter.detect import detect_toy\n",
      "\n",
      "pp = pprint.PrettyPrinter(indent=4)\n",
      "bridge = CvBridge()"
     ],
     "language": "python",
     "metadata": {},
     "outputs": [],
     "prompt_number": 1
    },
    {
     "cell_type": "code",
     "collapsed": false,
     "input": [
      "rospy.init_node('Group7Baxter')"
     ],
     "language": "python",
     "metadata": {},
     "outputs": [],
     "prompt_number": 2
    },
    {
     "cell_type": "code",
     "collapsed": false,
     "input": [
      "baxter = RobotEnable()\n",
      "baxter.enable()"
     ],
     "language": "python",
     "metadata": {},
     "outputs": [
      {
       "output_type": "stream",
       "stream": "stdout",
       "text": [
        "[INFO] [WallTime: 1633294252.068367] Robot Enabled\n"
       ]
      }
     ],
     "prompt_number": 3
    },
    {
     "cell_type": "code",
     "collapsed": false,
     "input": [
      "right_hand_camera = CameraController('right_hand_camera')"
     ],
     "language": "python",
     "metadata": {},
     "outputs": [],
     "prompt_number": 4
    },
    {
     "cell_type": "code",
     "collapsed": false,
     "input": [
      "right_hand_camera.resolution = (960, 600)\n",
      "right_hand_camera.gain = 0\n",
      "right_hand_camera.open()"
     ],
     "language": "python",
     "metadata": {},
     "outputs": [],
     "prompt_number": 5
    },
    {
     "cell_type": "code",
     "collapsed": false,
     "input": [
      "right_arm = Limb('right')"
     ],
     "language": "python",
     "metadata": {},
     "outputs": [],
     "prompt_number": 6
    },
    {
     "cell_type": "code",
     "collapsed": false,
     "input": [
      "fingers = Gripper('right')\n",
      "fingers.calibrate()"
     ],
     "language": "python",
     "metadata": {},
     "outputs": [
      {
       "metadata": {},
       "output_type": "pyout",
       "prompt_number": 7,
       "text": [
        "True"
       ]
      }
     ],
     "prompt_number": 7
    },
    {
     "cell_type": "code",
     "collapsed": false,
     "input": [
      "def pixels_to_m(pixels):\n",
      "    return 0.0002645833*pixels"
     ],
     "language": "python",
     "metadata": {},
     "outputs": [],
     "prompt_number": 4
    },
    {
     "cell_type": "code",
     "collapsed": false,
     "input": [
      "class BaxterDetect(object):\n",
      "    def __init__(self):\n",
      "        self.distance = 0\n",
      "        self.current_img = None\n",
      "        sensor_topic = \"/robot/range/right_hand_range/state\"\n",
      "        right_hand_image_topic = '/cameras/right_hand_camera/image'\n",
      "        display_topic = '/robot/xdisplay'\n",
      "        \n",
      "        self.__right_sensor = rospy.Subscriber(sensor_topic, Range, callback=self.__sensorCallback, queue_size=1)\n",
      "        right_hand_image_subscriber = rospy.Subscriber(right_hand_image_topic, Image, callback=self.__processImageCallback, queue_size=1)\n",
      "        self.__display_publisher = rospy.Publisher(display_topic, Image, queue_size=1)\n",
      "\n",
      "    def __sensorCallback(self,msg):\n",
      "       self.distance = msg.range\n",
      "\n",
      "    def __processImageCallback(self, message):\n",
      "        # convert ROS iamge to OpenCV image\n",
      "        cv2_image = bridge.imgmsg_to_cv2(message)\n",
      "        self.current_img = cv2_image\n",
      "        # this is where we do our image processing. \n",
      "        # We're just going to draw a red rectangle and the distance we previously got from our distance sensor\n",
      "        # note, that in OpenCV, colors are represented as (blue, green, red), rather than RGB\n",
      "        cv2.rectangle(\n",
      "                      cv2_image,\n",
      "                      pt1=(280,200),\n",
      "                      pt2=(680,400),\n",
      "                      color=(0,0,255),\n",
      "                      thickness=5\n",
      "                      )\n",
      "        cv2.putText(\n",
      "                    cv2_image,\n",
      "                    text='%.2f' % self.distance,\n",
      "                    org=(400,500),\n",
      "                    fontFace=cv2.FONT_HERSHEY_SIMPLEX,\n",
      "                    fontScale=2,\n",
      "                    color=(255,255,0)\n",
      "                    )\n",
      "\n",
      "        # convert OpenCV image back to ROS image\n",
      "        ros_image = bridge.cv2_to_imgmsg(cv2_image)\n",
      "        \n",
      "        # publish our modified image to the display\n",
      "        self.__display_publisher.publish(ros_image)\n",
      "\n",
      "    def findToy(self):\n",
      "        try:\n",
      "            if(self.current_img):\n",
      "                return detect_toy(self.current_img)\n",
      "            else:\n",
      "                print(\"No image received yet, make sure camera is online\")\n",
      "        except KeyError:\n",
      "            print(\"No animals found\")"
     ],
     "language": "python",
     "metadata": {},
     "outputs": [],
     "prompt_number": 33
    },
    {
     "cell_type": "code",
     "collapsed": false,
     "input": [
      "baxter_detect = BaxterDetect()"
     ],
     "language": "python",
     "metadata": {},
     "outputs": [],
     "prompt_number": 34
    },
    {
     "cell_type": "code",
     "collapsed": false,
     "input": [],
     "language": "python",
     "metadata": {},
     "outputs": [
      {
       "output_type": "stream",
       "stream": "stdout",
       "text": [
        "{'confidence': u'0.8095', 'angle': -11.309932708740234, 'center': (213, 126), 'bounding_box': [187, 82, 56, 75], 'min_rectangle': [(199, 163), (186, 98), (227, 90), (240, 155)], 'animal': u'ostrich'}\n"
       ]
      }
     ],
     "prompt_number": 63
    },
    {
     "cell_type": "code",
     "collapsed": false,
     "input": [
      "def get_pose():\n",
      "    right_angles = right_arm.joint_angles()\n",
      "    pp.pprint(right_arm.endpoint_pose())"
     ],
     "language": "python",
     "metadata": {},
     "outputs": [],
     "prompt_number": 64
    },
    {
     "cell_type": "code",
     "collapsed": false,
     "input": [
      "right_namespace = \"ExternalTools/right/PositionKinematicsNode/IKService\"\n",
      "\n",
      "right_ik_service = rospy.ServiceProxy(right_namespace, SolvePositionIK)\n",
      "\n",
      "right_ik_request = SolvePositionIKRequest()\n",
      "\n",
      "ik_header = Header(stamp=rospy.Time.now(), frame_id='base')"
     ],
     "language": "python",
     "metadata": {},
     "outputs": []
    },
    {
     "cell_type": "code",
     "collapsed": false,
     "input": [
      "get_pose()\n",
      "\n",
      "'''\n",
      "{   'orientation': Quaternion(x=-0.1623555188763637, y=0.9297364790609612, z=0.0033825976491170247, w=0.3304834686135718),\n",
      "    'position': Point(x=0.08875861702231123, y=-0.6297043067000607, z=0.20182373018112598)}\n",
      "'''"
     ],
     "language": "python",
     "metadata": {},
     "outputs": [
      {
       "output_type": "stream",
       "stream": "stdout",
       "text": [
        "{   'orientation': Quaternion(x=-0.1623555188763637, y=0.9297364790609612, z=0.0033825976491170247, w=0.3304834686135718),\n",
        "    'position': Point(x=0.08875861702231123, y=-0.6297043067000607, z=0.20182373018112598)}\n"
       ]
      }
     ],
     "prompt_number": 65
    },
    {
     "cell_type": "code",
     "collapsed": false,
     "input": [
      "def adjust_pose(target_pose):\n",
      "    adj_p1 = deepcopy(target_pose)\n",
      "    adj_p1.pose.position.x -= 0.15\n",
      "    adj_p1.pose.position.z += 0.02\n",
      "    return adj_p1"
     ],
     "language": "python",
     "metadata": {},
     "outputs": []
    },
    {
     "cell_type": "code",
     "collapsed": false,
     "input": [
      "zero_pose = PoseStamped(\n",
      "            header=ik_header,\n",
      "            pose=Pose(\n",
      "                position=Point(\n",
      "                    x=0.5,\n",
      "                    y=-0.5,\n",
      "                    z=0.6,\n",
      "                ),\n",
      "                orientation=Quaternion(\n",
      "                    x=0.0,\n",
      "                    y=0.0,\n",
      "                    z=0.0,\n",
      "                    w=1.0,\n",
      "                )\n",
      "            )\n",
      "        )\n",
      "\n",
      "starting_pose = PoseStamped(\n",
      "                header=ik_header,\n",
      "                pose=Pose(\n",
      "                    position=Point(\n",
      "                        x=0.575814771825969, y=-0.6921240261798756, z=0.132303617877802\n",
      "                    ),\n",
      "                orientation=Quaternion(\n",
      "                    x=-0.035401679659970944, y=0.7351025065602724, z=-0.011401826130588908, w=0.6769350222044543\n",
      "                )\n",
      "            )\n",
      "        )\n",
      "\n",
      "\n",
      "top_left = PoseStamped(\n",
      "            header=ik_header,\n",
      "            pose=Pose(\n",
      "                position=Point(\n",
      "                    x=0.7157861729277576, y=-0.5944180233461482, z=0.14473098504048154\n",
      "                ),\n",
      "                orientation=Quaternion(\n",
      "                    x=-0.035401679659970944, y=0.7351025065602724, z=-0.011401826130588908, w=0.6769350222044543\n",
      "                )\n",
      "            )\n",
      "        )\n",
      "\n",
      "top_right = PoseStamped(\n",
      "            header=ik_header,\n",
      "            pose=Pose(\n",
      "                position=Point(\n",
      "                    x=0.7282098926508587, y=-0.8043508833787663, z=0.1451601697469714\n",
      "                ),\n",
      "                orientation=Quaternion(\n",
      "                    x=-0.035401679659970944, y=0.7351025065602724, z=-0.011401826130588908, w=0.6769350222044543\n",
      "                )\n",
      "            )\n",
      "        )\n",
      "\n",
      "bottom_left = PoseStamped(\n",
      "            header=ik_header,\n",
      "            pose=Pose(\n",
      "                position=Point(\n",
      "                    x=0.7134527406891848, y=-0.5891747770147832, z=-0.05405738045318162\n",
      "                ),\n",
      "                orientation=Quaternion(\n",
      "                    x=-0.051997633390138645, y=0.8097438412456411, z=-0.025234618335036367, w=0.5839301085952527\n",
      "                )\n",
      "            )\n",
      "        )\n",
      "\n",
      "bottom_right = PoseStamped(\n",
      "            header=ik_header,\n",
      "            pose=Pose(\n",
      "                position=Point(\n",
      "                    x=0.7249046758051918, y=-0.7983831869923568, z=-0.042637299029533254\n",
      "                ),\n",
      "                orientation=Quaternion(\n",
      "                    x=-0.051997633390138645, y=0.8097438412456411, z=-0.025234618335036367, w=0.5839301085952527\n",
      "                )\n",
      "            )\n",
      "        )\n",
      "\n",
      "basket_pose = PoseStamped(\n",
      "            header=ik_header,\n",
      "            pose=Pose(\n",
      "                position=Point(\n",
      "                    x=-0.18960557257166022, y=-0.8013329235692273, z=0.07650624118442936\n",
      "                ),\n",
      "                orientation=Quaternion(\n",
      "                    x=0.40813023278127375, y=1.9362437364362493, z=-0.2597175943373065, w=0.47320359766165804\n",
      "                ),\n",
      "            ),\n",
      "        )\n",
      "\n",
      "adj_pose = adjust_pose(top_left)\n",
      "kangaroo = [starting_pose, adj_pose, top_left, 'reached', adj_pose, starting_pose, basket_pose, 'end']\n",
      "\n",
      "adj_pose = adjust_pose(top_right)\n",
      "hippo = [starting_pose, adj_pose, top_right, 'reached', adj_pose, starting_pose, basket_pose, 'end']\n",
      "\n",
      "adj_pose = adjust_pose(bottom_left)\n",
      "ostrich = [starting_pose, adj_pose, bottom_left, 'reached', adj_pose, starting_pose, basket_pose, 'end']\n",
      "\n",
      "adj_pose = adjust_pose(bottom_right)\n",
      "camel = [starting_pose, adj_pose, bottom_right, 'reached', adj_pose, starting_pose, basket_pose, 'end']\n",
      "\n",
      "animals = {'kangaroo': kangaroo, 'hippo': hippo, 'ostrich': ostrich, 'camel': camel}\n"
     ],
     "language": "python",
     "metadata": {},
     "outputs": []
    },
    {
     "cell_type": "code",
     "collapsed": false,
     "input": [
      "def to_start():\n",
      "    start_joints = find_solution(starting_pose)\n",
      "    if(start_joints):\n",
      "        execute_trajectory(start_joints)\n",
      "    else:\n",
      "        print(\"Could not move to start position, check orientation of arm\")"
     ],
     "language": "python",
     "metadata": {},
     "outputs": []
    },
    {
     "cell_type": "code",
     "collapsed": false,
     "input": [
      "def find_solution(target_pose):\n",
      "    right_ik_request.pose_stamp[:] = []\n",
      "    right_ik_request.pose_stamp.append(target_pose)\n",
      "    \n",
      "    try:\n",
      "        rospy.wait_for_service(right_namespace, 5.0)\n",
      "        right_ik_response = right_ik_service(right_ik_request)\n",
      "        if (right_ik_response.isValid[0]):\n",
      "            right_limb_joints = dict(zip(right_ik_response.joints[0].name, right_ik_response.joints[0].position))\n",
      "            return right_limb_joints\n",
      "        else:\n",
      "            print(\"INVALID POSE - No Valid Joint Solution Found.\")\n",
      "    except (rospy.ServiceException, rospy.ROSException), e:\n",
      "        rospy.logerr(\"Service call failed: %s\" % (e,))"
     ],
     "language": "python",
     "metadata": {},
     "outputs": []
    },
    {
     "cell_type": "code",
     "collapsed": false,
     "input": [
      "def execute_trajectory(target_joints):\n",
      "    right_arm.move_to_joint_positions(target_joints)"
     ],
     "language": "python",
     "metadata": {},
     "outputs": []
    },
    {
     "cell_type": "code",
     "collapsed": false,
     "input": [
      "print(\"Getting arm into starting position\")\n",
      "to_start()"
     ],
     "language": "python",
     "metadata": {},
     "outputs": []
    },
    {
     "cell_type": "code",
     "collapsed": false,
     "input": [
      "user_choices = []\n",
      "choices = animals.keys()\n",
      "\n",
      "print(\"Please select two animals of your choice\")\n",
      "for i in range(2):\n",
      "    user_input = raw_input('Animal ' + str(i+1) + ': ').lower()\n",
      "\n",
      "    if(user_input in choices):\n",
      "        user_choices.append(user_input)\n",
      "        print(str(user_input) + \" successfully selected!\")\n",
      "    else:\n",
      "        print(\"Invalid choice, please try again.\")"
     ],
     "language": "python",
     "metadata": {},
     "outputs": []
    },
    {
     "cell_type": "code",
     "collapsed": false,
     "input": [
      "success = []\n",
      "for choice in user_choices:\n",
      "    \n",
      "    selected = animals[choice]\n",
      "\n",
      "    for pose in selected:\n",
      "        if(pose == 'reached'):\n",
      "            fingers.close()\n",
      "            print(\"Picking up the \" + str(choice) + \" now!\")\n",
      "        elif(pose == 'end'):\n",
      "            fingers.open()\n",
      "            print(\"The retrieval of the \" + str(choice) + \" has been completed!\")\n",
      "        else:\n",
      "            solution = find_solution(pose)\n",
      "            if(solution):\n",
      "                execute_trajectory(solution)\n",
      "            else:\n",
      "                print(\"No valid pose was found, terminating retrieval of ....\")\n",
      "                print(\"Try homing the arm and try the retrieval again!\")\n",
      "                break;\n",
      "    success.append(choice)\n",
      "to_start()"
     ],
     "language": "python",
     "metadata": {},
     "outputs": []
    },
    {
     "cell_type": "code",
     "collapsed": false,
     "input": [
      "failed = [choice for choice in user_choices if choice not in success]\n",
      "\n",
      "print(\"============================\\n      RETRIEVAL SUMMARY\\n============================\")\n",
      "\n",
      "for animal in success:\n",
      "    print(\"The retrieval of the \" + animal + \" was successful!\")\n",
      "\n",
      "for animal in failed:\n",
      "    print(\"The retrieval of the \" + animal + \" failed....\")\n",
      "    \n"
     ],
     "language": "python",
     "metadata": {},
     "outputs": []
    },
    {
     "cell_type": "code",
     "collapsed": false,
     "input": [],
     "language": "python",
     "metadata": {},
     "outputs": []
    }
   ],
   "metadata": {}
  }
 ]
}